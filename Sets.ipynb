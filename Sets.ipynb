{
 "cells": [
  {
   "cell_type": "markdown",
   "id": "c4b60187",
   "metadata": {},
   "source": [
    "## Set(s) :\n",
    "Sets are used to store multiple items in a single variable.\n",
    "\n",
    "Set is one of 4 built-in data types in Python used to store collections of data, the other 3 are List, Tuple, and Dictionary, all with different qualities and usage.\n",
    "\n",
    "A set is a collection which is unordered, unchangeable*, and unindexed.\n",
    "*  Note: Set items are unchangeable, but you can remove items and add new items.\n",
    "### Set Items\n",
    "Set items are unordered, unchangeable, and do not allow duplicate values.\n",
    "\n",
    "### Unordered\n",
    "Unordered means that the items in a set do not have a defined order.\n",
    "\n",
    "Set items can appear in a different order every time you use them, and cannot be referred to by index or key.\n",
    "### Unchangeable\n",
    "Set items are unchangeable, meaning that we cannot change the items after the set has been created.\n",
    "\n",
    "Once a set is created, you cannot change its items, but you can remove items and add new items.\n",
    "### Duplicates Not Allowed\n",
    "Sets cannot have two items with the same value.\n",
    "### Get the Length of a Set\n",
    "To determine how many items a set has, use the len() function.\n",
    "### The set() Constructor\n",
    "It is also possible to use the set() constructor to make a set.\n",
    "###### Example : \n",
    "thisset = set((\"apple\", \"banana\", \"cherry\")) #note the double round-brackets\n",
    "\n",
    "\n",
    "print(thisset)\n",
    "\n"
   ]
  },
  {
   "cell_type": "code",
   "execution_count": 79,
   "id": "70911d19",
   "metadata": {},
   "outputs": [
    {
     "name": "stdout",
     "output_type": "stream",
     "text": [
      "set()\n",
      "<class 'set'>\n",
      "0\n",
      "0x196538bcf20\n"
     ]
    }
   ],
   "source": [
    "x = set() # creating set\n",
    "print(x,type(x),len(x),hex(id(x)), sep='\\n')"
   ]
  },
  {
   "cell_type": "code",
   "execution_count": 80,
   "id": "e3918f89",
   "metadata": {},
   "outputs": [
    {
     "name": "stdout",
     "output_type": "stream",
     "text": [
      "{1, 2.2, <built-in function print>, (3+3j), 'five', <class 'range'>}\n",
      "<class 'set'>\n",
      "6\n",
      "0x196538bc200\n",
      "{1, 2.2, <built-in function print>, (3+3j), 'five', <class 'range'>}\n",
      "<class 'set'>\n",
      "6\n",
      "0x196538bc200\n"
     ]
    }
   ],
   "source": [
    "x,y = {1,2.2,3+3j,'five',print,range,True},set([1,2.2,3+3j,'five',print,range,True])\n",
    "print(x,type(x),len(x),hex(id(x)), sep='\\n')\n",
    "print(y,type(y),len(y),hex(id(x)), sep='\\n')"
   ]
  },
  {
   "cell_type": "code",
   "execution_count": 81,
   "id": "f61e3152",
   "metadata": {},
   "outputs": [
    {
     "data": {
      "text/plain": [
       "{1, 11}"
      ]
     },
     "execution_count": 81,
     "metadata": {},
     "output_type": "execute_result"
    }
   ],
   "source": [
    "a ={1,11,1,11,1,11} #sets dont have duplicate values.\n",
    "a"
   ]
  },
  {
   "cell_type": "code",
   "execution_count": 82,
   "id": "9284170f",
   "metadata": {},
   "outputs": [
    {
     "data": {
      "text/plain": [
       "['__and__',\n",
       " '__class__',\n",
       " '__class_getitem__',\n",
       " '__contains__',\n",
       " '__delattr__',\n",
       " '__dir__',\n",
       " '__doc__',\n",
       " '__eq__',\n",
       " '__format__',\n",
       " '__ge__',\n",
       " '__getattribute__',\n",
       " '__getstate__',\n",
       " '__gt__',\n",
       " '__hash__',\n",
       " '__iand__',\n",
       " '__init__',\n",
       " '__init_subclass__',\n",
       " '__ior__',\n",
       " '__isub__',\n",
       " '__iter__',\n",
       " '__ixor__',\n",
       " '__le__',\n",
       " '__len__',\n",
       " '__lt__',\n",
       " '__ne__',\n",
       " '__new__',\n",
       " '__or__',\n",
       " '__rand__',\n",
       " '__reduce__',\n",
       " '__reduce_ex__',\n",
       " '__repr__',\n",
       " '__ror__',\n",
       " '__rsub__',\n",
       " '__rxor__',\n",
       " '__setattr__',\n",
       " '__sizeof__',\n",
       " '__str__',\n",
       " '__sub__',\n",
       " '__subclasshook__',\n",
       " '__xor__',\n",
       " 'add',\n",
       " 'clear',\n",
       " 'copy',\n",
       " 'difference',\n",
       " 'difference_update',\n",
       " 'discard',\n",
       " 'intersection',\n",
       " 'intersection_update',\n",
       " 'isdisjoint',\n",
       " 'issubset',\n",
       " 'issuperset',\n",
       " 'pop',\n",
       " 'remove',\n",
       " 'symmetric_difference',\n",
       " 'symmetric_difference_update',\n",
       " 'union',\n",
       " 'update']"
      ]
     },
     "execution_count": 82,
     "metadata": {},
     "output_type": "execute_result"
    }
   ],
   "source": [
    "dir(a) # to know the methods in set"
   ]
  },
  {
   "cell_type": "code",
   "execution_count": 83,
   "id": "7c8a9f8a",
   "metadata": {},
   "outputs": [
    {
     "data": {
      "text/plain": [
       "set()"
      ]
     },
     "execution_count": 83,
     "metadata": {},
     "output_type": "execute_result"
    }
   ],
   "source": [
    "x = set() # empty set\n",
    "x"
   ]
  },
  {
   "cell_type": "markdown",
   "id": "17573b72",
   "metadata": {},
   "source": [
    "## Access Items\n",
    "You cannot access items in a set by referring to an index or a key.\n",
    "\n",
    "But you can loop through the set items using a for loop, or ask if a specified value is present in a set, by using the in keyword."
   ]
  },
  {
   "cell_type": "code",
   "execution_count": 84,
   "id": "e3debc10",
   "metadata": {},
   "outputs": [
    {
     "data": {
      "text/plain": [
       "{9}"
      ]
     },
     "execution_count": 84,
     "metadata": {},
     "output_type": "execute_result"
    }
   ],
   "source": [
    "x.add(9) # similar to append \n",
    "x"
   ]
  },
  {
   "cell_type": "markdown",
   "id": "a2ce0a55",
   "metadata": {},
   "source": [
    "## Update() : \n",
    "update() function in set adds elements from a set (passed as an argument) to the set. \n",
    "\n",
    "#### Syntax :  set1.update(set2) \n",
    "\n",
    "Here set1 is the set in which set2 will be added.\n",
    "\n",
    "#### Parameters : Update() method takes any number of argument. The arguments can be a set, list, tuples or a dictionary. It automatically converts into a set and adds to the set. \n",
    "\n",
    "#### Return value : This method adds set2 to set1 and returns nothing. "
   ]
  },
  {
   "cell_type": "code",
   "execution_count": 85,
   "id": "81221509",
   "metadata": {},
   "outputs": [
    {
     "data": {
      "text/plain": [
       "{5, 9, 15}"
      ]
     },
     "execution_count": 85,
     "metadata": {},
     "output_type": "execute_result"
    }
   ],
   "source": [
    "x.update((5,15)) #updates the old set with new values given\n",
    "x"
   ]
  },
  {
   "cell_type": "code",
   "execution_count": 86,
   "id": "67066a4d",
   "metadata": {},
   "outputs": [
    {
     "data": {
      "text/plain": [
       "{5, 9, 15}"
      ]
     },
     "execution_count": 86,
     "metadata": {},
     "output_type": "execute_result"
    }
   ],
   "source": [
    "x"
   ]
  },
  {
   "cell_type": "markdown",
   "id": "ac3b5d76",
   "metadata": {},
   "source": [
    "### diffence b/w remove() & discard()\n",
    "When the specified element does not exist in the given set, the remove() function raises an error. Whereas the discard() method does not raise an error when the specified element does not exist in the set, and the set remains unchanged."
   ]
  },
  {
   "cell_type": "markdown",
   "id": "273804fe",
   "metadata": {},
   "source": [
    "## Remove() :\n",
    "The remove() method removes the specified element from the set. This method is different from the discard() method, because the remove() method will raise an error if the specified item does not exist, and the discard() method will not"
   ]
  },
  {
   "cell_type": "code",
   "execution_count": 87,
   "id": "06bb9b1c",
   "metadata": {},
   "outputs": [
    {
     "data": {
      "text/plain": [
       "{9, 15}"
      ]
     },
     "execution_count": 87,
     "metadata": {},
     "output_type": "execute_result"
    }
   ],
   "source": [
    "x.remove(5)\n",
    "x"
   ]
  },
  {
   "cell_type": "code",
   "execution_count": 88,
   "id": "300b8003",
   "metadata": {},
   "outputs": [],
   "source": [
    "x.discard(5) # gives nothing, displays same set as it is\n"
   ]
  },
  {
   "cell_type": "code",
   "execution_count": 89,
   "id": "a865e2d9",
   "metadata": {},
   "outputs": [
    {
     "data": {
      "text/plain": [
       "{9, 15}"
      ]
     },
     "execution_count": 89,
     "metadata": {},
     "output_type": "execute_result"
    }
   ],
   "source": [
    "#x.remove(5) # throws an error because there is no element 5 in the set\n",
    "x #remove hash to see error\n"
   ]
  },
  {
   "cell_type": "markdown",
   "id": "30f30a6d",
   "metadata": {},
   "source": [
    "## pop() :\n",
    "The pop() method removes a random item from the set. This method returns the removed item. Syntax. set."
   ]
  },
  {
   "cell_type": "code",
   "execution_count": 90,
   "id": "a3fc4750",
   "metadata": {},
   "outputs": [
    {
     "data": {
      "text/plain": [
       "(1, {2, 3, 4, 5, 6, 7, 8, 9})"
      ]
     },
     "execution_count": 90,
     "metadata": {},
     "output_type": "execute_result"
    }
   ],
   "source": [
    "x={1,2,3,4,5,6,7,8,9} # it pops a random element from the set\n",
    "x\n",
    "a= x.pop()\n",
    "a,x"
   ]
  },
  {
   "cell_type": "markdown",
   "id": "b2b6bc3c",
   "metadata": {},
   "source": [
    "## clear() :\n",
    "The clear() method removes all elements in a set.\n",
    "\n"
   ]
  },
  {
   "cell_type": "code",
   "execution_count": 91,
   "id": "5b5dd8f7",
   "metadata": {},
   "outputs": [],
   "source": [
    "x.clear() # clears value in the set and returns empty set"
   ]
  },
  {
   "cell_type": "code",
   "execution_count": 92,
   "id": "448adc27",
   "metadata": {},
   "outputs": [
    {
     "name": "stdout",
     "output_type": "stream",
     "text": [
      "{1, 2, 3, 4, 5}\n",
      "{4, 5, 6, 7, 8, 9}\n",
      "{1, 2, 3, 4, 5, 6, 7, 8}\n",
      "{'c', 'b', 'a'}\n"
     ]
    }
   ],
   "source": [
    "a ={1,2,3,4,5,}\n",
    "b ={4,5,6,7,8,9}\n",
    "c = set(range(1,9))\n",
    "d = {\"a\",\"b\",\"c\"}\n",
    "print(a,b,c,d, sep= '\\n')\n",
    "\n"
   ]
  },
  {
   "cell_type": "markdown",
   "id": "fcb84e75",
   "metadata": {},
   "source": [
    "## isdisjoint() :\n",
    "* Python set isdisjoint() function check whether the two sets are disjoint or not, if it is disjoint then it returns True otherwise it will return False. Two sets are said to be disjoint when their intersection is null.\n",
    "![](https://datascienceparichay.com/wp-content/uploads/2021/12/python-check-disjoint-sets-768x444.png)"
   ]
  },
  {
   "cell_type": "code",
   "execution_count": 93,
   "id": "0210b951",
   "metadata": {},
   "outputs": [
    {
     "data": {
      "text/plain": [
       "False"
      ]
     },
     "execution_count": 93,
     "metadata": {},
     "output_type": "execute_result"
    }
   ],
   "source": [
    "a.isdisjoint(b)"
   ]
  },
  {
   "cell_type": "markdown",
   "id": "3ecb85dd",
   "metadata": {},
   "source": [
    "## issuperset() :\n",
    "The issuperset() method returns True if all items in the specified set exists in the original set, otherwise it returns False.\n",
    "\n",
    "#### Syntax\n",
    "set.issuperset(set)\n",
    "![](https://www.alphacodingskills.com/python/img/superset.PNG)"
   ]
  },
  {
   "cell_type": "code",
   "execution_count": 94,
   "id": "44f985c1",
   "metadata": {},
   "outputs": [
    {
     "data": {
      "text/plain": [
       "True"
      ]
     },
     "execution_count": 94,
     "metadata": {},
     "output_type": "execute_result"
    }
   ],
   "source": [
    "c.issuperset(a)"
   ]
  },
  {
   "cell_type": "markdown",
   "id": "9305fbf6",
   "metadata": {},
   "source": [
    "## issubset() :\n",
    "The issubset() method returns True if all items in the set exists in the specified set, otherwise it returns False.\n",
    "\n",
    "#### Syntax\n",
    "set.issubset(set)\n",
    "![](https://www.alphacodingskills.com/python/img/subset.PNG)"
   ]
  },
  {
   "cell_type": "code",
   "execution_count": 95,
   "id": "8ce27242",
   "metadata": {},
   "outputs": [
    {
     "data": {
      "text/plain": [
       "True"
      ]
     },
     "execution_count": 95,
     "metadata": {},
     "output_type": "execute_result"
    }
   ],
   "source": [
    "a.issubset(c)"
   ]
  },
  {
   "cell_type": "markdown",
   "id": "90cc2dcb",
   "metadata": {},
   "source": [
    "## intersection()\n",
    "The intersection() method returns a set that contains the similarity between two or more sets.\n",
    "\n",
    "#### Meaning: The returned set contains only items that exist in both sets, or in all sets if the comparison is done with more than two sets.\n",
    "\n",
    "#### Syntax\n",
    "set.intersection(set1, set2 ... etc)"
   ]
  },
  {
   "cell_type": "code",
   "execution_count": 96,
   "id": "b181603e",
   "metadata": {},
   "outputs": [
    {
     "data": {
      "text/plain": [
       "{4, 5}"
      ]
     },
     "execution_count": 96,
     "metadata": {},
     "output_type": "execute_result"
    }
   ],
   "source": [
    "a.intersection(b)"
   ]
  },
  {
   "cell_type": "code",
   "execution_count": 97,
   "id": "4511b3a6",
   "metadata": {},
   "outputs": [
    {
     "data": {
      "text/plain": [
       "set()"
      ]
     },
     "execution_count": 97,
     "metadata": {},
     "output_type": "execute_result"
    }
   ],
   "source": [
    "a.intersection(d) #o/p is empty set because no common values "
   ]
  },
  {
   "cell_type": "markdown",
   "id": "b128204c",
   "metadata": {},
   "source": [
    "## union() :\n",
    "The union() method returns a set that contains all items from the original set, and all items from the specified set(s).\n",
    "\n",
    "You can specify as many sets you want, separated by commas.\n",
    "\n",
    "It does not have to be a set, it can be any iterable object.\n",
    "\n",
    "If an item is present in more than one set, the result will contain only one appearance of this item.\n",
    "![](https://media.geeksforgeeks.org/wp-content/cdn-uploads/Union-in-python.jpg)"
   ]
  },
  {
   "cell_type": "code",
   "execution_count": 98,
   "id": "14dd1b0f",
   "metadata": {},
   "outputs": [
    {
     "data": {
      "text/plain": [
       "{1, 2, 3, 4, 5, 6, 7, 8, 9}"
      ]
     },
     "execution_count": 98,
     "metadata": {},
     "output_type": "execute_result"
    }
   ],
   "source": [
    "a.union(b)"
   ]
  },
  {
   "cell_type": "markdown",
   "id": "9496a6ed",
   "metadata": {},
   "source": [
    "## difference() :\n",
    "The difference() method returns a set that contains the difference between two sets.\n",
    "\n",
    "Meaning: The returned set contains items that exist only in the first set, and not in both sets.\n",
    "\n",
    "#### Syntax\n",
    "set.difference(set)\n"
   ]
  },
  {
   "cell_type": "code",
   "execution_count": 99,
   "id": "6e6957da",
   "metadata": {},
   "outputs": [
    {
     "data": {
      "text/plain": [
       "{1, 2, 3}"
      ]
     },
     "execution_count": 99,
     "metadata": {},
     "output_type": "execute_result"
    }
   ],
   "source": [
    "a.difference(b) # displays a set after checking the difference"
   ]
  },
  {
   "cell_type": "code",
   "execution_count": 100,
   "id": "a5f4014e",
   "metadata": {},
   "outputs": [
    {
     "data": {
      "text/plain": [
       "{6, 7, 8, 9}"
      ]
     },
     "execution_count": 100,
     "metadata": {},
     "output_type": "execute_result"
    }
   ],
   "source": [
    "b.difference(a) #displays b set after checking the difference"
   ]
  },
  {
   "cell_type": "markdown",
   "id": "25433604",
   "metadata": {},
   "source": [
    "##  symmetric_difference():\n",
    "The symmetric_difference() method returns a set that contains all items from both set, but not the items that are present in both sets. \n",
    "\n",
    "Meaning: The returned set contains a mix of items that are not present in both sets.\n",
    "![](https://codedestine.com/wp-content/uploads/2017/12/PythonSetOpSDifference.png)"
   ]
  },
  {
   "cell_type": "code",
   "execution_count": 101,
   "id": "5b9fc376",
   "metadata": {},
   "outputs": [
    {
     "data": {
      "text/plain": [
       "{1, 2, 3, 6, 7, 8, 9}"
      ]
     },
     "execution_count": 101,
     "metadata": {},
     "output_type": "execute_result"
    }
   ],
   "source": [
    "a.symmetric_difference(b)"
   ]
  },
  {
   "cell_type": "code",
   "execution_count": 102,
   "id": "df55876e",
   "metadata": {},
   "outputs": [
    {
     "data": {
      "text/plain": [
       "{1, 2, 3, 6, 7, 8, 9}"
      ]
     },
     "execution_count": 102,
     "metadata": {},
     "output_type": "execute_result"
    }
   ],
   "source": [
    "b.symmetric_difference(a)"
   ]
  },
  {
   "cell_type": "code",
   "execution_count": 103,
   "id": "572ffac1",
   "metadata": {},
   "outputs": [
    {
     "data": {
      "text/plain": [
       "['__and__',\n",
       " '__class__',\n",
       " '__class_getitem__',\n",
       " '__contains__',\n",
       " '__delattr__',\n",
       " '__dir__',\n",
       " '__doc__',\n",
       " '__eq__',\n",
       " '__format__',\n",
       " '__ge__',\n",
       " '__getattribute__',\n",
       " '__getstate__',\n",
       " '__gt__',\n",
       " '__hash__',\n",
       " '__iand__',\n",
       " '__init__',\n",
       " '__init_subclass__',\n",
       " '__ior__',\n",
       " '__isub__',\n",
       " '__iter__',\n",
       " '__ixor__',\n",
       " '__le__',\n",
       " '__len__',\n",
       " '__lt__',\n",
       " '__ne__',\n",
       " '__new__',\n",
       " '__or__',\n",
       " '__rand__',\n",
       " '__reduce__',\n",
       " '__reduce_ex__',\n",
       " '__repr__',\n",
       " '__ror__',\n",
       " '__rsub__',\n",
       " '__rxor__',\n",
       " '__setattr__',\n",
       " '__sizeof__',\n",
       " '__str__',\n",
       " '__sub__',\n",
       " '__subclasshook__',\n",
       " '__xor__',\n",
       " 'add',\n",
       " 'clear',\n",
       " 'copy',\n",
       " 'difference',\n",
       " 'difference_update',\n",
       " 'discard',\n",
       " 'intersection',\n",
       " 'intersection_update',\n",
       " 'isdisjoint',\n",
       " 'issubset',\n",
       " 'issuperset',\n",
       " 'pop',\n",
       " 'remove',\n",
       " 'symmetric_difference',\n",
       " 'symmetric_difference_update',\n",
       " 'union',\n",
       " 'update']"
      ]
     },
     "execution_count": 103,
     "metadata": {},
     "output_type": "execute_result"
    }
   ],
   "source": [
    "dir(x)"
   ]
  },
  {
   "cell_type": "markdown",
   "id": "61e33ced",
   "metadata": {},
   "source": [
    "## intersection_update :\n",
    "The intersection_update() method removes the items that is not present in both sets (or in all sets if the comparison is done between more than two sets).\n",
    "\n",
    "The intersection_update() method is different from the intersection() method, because the intersection() method returns a new set, without the unwanted items, and the intersection_update() method removes the unwanted items from the original set.\n",
    "\n",
    "#### Syntax\n",
    "set.intersection_update(set1, set2 ... etc)\n",
    "\n"
   ]
  },
  {
   "cell_type": "code",
   "execution_count": 117,
   "id": "f4eb6d39",
   "metadata": {},
   "outputs": [],
   "source": [
    "a={10,20,30,40,50}\n",
    "b={40,50,60,70,80}"
   ]
  },
  {
   "cell_type": "code",
   "execution_count": 113,
   "id": "933e080f",
   "metadata": {},
   "outputs": [
    {
     "data": {
      "text/plain": [
       "{40, 50}"
      ]
     },
     "execution_count": 113,
     "metadata": {},
     "output_type": "execute_result"
    }
   ],
   "source": [
    "a.intersection(b)"
   ]
  },
  {
   "cell_type": "code",
   "execution_count": 114,
   "id": "972a0f42",
   "metadata": {},
   "outputs": [],
   "source": [
    "a.intersection_update(b) #doesnt show o/p updation is done internally "
   ]
  },
  {
   "cell_type": "code",
   "execution_count": 115,
   "id": "2fe02ffd",
   "metadata": {},
   "outputs": [
    {
     "data": {
      "text/plain": [
       "{40, 50}"
      ]
     },
     "execution_count": 115,
     "metadata": {},
     "output_type": "execute_result"
    }
   ],
   "source": [
    "a"
   ]
  },
  {
   "cell_type": "markdown",
   "id": "4db888d2",
   "metadata": {},
   "source": [
    "## difference_update():\n",
    "The difference_update() method removes the items that exist in both sets.\n",
    "\n",
    "The difference_update() method is different from the difference() method, because the difference() method returns a new set, without the unwanted items, and the difference_update() method removes the unwanted items from the original set.\n",
    "\n",
    "#### Syntax\n",
    "set.difference_update(set)"
   ]
  },
  {
   "cell_type": "code",
   "execution_count": 121,
   "id": "a15291ca",
   "metadata": {},
   "outputs": [
    {
     "data": {
      "text/plain": [
       "{10, 20, 30}"
      ]
     },
     "execution_count": 121,
     "metadata": {},
     "output_type": "execute_result"
    }
   ],
   "source": [
    "a = a.difference(b)\n",
    "a"
   ]
  },
  {
   "cell_type": "code",
   "execution_count": 129,
   "id": "8e734a07",
   "metadata": {},
   "outputs": [
    {
     "data": {
      "text/plain": [
       "{10, 20, 30}"
      ]
     },
     "execution_count": 129,
     "metadata": {},
     "output_type": "execute_result"
    }
   ],
   "source": [
    "a.difference_update(b)\n",
    "a"
   ]
  },
  {
   "cell_type": "markdown",
   "id": "24584d1a",
   "metadata": {},
   "source": [
    "## symmetric_difference_update() :\n",
    "\n",
    "* symmetric_difference() method returns a new set that contains a symmetric difference of two sets. The symmetric_difference_update() method updates the set by calling symmetric_difference_update() with the symmetric difference of sets.\n",
    "\n",
    "The symmetric_difference_update() method updates the original set by removing items that are present in both sets, and inserting the other items.\n",
    "\n",
    "Python set symmetric_difference_update() Syntax\n",
    "#### Syntax: \n",
    "A.symmetric_difference_update(B) \n",
    "#### Parameters: \n",
    "The symmetric_difference takes a single “iterable” as an argument. Iterable should contain hashable object.\n",
    "#### Returns: \n",
    "This method returns None (which indicates absence of a return value). It only updates the set calling symmetric_difference_update() with the symmetric difference of sets."
   ]
  },
  {
   "cell_type": "code",
   "execution_count": 1,
   "id": "9ae400c3",
   "metadata": {},
   "outputs": [
    {
     "data": {
      "text/plain": [
       "{'c', 'h', 'j', 'k', 'o', 's', 'w', 'y'}"
      ]
     },
     "execution_count": 1,
     "metadata": {},
     "output_type": "execute_result"
    }
   ],
   "source": [
    "A = {'s', 'o', 'w', 'j', 'i'}\n",
    "B = {'c', 'h', 'i', 'k', 'y'}\n",
    "A.symmetric_difference_update(B)\n",
    "A"
   ]
  },
  {
   "cell_type": "code",
   "execution_count": null,
   "id": "5ee45fb7",
   "metadata": {},
   "outputs": [],
   "source": []
  },
  {
   "cell_type": "code",
   "execution_count": null,
   "id": "c9c2de80",
   "metadata": {},
   "outputs": [],
   "source": []
  },
  {
   "cell_type": "code",
   "execution_count": null,
   "id": "8b6c671d",
   "metadata": {},
   "outputs": [],
   "source": []
  }
 ],
 "metadata": {
  "kernelspec": {
   "display_name": "Python 3 (ipykernel)",
   "language": "python",
   "name": "python3"
  },
  "language_info": {
   "codemirror_mode": {
    "name": "ipython",
    "version": 3
   },
   "file_extension": ".py",
   "mimetype": "text/x-python",
   "name": "python",
   "nbconvert_exporter": "python",
   "pygments_lexer": "ipython3",
   "version": "3.11.5"
  }
 },
 "nbformat": 4,
 "nbformat_minor": 5
}
