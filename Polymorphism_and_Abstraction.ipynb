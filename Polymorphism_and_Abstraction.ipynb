{
 "cells": [
  {
   "cell_type": "markdown",
   "id": "bc403ca2",
   "metadata": {},
   "source": [
    "# Polymorphism : \n",
    "* poly - many\n",
    "* overloading :\n",
    "      \n",
    "      * method overloading (vanilla python dosent support this)\n",
    "      \n",
    "      * constructor overloading (vanilla python doesn't supports this)\n",
    "      \n",
    "      * operator overloading\n",
    "      \n",
    "* overriding :\n",
    "\n",
    "    * method overriding\n",
    "    * constructor overriding"
   ]
  },
  {
   "cell_type": "markdown",
   "id": "9bbba528",
   "metadata": {},
   "source": [
    "#### CONSTRUCTOR OVERRIDING : That means the sub class constructor is replacing the super class constructor. This is called constructor overriding . Similarly in the sub class, if we write a method with exactly same name as that of super class method, it will override the super class method. This is called method overriding ."
   ]
  },
  {
   "cell_type": "code",
   "execution_count": 13,
   "id": "6c9ab6c5",
   "metadata": {},
   "outputs": [],
   "source": [
    "class FooClass:\n",
    "    def __init__(self,a,b):\n",
    "        self.a = a\n",
    "        self.b = b\n",
    "        \n",
    "    def __init__(self,a,b,c,d):\n",
    "        self.m = a+b\n",
    "        self.n = c-d\n",
    "    def foo(self):\n",
    "        print('Hello')\n",
    "    def foo(self):\n",
    "        print('Good Morning')"
   ]
  },
  {
   "cell_type": "code",
   "execution_count": 14,
   "id": "569f7681",
   "metadata": {},
   "outputs": [
    {
     "ename": "TypeError",
     "evalue": "FooClass.__init__() missing 2 required positional arguments: 'c' and 'd'",
     "output_type": "error",
     "traceback": [
      "\u001b[1;31m---------------------------------------------------------------------------\u001b[0m",
      "\u001b[1;31mTypeError\u001b[0m                                 Traceback (most recent call last)",
      "Cell \u001b[1;32mIn[14], line 1\u001b[0m\n\u001b[1;32m----> 1\u001b[0m x\u001b[38;5;241m=\u001b[39m FooClass(\u001b[38;5;241m5\u001b[39m,\u001b[38;5;241m10\u001b[39m)\n",
      "\u001b[1;31mTypeError\u001b[0m: FooClass.__init__() missing 2 required positional arguments: 'c' and 'd'"
     ]
    }
   ],
   "source": [
    "x= FooClass(5,10)"
   ]
  },
  {
   "cell_type": "code",
   "execution_count": 15,
   "id": "593d198c",
   "metadata": {},
   "outputs": [],
   "source": [
    "x= FooClass(5,10,15,20)"
   ]
  },
  {
   "cell_type": "code",
   "execution_count": 16,
   "id": "440c7278",
   "metadata": {},
   "outputs": [
    {
     "name": "stdout",
     "output_type": "stream",
     "text": [
      "Good Morning\n"
     ]
    }
   ],
   "source": [
    "x.foo()"
   ]
  },
  {
   "cell_type": "code",
   "execution_count": 17,
   "id": "d48bf650",
   "metadata": {},
   "outputs": [],
   "source": [
    "class Xclass(FooClass):\n",
    "    def foo(self):\n",
    "        print('hey!')"
   ]
  },
  {
   "cell_type": "code",
   "execution_count": 18,
   "id": "e2b90e9c",
   "metadata": {},
   "outputs": [],
   "source": [
    "x =Xclass(10,5,15,20)"
   ]
  },
  {
   "cell_type": "code",
   "execution_count": 19,
   "id": "2ce7dc7a",
   "metadata": {},
   "outputs": [
    {
     "name": "stdout",
     "output_type": "stream",
     "text": [
      "hey!\n"
     ]
    }
   ],
   "source": [
    "x.foo()"
   ]
  },
  {
   "cell_type": "code",
   "execution_count": 107,
   "id": "fb1756ac",
   "metadata": {},
   "outputs": [],
   "source": [
    "class FooClass:\n",
    "    def __init__(self,a,b):\n",
    "        self.a = a\n",
    "        self.b = b\n",
    "    def foo(self):\n",
    "        print('Hello')\n",
    "    \n",
    "    def foo(self):\n",
    "        print('Good Morning')"
   ]
  },
  {
   "cell_type": "code",
   "execution_count": 108,
   "id": "6869cc49",
   "metadata": {},
   "outputs": [],
   "source": [
    "obj1 = FooClass(3,5)"
   ]
  },
  {
   "cell_type": "code",
   "execution_count": 109,
   "id": "57b6306e",
   "metadata": {},
   "outputs": [
    {
     "name": "stdout",
     "output_type": "stream",
     "text": [
      "Good Morning\n"
     ]
    }
   ],
   "source": [
    "obj1.foo()"
   ]
  },
  {
   "cell_type": "markdown",
   "id": "23b9ee47",
   "metadata": {},
   "source": [
    "#### 1. OPERATOR OVERLOADING : Operator Overloading means giving extended meaning beyond their predefined operational meaning. For example operator + is used to add two integers as well as join two strings and merge two lists. It is achievable because '+' operator is overloaded by int class and str class."
   ]
  },
  {
   "cell_type": "code",
   "execution_count": 28,
   "id": "b45abb6f",
   "metadata": {},
   "outputs": [],
   "source": [
    "# [1,2,3] * [1,2,3]"
   ]
  },
  {
   "cell_type": "code",
   "execution_count": 20,
   "id": "8b071123",
   "metadata": {},
   "outputs": [],
   "source": [
    "class Mylist:\n",
    "    def __init__(self,value):\n",
    "        self.val = value\n",
    "    def __mul__(self,OtherMylist):\n",
    "        return [i*j for i, j in zip(self.val,OtherMylist.val) ]"
   ]
  },
  {
   "cell_type": "code",
   "execution_count": 23,
   "id": "5962a520",
   "metadata": {},
   "outputs": [],
   "source": [
    "x,y=Mylist([1,2,3]),Mylist([1,2,3])"
   ]
  },
  {
   "cell_type": "code",
   "execution_count": 24,
   "id": "687a482b",
   "metadata": {},
   "outputs": [
    {
     "data": {
      "text/plain": [
       "[1, 4, 9]"
      ]
     },
     "execution_count": 24,
     "metadata": {},
     "output_type": "execute_result"
    }
   ],
   "source": [
    "x*y"
   ]
  },
  {
   "cell_type": "code",
   "execution_count": 31,
   "id": "43d03179",
   "metadata": {},
   "outputs": [],
   "source": [
    "import multipledispatch"
   ]
  },
  {
   "cell_type": "code",
   "execution_count": 33,
   "id": "d5cdc967",
   "metadata": {},
   "outputs": [],
   "source": [
    "from multipledispatch import dispatch"
   ]
  },
  {
   "cell_type": "code",
   "execution_count": null,
   "id": "94e7084d",
   "metadata": {},
   "outputs": [],
   "source": [
    "class Myclass:\n",
    "    def __init__(self,a,b):\n",
    "        self.a=a\n",
    "        self.b=b\n",
    "    def Foo(self,x,y):\n",
    "        return x + y\n",
    "    "
   ]
  },
  {
   "cell_type": "code",
   "execution_count": 34,
   "id": "1adaab9e",
   "metadata": {},
   "outputs": [
    {
     "data": {
      "text/plain": [
       "[1, 2, 3, 4, 5, 6]"
      ]
     },
     "execution_count": 34,
     "metadata": {},
     "output_type": "execute_result"
    }
   ],
   "source": [
    "[1,2,3]+[4,5,6]"
   ]
  },
  {
   "cell_type": "code",
   "execution_count": null,
   "id": "08d824b7",
   "metadata": {},
   "outputs": [],
   "source": [
    "{1,2,3}+{1,2,3}"
   ]
  },
  {
   "cell_type": "markdown",
   "id": "d9ab8a1e",
   "metadata": {},
   "source": [
    "### 2. method overloading:Two or more methods have the same name but different numbers of parameters or different types of parameters, or both. These methods are called overloaded methods and this is called method overloading."
   ]
  },
  {
   "cell_type": "code",
   "execution_count": 54,
   "id": "f8fbf1f6",
   "metadata": {},
   "outputs": [],
   "source": [
    "class Myclass:\n",
    "    def __init__(self,a,b):\n",
    "        self.a=a\n",
    "        self.b=b\n",
    "    @dispatch(int,int)\n",
    "    def Foo(self,x,y):\n",
    "        return x + y\n",
    "    \n",
    "    @dispatch(set,set)\n",
    "    def Foo(self,m,n):\n",
    "        return m.union(n)\n",
    "    \n",
    "    @dispatch(str,str)\n",
    "    def Foo(self,m,n):\n",
    "        return m+n\n",
    "    \n",
    "    @dispatch(int,int,int)\n",
    "    def Foo(self,m,n,o):\n",
    "        return (m*n)//o\n",
    "    \n",
    "    "
   ]
  },
  {
   "cell_type": "code",
   "execution_count": 55,
   "id": "65a28992",
   "metadata": {},
   "outputs": [],
   "source": [
    "x=Myclass(5,10)"
   ]
  },
  {
   "cell_type": "code",
   "execution_count": 56,
   "id": "fde4ee5e",
   "metadata": {},
   "outputs": [
    {
     "data": {
      "text/plain": [
       "5"
      ]
     },
     "execution_count": 56,
     "metadata": {},
     "output_type": "execute_result"
    }
   ],
   "source": [
    "x.Foo(2,3)"
   ]
  },
  {
   "cell_type": "code",
   "execution_count": 49,
   "id": "14bfe6ea",
   "metadata": {},
   "outputs": [
    {
     "data": {
      "text/plain": [
       "{1, 2, 3, 4, 5, 6}"
      ]
     },
     "execution_count": 49,
     "metadata": {},
     "output_type": "execute_result"
    }
   ],
   "source": [
    "x.Foo({1,2,3},{4,5,6,1,2})"
   ]
  },
  {
   "cell_type": "code",
   "execution_count": 57,
   "id": "ce47cf23",
   "metadata": {},
   "outputs": [
    {
     "data": {
      "text/plain": [
       "0"
      ]
     },
     "execution_count": 57,
     "metadata": {},
     "output_type": "execute_result"
    }
   ],
   "source": [
    "x.Foo(1,2,3)"
   ]
  },
  {
   "cell_type": "code",
   "execution_count": 58,
   "id": "80b51347",
   "metadata": {},
   "outputs": [
    {
     "data": {
      "text/plain": [
       "'sowjichikky'"
      ]
     },
     "execution_count": 58,
     "metadata": {},
     "output_type": "execute_result"
    }
   ],
   "source": [
    "x.Foo(\"sowji\",'chikky')"
   ]
  },
  {
   "cell_type": "markdown",
   "id": "f9f6a3b7",
   "metadata": {},
   "source": [
    "#### 3. CONSTRUCTOR OVERLOADING:Python does not support constructor overloading. If you try to overload the constructor, the last implementation will be executed each time. Any previous implementation will be over-written by the latest one."
   ]
  },
  {
   "cell_type": "code",
   "execution_count": 59,
   "id": "0332c509",
   "metadata": {},
   "outputs": [],
   "source": [
    "class MyClass:\n",
    "    @dispatch(int,int)\n",
    "    def __init__(self,a,b):\n",
    "        self.x = a*b\n",
    "    @dispatch(str,str)\n",
    "    def __init__(self,fname,lname):\n",
    "        self.name = fname +' '+lname\n",
    "        "
   ]
  },
  {
   "cell_type": "code",
   "execution_count": 113,
   "id": "3353b433",
   "metadata": {},
   "outputs": [],
   "source": [
    "obj1 = MyClass(1,5)"
   ]
  },
  {
   "cell_type": "code",
   "execution_count": 114,
   "id": "ffd82a8b",
   "metadata": {},
   "outputs": [
    {
     "data": {
      "text/plain": [
       "5"
      ]
     },
     "execution_count": 114,
     "metadata": {},
     "output_type": "execute_result"
    }
   ],
   "source": [
    "obj1.x"
   ]
  },
  {
   "cell_type": "code",
   "execution_count": 116,
   "id": "4acb89fd",
   "metadata": {},
   "outputs": [],
   "source": [
    "obj2 = MyClass('sowji','chikky')"
   ]
  },
  {
   "cell_type": "code",
   "execution_count": 117,
   "id": "63330ae2",
   "metadata": {},
   "outputs": [
    {
     "data": {
      "text/plain": [
       "'sowji chikky'"
      ]
     },
     "execution_count": 117,
     "metadata": {},
     "output_type": "execute_result"
    }
   ],
   "source": [
    "obj2.name"
   ]
  },
  {
   "cell_type": "code",
   "execution_count": 73,
   "id": "447aa7d4",
   "metadata": {},
   "outputs": [],
   "source": [
    "class Myclass:\n",
    "    @dispatch(int,int)\n",
    "    def __init__(self,a,b):\n",
    "        self.x = a*b\n",
    "    @dispatch(str,str)\n",
    "    def __init__(self,fname,lname):\n",
    "        self.name = fname +' '+lname\n",
    "        \n",
    "    @dispatch(int,int)\n",
    "    def Foo(self,x,y):\n",
    "        return x + y\n",
    "    \n",
    "    @dispatch(set,set)\n",
    "    def Foo(self,m,n):\n",
    "        return m.union(n)\n",
    "    \n",
    "    @dispatch(str,str)\n",
    "    def Foo(self,m,n):\n",
    "        return m+n\n",
    "    \n",
    "    @dispatch(int,int,int)\n",
    "    def Foo(self,m,n,o):\n",
    "        return (m*n)//o\n",
    "    "
   ]
  },
  {
   "cell_type": "code",
   "execution_count": 74,
   "id": "97587a39",
   "metadata": {},
   "outputs": [],
   "source": [
    "class Child(Myclass):\n",
    "    pass"
   ]
  },
  {
   "cell_type": "code",
   "execution_count": 75,
   "id": "158e03e3",
   "metadata": {},
   "outputs": [],
   "source": [
    "x= Child(5,2)"
   ]
  },
  {
   "cell_type": "code",
   "execution_count": 76,
   "id": "9f5c8afe",
   "metadata": {},
   "outputs": [],
   "source": [
    "x=Child('abc','xyz')"
   ]
  },
  {
   "cell_type": "code",
   "execution_count": 78,
   "id": "bd77149f",
   "metadata": {},
   "outputs": [
    {
     "data": {
      "text/plain": [
       "'abc xyz'"
      ]
     },
     "execution_count": 78,
     "metadata": {},
     "output_type": "execute_result"
    }
   ],
   "source": [
    "x.name"
   ]
  },
  {
   "cell_type": "markdown",
   "id": "318ff939",
   "metadata": {},
   "source": [
    "#### ABSTRACTION: Abstraction in python is defined as a process of handling complexity by hiding unnecessary information from the user.\n"
   ]
  },
  {
   "cell_type": "code",
   "execution_count": 79,
   "id": "1362a101",
   "metadata": {},
   "outputs": [],
   "source": [
    "import abc"
   ]
  },
  {
   "cell_type": "code",
   "execution_count": 81,
   "id": "75091b72",
   "metadata": {},
   "outputs": [],
   "source": [
    "from abc import abstractmethod,ABC"
   ]
  },
  {
   "cell_type": "code",
   "execution_count": 83,
   "id": "2629230d",
   "metadata": {},
   "outputs": [],
   "source": [
    "class Ben10(ABC):#abstract instance method\n",
    "    @abstractclassmethod \n",
    "    def omniTransformation(self):\n",
    "        ''' Yo!'''\n",
    "        pass"
   ]
  },
  {
   "cell_type": "code",
   "execution_count": 86,
   "id": "c6d7f3f2",
   "metadata": {},
   "outputs": [],
   "source": [
    "class DiamondHead(Ben10):\n",
    "    def omniTransformation(self):\n",
    "        print('DiamondHead Transformation Done!')"
   ]
  },
  {
   "cell_type": "code",
   "execution_count": 87,
   "id": "eb450a35",
   "metadata": {},
   "outputs": [],
   "source": [
    "x = DiamondHead()"
   ]
  },
  {
   "cell_type": "code",
   "execution_count": 88,
   "id": "93157c6f",
   "metadata": {},
   "outputs": [
    {
     "name": "stdout",
     "output_type": "stream",
     "text": [
      "DiamondHead Transformation Done!\n"
     ]
    }
   ],
   "source": [
    "x.omniTransformation()"
   ]
  },
  {
   "cell_type": "code",
   "execution_count": null,
   "id": "aa699f13",
   "metadata": {},
   "outputs": [],
   "source": []
  },
  {
   "cell_type": "code",
   "execution_count": 119,
   "id": "0112f50b",
   "metadata": {},
   "outputs": [],
   "source": [
    "def foo(x:str,y:int):\n",
    "    return x+y"
   ]
  },
  {
   "cell_type": "code",
   "execution_count": 121,
   "id": "cbeb0f4a",
   "metadata": {},
   "outputs": [
    {
     "data": {
      "text/plain": [
       "[1, 2, 3, 5, 6, 7]"
      ]
     },
     "execution_count": 121,
     "metadata": {},
     "output_type": "execute_result"
    }
   ],
   "source": [
    "foo([1,2,3],[5,6,7])"
   ]
  },
  {
   "cell_type": "markdown",
   "id": "5f664cd3",
   "metadata": {},
   "source": [
    "#### DUCK TYPING :The name comes from the phrase, “If it walks like a duck and it quacks like a duck, then it must be a duck.” Duck typing is related to dynamic typing, where the type of the class of an object is going to be less important than the methods that it defines.\n",
    "##### Duck Typing is a way of programming in which an object passed into a function or method supports all method signatures and attributes expected of that object at run time. The object's type itself is not important. Rather, the object should support all methods/attributes called on it."
   ]
  },
  {
   "cell_type": "code",
   "execution_count": 93,
   "id": "bca790af",
   "metadata": {},
   "outputs": [],
   "source": [
    "class Duck:\n",
    "    def quacks(self):\n",
    "        print('quacks')\n",
    "    def fly(self):\n",
    "        print('Flap-Flap')\n",
    "class DogDuck:\n",
    "    def quacks(self):\n",
    "        print('Bowwuacks')\n",
    "    def fly(self):\n",
    "        print('zoommmmmmm')\n",
    "    "
   ]
  },
  {
   "cell_type": "code",
   "execution_count": 94,
   "id": "034e74ba",
   "metadata": {},
   "outputs": [],
   "source": [
    "def foo(x:Duck):\n",
    "    x.quacks()"
   ]
  },
  {
   "cell_type": "code",
   "execution_count": 95,
   "id": "d6cf1707",
   "metadata": {},
   "outputs": [],
   "source": [
    "a,b = Duck(),DogDuck()"
   ]
  },
  {
   "cell_type": "code",
   "execution_count": 96,
   "id": "82f13600",
   "metadata": {},
   "outputs": [
    {
     "name": "stdout",
     "output_type": "stream",
     "text": [
      "quacks\n"
     ]
    }
   ],
   "source": [
    "foo(a)"
   ]
  },
  {
   "cell_type": "code",
   "execution_count": 97,
   "id": "6a3992cc",
   "metadata": {},
   "outputs": [
    {
     "name": "stdout",
     "output_type": "stream",
     "text": [
      "Bowwuacks\n"
     ]
    }
   ],
   "source": [
    "foo(b)"
   ]
  },
  {
   "cell_type": "code",
   "execution_count": null,
   "id": "635c7477",
   "metadata": {},
   "outputs": [],
   "source": []
  },
  {
   "cell_type": "code",
   "execution_count": null,
   "id": "2aaef2de",
   "metadata": {},
   "outputs": [],
   "source": []
  },
  {
   "cell_type": "code",
   "execution_count": null,
   "id": "cddab0bd",
   "metadata": {},
   "outputs": [],
   "source": []
  },
  {
   "cell_type": "code",
   "execution_count": null,
   "id": "6b90147e",
   "metadata": {},
   "outputs": [],
   "source": []
  },
  {
   "cell_type": "code",
   "execution_count": null,
   "id": "96c933ff",
   "metadata": {},
   "outputs": [],
   "source": []
  },
  {
   "cell_type": "code",
   "execution_count": null,
   "id": "30836714",
   "metadata": {},
   "outputs": [],
   "source": []
  },
  {
   "cell_type": "code",
   "execution_count": null,
   "id": "68abf7b1",
   "metadata": {},
   "outputs": [],
   "source": []
  },
  {
   "cell_type": "code",
   "execution_count": null,
   "id": "a717a6bc",
   "metadata": {},
   "outputs": [],
   "source": []
  },
  {
   "cell_type": "code",
   "execution_count": null,
   "id": "1a16ed09",
   "metadata": {},
   "outputs": [],
   "source": []
  },
  {
   "cell_type": "code",
   "execution_count": null,
   "id": "06c499fd",
   "metadata": {},
   "outputs": [],
   "source": []
  },
  {
   "cell_type": "code",
   "execution_count": null,
   "id": "fa4866f7",
   "metadata": {},
   "outputs": [],
   "source": []
  },
  {
   "cell_type": "code",
   "execution_count": null,
   "id": "cc8279b7",
   "metadata": {},
   "outputs": [],
   "source": []
  },
  {
   "cell_type": "code",
   "execution_count": null,
   "id": "9f726a09",
   "metadata": {},
   "outputs": [],
   "source": []
  },
  {
   "cell_type": "code",
   "execution_count": null,
   "id": "37eff26c",
   "metadata": {},
   "outputs": [],
   "source": []
  },
  {
   "cell_type": "code",
   "execution_count": null,
   "id": "50f6c87f",
   "metadata": {},
   "outputs": [],
   "source": []
  },
  {
   "cell_type": "code",
   "execution_count": null,
   "id": "ef957c09",
   "metadata": {},
   "outputs": [],
   "source": []
  },
  {
   "cell_type": "code",
   "execution_count": null,
   "id": "a820909a",
   "metadata": {},
   "outputs": [],
   "source": []
  },
  {
   "cell_type": "code",
   "execution_count": null,
   "id": "4c2ee2c2",
   "metadata": {},
   "outputs": [],
   "source": []
  },
  {
   "cell_type": "code",
   "execution_count": null,
   "id": "bbb6e328",
   "metadata": {},
   "outputs": [],
   "source": []
  },
  {
   "cell_type": "code",
   "execution_count": null,
   "id": "bb214d90",
   "metadata": {},
   "outputs": [],
   "source": []
  }
 ],
 "metadata": {
  "kernelspec": {
   "display_name": "Python 3 (ipykernel)",
   "language": "python",
   "name": "python3"
  },
  "language_info": {
   "codemirror_mode": {
    "name": "ipython",
    "version": 3
   },
   "file_extension": ".py",
   "mimetype": "text/x-python",
   "name": "python",
   "nbconvert_exporter": "python",
   "pygments_lexer": "ipython3",
   "version": "3.11.5"
  }
 },
 "nbformat": 4,
 "nbformat_minor": 5
}
