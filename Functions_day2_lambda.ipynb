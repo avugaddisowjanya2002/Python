{
 "cells": [
  {
   "cell_type": "markdown",
   "id": "5d366f5c",
   "metadata": {},
   "source": [
    "  ### LAMBDAFUNTIONS:\n",
    "* A lambda function is a small anonymous function.\n",
    "\n",
    "* A lambda function can take any number of arguments, but can only have one expression.\n",
    "##### Syntax : lambda arguments : expression \n",
    "\n",
    "* The power of lambda is better shown when you use them as an anonymous function inside another function.\n",
    "\n",
    "\n"
   ]
  },
  {
   "cell_type": "markdown",
   "id": "5f6d8a17",
   "metadata": {},
   "source": [
    "#### syntax:  (lambda parameter : operation)(arguments)"
   ]
  },
  {
   "cell_type": "code",
   "execution_count": 1,
   "id": "b83b363d",
   "metadata": {},
   "outputs": [
    {
     "data": {
      "text/plain": [
       "8"
      ]
     },
     "execution_count": 1,
     "metadata": {},
     "output_type": "execute_result"
    }
   ],
   "source": [
    "(lambda x,y: x**y)(2,3)"
   ]
  },
  {
   "cell_type": "code",
   "execution_count": 16,
   "id": "d0ce0cf3",
   "metadata": {},
   "outputs": [
    {
     "data": {
      "text/plain": [
       "'even'"
      ]
     },
     "execution_count": 16,
     "metadata": {},
     "output_type": "execute_result"
    }
   ],
   "source": [
    "(lambda x: 'even' if x%2==0 else 'odd')(8)"
   ]
  },
  {
   "cell_type": "code",
   "execution_count": 19,
   "id": "f61e8330",
   "metadata": {},
   "outputs": [
    {
     "data": {
      "text/plain": [
       "([2, 4, 6, 8, 10, 12, 14, 16, 18], [1, 3, 5, 7, 9, 11, 13, 15, 17, 19])"
      ]
     },
     "execution_count": 19,
     "metadata": {},
     "output_type": "execute_result"
    }
   ],
   "source": [
    "(lambda x,y: ([ele for ele in range(x,y) if ele%2==0],[ele for ele in range(x,y) if ele%2!=0]))(1,20)"
   ]
  },
  {
   "cell_type": "markdown",
   "id": "2b178c04",
   "metadata": {},
   "source": [
    "## higher order function : \n",
    "### map , filter, reduce:\n",
    "##### MAP :\n",
    "* Map in Python is a function that works as an iterator to return a result after applying a function to every item of an iterable (tuple, lists, etc.). \n",
    "* It is used when you want to apply a single transformation function to all the iterable elements. The iterable and function are passed as arguments to the map in Python."
   ]
  },
  {
   "cell_type": "code",
   "execution_count": 24,
   "id": "abba72ba",
   "metadata": {},
   "outputs": [
    {
     "data": {
      "text/plain": [
       "<map at 0x23f54986ef0>"
      ]
     },
     "execution_count": 24,
     "metadata": {},
     "output_type": "execute_result"
    }
   ],
   "source": [
    "z= map(lambda x: x**2,[1,2,3,4,5]) \n",
    "z"
   ]
  },
  {
   "cell_type": "code",
   "execution_count": 25,
   "id": "96502fc6",
   "metadata": {},
   "outputs": [
    {
     "data": {
      "text/plain": [
       "[1, 4, 9, 16, 25]"
      ]
     },
     "execution_count": 25,
     "metadata": {},
     "output_type": "execute_result"
    }
   ],
   "source": [
    "list(z)"
   ]
  },
  {
   "cell_type": "code",
   "execution_count": 29,
   "id": "eac5a32f",
   "metadata": {},
   "outputs": [
    {
     "data": {
      "text/plain": [
       "[65, 66, 67]"
      ]
     },
     "execution_count": 29,
     "metadata": {},
     "output_type": "execute_result"
    }
   ],
   "source": [
    "z= map(ord,'ABC')\n",
    "list(z)"
   ]
  },
  {
   "cell_type": "code",
   "execution_count": 30,
   "id": "c4011cc0",
   "metadata": {},
   "outputs": [
    {
     "data": {
      "text/plain": [
       "<map at 0x23f54986ad0>"
      ]
     },
     "execution_count": 30,
     "metadata": {},
     "output_type": "execute_result"
    }
   ],
   "source": [
    "z= map(lambda x: x/0,[1,2,3,4,5]) #stores fun in map\n",
    "z"
   ]
  },
  {
   "cell_type": "code",
   "execution_count": 32,
   "id": "82053179",
   "metadata": {},
   "outputs": [
    {
     "ename": "ZeroDivisionError",
     "evalue": "division by zero",
     "output_type": "error",
     "traceback": [
      "\u001b[1;31m---------------------------------------------------------------------------\u001b[0m",
      "\u001b[1;31mZeroDivisionError\u001b[0m                         Traceback (most recent call last)",
      "Cell \u001b[1;32mIn[32], line 1\u001b[0m\n\u001b[1;32m----> 1\u001b[0m \u001b[38;5;28mlist\u001b[39m(z)\n",
      "Cell \u001b[1;32mIn[30], line 1\u001b[0m, in \u001b[0;36m<lambda>\u001b[1;34m(x)\u001b[0m\n\u001b[1;32m----> 1\u001b[0m z\u001b[38;5;241m=\u001b[39m \u001b[38;5;28mmap\u001b[39m(\u001b[38;5;28;01mlambda\u001b[39;00m x: x\u001b[38;5;241m/\u001b[39m\u001b[38;5;241m0\u001b[39m,[\u001b[38;5;241m1\u001b[39m,\u001b[38;5;241m2\u001b[39m,\u001b[38;5;241m3\u001b[39m,\u001b[38;5;241m4\u001b[39m,\u001b[38;5;241m5\u001b[39m])\n\u001b[0;32m      2\u001b[0m z\n",
      "\u001b[1;31mZeroDivisionError\u001b[0m: division by zero"
     ]
    }
   ],
   "source": [
    "list(z) # executes map function so throws error because x/0"
   ]
  },
  {
   "cell_type": "code",
   "execution_count": 36,
   "id": "ef4f7571",
   "metadata": {},
   "outputs": [
    {
     "data": {
      "text/plain": [
       "[11, 22, 33]"
      ]
     },
     "execution_count": 36,
     "metadata": {},
     "output_type": "execute_result"
    }
   ],
   "source": [
    "y=(map(lambda x,y : x+y,[1,2,3],[10,20,30]))\n",
    "list(y)"
   ]
  },
  {
   "cell_type": "code",
   "execution_count": 37,
   "id": "b8b2644a",
   "metadata": {},
   "outputs": [
    {
     "data": {
      "text/plain": [
       "[11, 22, 33]"
      ]
     },
     "execution_count": 37,
     "metadata": {},
     "output_type": "execute_result"
    }
   ],
   "source": [
    "list(map(lambda x,y : x+y,[1,2,3],[10,20,30]))\n"
   ]
  },
  {
   "cell_type": "code",
   "execution_count": 7,
   "id": "4b0113ba",
   "metadata": {},
   "outputs": [
    {
     "data": {
      "text/plain": [
       "[1, 4, 27]"
      ]
     },
     "execution_count": 7,
     "metadata": {},
     "output_type": "execute_result"
    }
   ],
   "source": [
    "list(map(lambda x,y : x**y ,[1,2,3],[1,2,3]))"
   ]
  },
  {
   "cell_type": "markdown",
   "id": "c688a4d2",
   "metadata": {},
   "source": [
    "## Filter() :\n",
    "* The filter() function returns an iterator where the items are filtered through a function to test if the item is accepted or not.\n",
    "##### Syntax: filter(function, iterable)\n",
    "    function\tA Function to be run for each item in the iterable\n",
    "    iterable\tThe iterable to be filtered"
   ]
  },
  {
   "cell_type": "code",
   "execution_count": 46,
   "id": "7a8d852c",
   "metadata": {},
   "outputs": [
    {
     "data": {
      "text/plain": [
       "[2, 4]"
      ]
     },
     "execution_count": 46,
     "metadata": {},
     "output_type": "execute_result"
    }
   ],
   "source": [
    "## filter:\n",
    "list(filter(lambda x: True if x%2==0 else False,[1,2,3,4,5]))"
   ]
  },
  {
   "cell_type": "code",
   "execution_count": 66,
   "id": "fec016fe",
   "metadata": {},
   "outputs": [
    {
     "data": {
      "text/plain": [
       "['i']"
      ]
     },
     "execution_count": 66,
     "metadata": {},
     "output_type": "execute_result"
    }
   ],
   "source": [
    "list(filter(lambda x:True if x in \"aeiouAEIOU\" else False,\"string\"))"
   ]
  },
  {
   "cell_type": "code",
   "execution_count": 79,
   "id": "4187797e",
   "metadata": {},
   "outputs": [
    {
     "data": {
      "text/plain": [
       "['A', 'b', 'c', '1', '2', '3']"
      ]
     },
     "execution_count": 79,
     "metadata": {},
     "output_type": "execute_result"
    }
   ],
   "source": [
    "list(filter(lambda x:True if x.isalnum() else False,'Abc$#123'))"
   ]
  },
  {
   "cell_type": "code",
   "execution_count": 81,
   "id": "4735cadd",
   "metadata": {},
   "outputs": [
    {
     "data": {
      "text/plain": [
       "['$', '#']"
      ]
     },
     "execution_count": 81,
     "metadata": {},
     "output_type": "execute_result"
    }
   ],
   "source": [
    "list(filter(lambda x:True if x.isalnum() is False else False,'Abc$#123'))"
   ]
  },
  {
   "cell_type": "markdown",
   "id": "829f1dfc",
   "metadata": {},
   "source": [
    "## reduce():\n",
    "The reduce(fun,seq) function is used to apply a particular function passed in its argument to all of the list elements mentioned in the sequence passed along.This function is defined in “functools” module.\n",
    "\n",
    "![](data:image/png;base64,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)"
   ]
  },
  {
   "cell_type": "markdown",
   "id": "c36f07ef",
   "metadata": {},
   "source": [
    "\n"
   ]
  },
  {
   "cell_type": "code",
   "execution_count": null,
   "id": "cf613c74",
   "metadata": {},
   "outputs": [],
   "source": []
  },
  {
   "cell_type": "code",
   "execution_count": null,
   "id": "6e4d338b",
   "metadata": {},
   "outputs": [],
   "source": []
  },
  {
   "cell_type": "code",
   "execution_count": null,
   "id": "ef3d3d2b",
   "metadata": {},
   "outputs": [],
   "source": []
  },
  {
   "cell_type": "code",
   "execution_count": null,
   "id": "94dcb673",
   "metadata": {},
   "outputs": [],
   "source": []
  },
  {
   "cell_type": "code",
   "execution_count": null,
   "id": "baeb480c",
   "metadata": {},
   "outputs": [],
   "source": []
  },
  {
   "cell_type": "code",
   "execution_count": null,
   "id": "0287aab5",
   "metadata": {},
   "outputs": [],
   "source": []
  },
  {
   "cell_type": "code",
   "execution_count": null,
   "id": "1862513e",
   "metadata": {},
   "outputs": [],
   "source": []
  },
  {
   "cell_type": "code",
   "execution_count": null,
   "id": "54bb561e",
   "metadata": {},
   "outputs": [],
   "source": []
  },
  {
   "cell_type": "code",
   "execution_count": null,
   "id": "d6bee466",
   "metadata": {},
   "outputs": [],
   "source": []
  },
  {
   "cell_type": "code",
   "execution_count": null,
   "id": "a3b61cfd",
   "metadata": {},
   "outputs": [],
   "source": []
  },
  {
   "cell_type": "code",
   "execution_count": null,
   "id": "a2b1e2a9",
   "metadata": {},
   "outputs": [],
   "source": []
  },
  {
   "cell_type": "code",
   "execution_count": null,
   "id": "2626fbec",
   "metadata": {},
   "outputs": [],
   "source": []
  },
  {
   "cell_type": "code",
   "execution_count": null,
   "id": "856fa84e",
   "metadata": {},
   "outputs": [],
   "source": [
    "\n"
   ]
  }
 ],
 "metadata": {
  "kernelspec": {
   "display_name": "Python 3 (ipykernel)",
   "language": "python",
   "name": "python3"
  },
  "language_info": {
   "codemirror_mode": {
    "name": "ipython",
    "version": 3
   },
   "file_extension": ".py",
   "mimetype": "text/x-python",
   "name": "python",
   "nbconvert_exporter": "python",
   "pygments_lexer": "ipython3",
   "version": "3.11.5"
  }
 },
 "nbformat": 4,
 "nbformat_minor": 5
}
