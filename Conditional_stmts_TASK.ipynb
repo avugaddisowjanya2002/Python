{
 "cells": [
  {
   "cell_type": "markdown",
   "id": "8ad51240",
   "metadata": {},
   "source": [
    "#### 1. Write a Python program that asks the user for their age and prints \"You are an adult\" if the age is 18 or older, otherwise prints \"You are a minor'.\n"
   ]
  },
  {
   "cell_type": "code",
   "execution_count": null,
   "id": "664d435f",
   "metadata": {},
   "outputs": [],
   "source": [
    "AGE =int(input(\"Enter your age: \")) # AGE is variable,user input will always return string value,int is typecasting which means whichever user is giving input convert it into int.\n",
    "if AGE>=18: #if condition, age should be equal and greater than 18\n",
    "    print( \"You are an adult\") #if the above condition is true then it give this as output\n",
    "else: # if condition is false then it else statement as o/p here, if age is less than 18 then else will statement is printed\n",
    "    print('You are a minor')\n",
    "        "
   ]
  },
  {
   "cell_type": "markdown",
   "id": "14429b98",
   "metadata": {},
   "source": [
    "#### 2. Write a program that takes a numerical grade (out of 100) as input and prints the corresponding letter grade according to the following scale:\n",
    "* 90-100: A\n",
    "*  80-89: B\n",
    "* 70-79: C\n",
    "* 60-69: D\n",
    "* Below 60: F\n"
   ]
  },
  {
   "cell_type": "code",
   "execution_count": null,
   "id": "b2a93006",
   "metadata": {},
   "outputs": [],
   "source": [
    "marks =int(input(\"Enter your marks: \")) # marks is variable,user input will always return string value,float is typecasting which means whichever user is giving input convert it into float.\n",
    "\n",
    "if marks >100 or marks<0 : #(or) if any one condition is true it prints the statement\n",
    "    print(\"Invalid marks\")\n",
    "elif marks in range(90,101): # range method is used to check the input between the range if condition is true then print stmt is printed or else checks other conditions \n",
    "    print(\"A\")\n",
    "elif marks in range(80,90): # multiple condition is being checked\n",
    "    print(\"B\")\n",
    "elif marks in range(70,81):# multiple condition is being checked\n",
    "    print(\"C\")\n",
    "elif marks in range(60,70):# multiple condition is being checked\n",
    "    print(\"D\")\n",
    "else:    # other than above condition if marks given lessthan 60 then print stmt is executed(if we give >100 as marks then also else statement is printed)\n",
    "    print(\"F\")\n",
    "    \n",
    "\n"
   ]
  },
  {
   "cell_type": "markdown",
   "id": "cf55884b",
   "metadata": {},
   "source": [
    "#### 3. Write a program that calculates the Body Mass Index (BMI) of a person. The user should input their weight in kilograms and height in meters. The program should then print whether the person is underweight, normal weight, overweight, or obese\n",
    "\n",
    "#### BMI = WEIGHT(KG)/HEIGHT(METER)**2\n",
    "\n",
    "* if BMI is less than (18.5) = UNDERWEIGHT\n",
    "* if BMI is in between (18.5 to 25.9) = NORMAL\n",
    "* IF BMI is more than (25 to 29.5) = OVERWEIGHT\n",
    "* if BMI is greter than 30 than = obese\n",
    "\n"
   ]
  },
  {
   "cell_type": "code",
   "execution_count": null,
   "id": "d2428cf1",
   "metadata": {},
   "outputs": [],
   "source": [
    "weight =float(input(\"Enter your weight  \"))   #user input\n",
    "height =float(input(\"Enter you height \"))#user input\n",
    "BMI = float(weight/height**2)\n",
    "print(BMI)\n",
    "if BMI<18:       #if condition\n",
    "    print(\"UNDER WEIGHT\")       # if condition is true then print statement gets printed\n",
    "elif BMI in (18,25):     # checks multiple condition\n",
    "    print(\"NORMAL\")        #above condition is true then print statement gets printed\n",
    "elif BMI in range(25,29) :    # checks multiple condition\n",
    "    print(\"OVER WEIGHT\")    #above condition is true then print statement gets printed\n",
    "else: \n",
    "    print(\"OBESE\")# if above conditions are false then prints else statement    \n",
    "    \n",
    "\n",
    "\n",
    "\n",
    "\n"
   ]
  },
  {
   "cell_type": "code",
   "execution_count": null,
   "id": "ced22395",
   "metadata": {},
   "outputs": [],
   "source": [
    "weight =float(input(\"Enter your weight  \"))   #user input\n",
    "height =float(input(\"Enter you height \"))#user input\n",
    "BMI = float(weight/height**2)\n",
    "print(BMI)\n",
    "if BMI<18.5:       #if condition\n",
    "    print(\"UNDER WEIGHT\")       # if condition is true then print statement gets printed\n",
    "elif BMI >=18.5 or BMI >25.9:     # checks multiple condition\n",
    "    print(\"NORMAL\")        #above condition is true then print statement gets printed\n",
    "elif BMI >=25 or BMI >29  :    # checks multiple condition\n",
    "    print(\"OVER WEIGHT\")    #above condition is true then print statement gets printed\n",
    "else: \n",
    "    print(\"OBESE\")# if above conditions are false then prints else statement    \n",
    "    \n"
   ]
  },
  {
   "cell_type": "markdown",
   "id": "74331ca6",
   "metadata": {},
   "source": [
    "#### 4. Write a program that asks the user for three numbers and prints the maximum of the three."
   ]
  },
  {
   "cell_type": "code",
   "execution_count": null,
   "id": "ef9b3e90",
   "metadata": {},
   "outputs": [],
   "source": [
    "x = float(input(\"Enter 1st value : \")) #user input\n",
    "y = float(input(\"Enter 2nd value : \"))#user input\n",
    "z = float(input(\"Enter 3rd value : \"))#user input\n",
    "print(max(x,y,z)) \n"
   ]
  },
  {
   "cell_type": "markdown",
   "id": "4e25257a",
   "metadata": {},
   "source": [
    "####  5. Write a program that asks the user for a temperature (in Celsius) and prints \"It's freezing\" if the temperature is below 0, \"It's cool\" if it's between 0 and 10, \"It's warm\" if it's between 10 and 20, and \"It's hot\" if it's above 20\n"
   ]
  },
  {
   "cell_type": "code",
   "execution_count": null,
   "id": "b9850a1c",
   "metadata": {},
   "outputs": [],
   "source": [
    "temperature = float(input('Enter temperature : '))\n",
    "\n",
    "if temperature<0:\n",
    "    print(\"It's cool\")\n",
    "elif temperature in range(0,11):\n",
    "    print( \"It's warm\" )\n",
    "elif temperature in range(10,21):\n",
    "    print( \"It's hot\" )\n",
    "else:\n",
    "    print(\"It's hot\")\n",
    "    "
   ]
  },
  {
   "cell_type": "markdown",
   "id": "22150b24",
   "metadata": {},
   "source": [
    "#### 6. Write a program that asks the user for a number (1-7) and prints the corresponding day of the week."
   ]
  },
  {
   "cell_type": "code",
   "execution_count": null,
   "id": "4dbdd1cf",
   "metadata": {},
   "outputs": [],
   "source": [
    "number = int(input(\"Enter a number(1-7)\"))\n",
    "if number==1:\n",
    "    print(\"Sunday\")\n",
    "elif number==2:\n",
    "    print(\"Monday\")\n",
    "elif number==3:\n",
    "    print(\"Tuesday\")\n",
    "elif number==4:\n",
    "    print(\"Wednesday\")\n",
    "elif number==5:\n",
    "    print(\"Thursday\")\n",
    "elif number==6:\n",
    "    print(\"Friday\")\n",
    "elif number==7:\n",
    "    print(\"Saturday\")\n"
   ]
  },
  {
   "cell_type": "markdown",
   "id": "cdc7ccb5",
   "metadata": {},
   "source": [
    "#### 7.Write a program that asks the user for a number and prints \"In range\" if the number is between 10 and 20 (inclusive), and \"Out of range\" otherwise.\n"
   ]
  },
  {
   "cell_type": "code",
   "execution_count": null,
   "id": "55749667",
   "metadata": {},
   "outputs": [],
   "source": [
    "num=float(input(\"Enter a number : \"))\n",
    "\n",
    "if num in range(10,21):\n",
    "    print(\"In range\")\n",
    "else :\n",
    "    print(\"Out of Range\")"
   ]
  },
  {
   "cell_type": "markdown",
   "id": "e97b0a23",
   "metadata": {},
   "source": [
    "#### 8. Write a program that asks the user for an integer and prints whether it's even or odd.\n"
   ]
  },
  {
   "cell_type": "code",
   "execution_count": null,
   "id": "2b8416bb",
   "metadata": {},
   "outputs": [],
   "source": [
    "a = int(input(\"Enter a number \"))\n",
    "\n",
    "if (a%2==0):\n",
    "    print(\"Even number\")\n",
    "else:\n",
    "    print(\"Odd number\")"
   ]
  },
  {
   "cell_type": "markdown",
   "id": "89dacfea",
   "metadata": {},
   "source": [
    " #### 9.Write a Python program to add 'ing' at the end of a given string (string length should be equal to or more than 3). If the given string already ends with 'ing' then add 'ly' instead.If the string length of the given string is less than 3, leave it unchanged\n"
   ]
  },
  {
   "cell_type": "code",
   "execution_count": null,
   "id": "dccca2a5",
   "metadata": {},
   "outputs": [],
   "source": [
    "x =(input(\"Enter a string : \"))\n",
    "if len(x)>=3:\n",
    "    print(x+('ing'))\n",
    "if x.endswith('ing'):\n",
    "    print(x+(\"ly\"))"
   ]
  },
  {
   "cell_type": "code",
   "execution_count": null,
   "id": "36d21a9f",
   "metadata": {},
   "outputs": [],
   "source": [
    "x =(input(\"Enter a string : \")) # user input\n",
    "if len(x)>=3:                # (string length should be equal to or more than 3)\n",
    "    print(x+('ing'))   # if above condition true then add 'ing' at the end of a given string\n",
    "y= x.rstrip('ing')   # rstrip() removes last characters given   rstrip('ing')\n",
    "if y.rstrip('ing'):  # condition to strip off(remove) characters from right\n",
    "    print(y+'ly')    # given string already ends with 'ing' then add 'ly' instead\n",
    "\n"
   ]
  },
  {
   "cell_type": "markdown",
   "id": "3a0da7fc",
   "metadata": {},
   "source": [
    "#### 10. Create rock-paper-scissors by using the if condition.\n"
   ]
  },
  {
   "cell_type": "code",
   "execution_count": null,
   "id": "e276905c",
   "metadata": {},
   "outputs": [],
   "source": [
    "p1 = (input(\"Enter a value : \"))   #p1 is player1 ,user input\n",
    "p2= (input(\"enter a value :  \"))   #p2 is player2 , user input\n",
    "if (p1 == p2):    # if both values are same then it is going to be tie\n",
    "    print(\"TIE\")  # print statement\n",
    "elif (p1)==(\"rock\"): # if above condition fails it enters into elif input value is \"rock\" then it checks next condition\n",
    "    if (p2)==(\"paper\"): # if condition satisfies then it prints if statement\n",
    "        print(\"p2 wins\")\n",
    "    else:                  #otherwise prints else statement\n",
    "        print(\"p1 wins\")\n",
    "elif (p1)==(\"rock\"):\n",
    "    if (p2)==(\"scissors\"):\n",
    "        print(\"p2 wins\")\n",
    "    else:\n",
    "        print(\"p1 wins\")\n",
    "elif (p1)==(\"paper\"):\n",
    "    if (p2)==(\"scissors\"):\n",
    "        print(\"p2 wins\")\n",
    "    else:\n",
    "        print(\"p1 wins\")\n",
    "elif (p1)==(\"paper\"):\n",
    "    if (p2)==(\"rock\"):\n",
    "        print(\"p2 wins\")\n",
    "    else:\n",
    "        print(\"p1 wins\")\n",
    "elif (p1)==(\"scissors\"):\n",
    "    if (p2)==(\"rock\"):\n",
    "        print(\"p2 wins\")\n",
    "    else:\n",
    "        print(\"p1 wins\")\n",
    "elif (p1)==(\"scissors\"):\n",
    "    if(\"paper\"):\n",
    "        print(\"p2 wins\")\n",
    "    else:\n",
    "        print(\"p1 wins\")\n",
    "\n",
    "\n",
    "\n",
    "    \n",
    "    \n"
   ]
  },
  {
   "cell_type": "markdown",
   "id": "eb5413bd",
   "metadata": {},
   "source": [
    "#### 11. Create a dynamic calculator which asks for numbers and operator and return the answers,\n",
    "             Example\n",
    "    Input: Type first number: 10\",\n",
    "    Type any of this (+, -, *, /, %, **): ,*\n",
    "    Assignment-2 ,\n",
    "   Type second number: 19,\n",
    "    Output:Answer is 190\n"
   ]
  },
  {
   "cell_type": "code",
   "execution_count": null,
   "id": "54409532",
   "metadata": {},
   "outputs": [],
   "source": [
    "\n"
   ]
  },
  {
   "cell_type": "markdown",
   "id": "fbdee0df",
   "metadata": {},
   "source": [
    "#### 12. Manoj Kumar has family and friends. Help him remind them who is who. Given a string with a name, return the relation of that person to Manoj Kumar.,\n",
    " Person Relation,\n",
    " Shiva father ,Letha mother, Tarun brother,Kavitha sister ,,Strange Coder.\n"
   ]
  },
  {
   "cell_type": "code",
   "execution_count": null,
   "id": "bf91110d",
   "metadata": {},
   "outputs": [],
   "source": [
    "str1 = str(input(\"Manoj Kumar relation :\" ))\n",
    "a=\"Shiva\"\n",
    "b=\"Letha\"\n",
    "c=\"Tarun\"\n",
    "d=\"Kavitha\"\n",
    "if str1 == a:\n",
    "    print(\"FATHER\")\n",
    "if str1 == b:\n",
    "    print(\"Mother\")\n",
    "if str1 == c:\n",
    "    print(\"Brother\")\n",
    "if str1 == d:\n",
    "    print(\"Sister\")\n",
    "\n",
    "    \n",
    "\n"
   ]
  },
  {
   "cell_type": "markdown",
   "id": "d9a02b8a",
   "metadata": {},
   "source": [
    "#### 13. Write a python program that takes in a word and determines whether or not it is plural. A plural word is one that ends with “s”\n"
   ]
  },
  {
   "cell_type": "code",
   "execution_count": 5,
   "id": "7f261a61",
   "metadata": {},
   "outputs": [
    {
     "name": "stdout",
     "output_type": "stream",
     "text": [
      "Enter a string :zoo\n",
      "It is string\n"
     ]
    }
   ],
   "source": [
    "a = str(input(\"Enter a string :\"))\n",
    "if a.endswith('s'):\n",
    "    print(\"It is plural\")\n",
    "else:\n",
    "    print(\"It is not plural\")"
   ]
  },
  {
   "cell_type": "markdown",
   "id": "dd902b1e",
   "metadata": {},
   "source": [
    "#### 14.A company decided to give a bonus of 5% to employees if his/her year of service is more than 5 years.Ask user for their salary and year of service and print the net bonus amount.\n"
   ]
  },
  {
   "cell_type": "code",
   "execution_count": null,
   "id": "a0785b43",
   "metadata": {},
   "outputs": [],
   "source": []
  },
  {
   "cell_type": "markdown",
   "id": "ae7bbac4",
   "metadata": {},
   "source": [
    "#### 15.Take values of length and breadth of a rectangle from the user and check if it is square or not."
   ]
  },
  {
   "cell_type": "code",
   "execution_count": 11,
   "id": "261e1b4d",
   "metadata": {},
   "outputs": [
    {
     "name": "stdout",
     "output_type": "stream",
     "text": [
      "Enter the length : 40\n",
      "Enter the breadth : 40\n",
      "It is a square\n"
     ]
    }
   ],
   "source": [
    "l =int(input(\"Enter the length : \"))\n",
    "b =int(input(\"Enter the breadth : \"))\n",
    "if l==b:\n",
    "    print(\"It is a square\")\n",
    "else :\n",
    "    print(\"It is not a square\")"
   ]
  },
  {
   "cell_type": "markdown",
   "id": "2fb991ea",
   "metadata": {},
   "source": [
    "#### 16.Accept any city from the user and display the momentum of the city \n",
    "Hyderabad  : “charminar”\n",
    "\n",
    "“Delhi”         : “red fort\n",
    "\n",
    "“Agra           : Taj mahal\n",
    "\n",
    "If the city name is not given correctly, give him a warning message.\n"
   ]
  },
  {
   "cell_type": "code",
   "execution_count": 15,
   "id": "8c4a317a",
   "metadata": {},
   "outputs": [
    {
     "name": "stdout",
     "output_type": "stream",
     "text": [
      "Enter a city : delhi\n",
      "WARNING : please enter city name correctly\n"
     ]
    }
   ],
   "source": [
    "city = str(input(\"Enter a city : \"))\n",
    "if city==\"Hyderabad\":\n",
    "    print(\"Charminar\")\n",
    "if city==\"Delhi\":\n",
    "    print(\"red fort\")\n",
    "if city==\"Agra\":\n",
    "    print(\"Taj Mahal\")\n",
    "else:\n",
    "    print(\"WARNING : please enter city name correctly\")\n",
    "    "
   ]
  },
  {
   "cell_type": "markdown",
   "id": "866a385b",
   "metadata": {},
   "source": [
    "#### 17. Write a program to check whether a person is eligible for voting or not  (voting age>=18)."
   ]
  },
  {
   "cell_type": "code",
   "execution_count": 17,
   "id": "bdff6d73",
   "metadata": {},
   "outputs": [
    {
     "name": "stdout",
     "output_type": "stream",
     "text": [
      "Enter your age : 1\n",
      "Person is not eligible to vote\n"
     ]
    }
   ],
   "source": [
    "age = int(input(\"Enter your age : \"))\n",
    "if age>=18:\n",
    "    print(\"Person is eligible to vote\")\n",
    "else:\n",
    "    print(\"Person is not eligible to vote\")\n",
    "    "
   ]
  },
  {
   "cell_type": "markdown",
   "id": "f1b00a15",
   "metadata": {},
   "source": [
    "#### 18.Accept three sides of the triangle and check whether the triangle is possible or not.(Triangle is possible only when the sum of any two sides is greater than 3 rd side)"
   ]
  },
  {
   "cell_type": "code",
   "execution_count": 40,
   "id": "12cdee13",
   "metadata": {},
   "outputs": [
    {
     "ename": "SyntaxError",
     "evalue": "expected ':' (3194449012.py, line 4)",
     "output_type": "error",
     "traceback": [
      "\u001b[1;36m  Cell \u001b[1;32mIn[40], line 4\u001b[1;36m\u001b[0m\n\u001b[1;33m    if (x>0) and (y>0) and (z>0) and (x+y+z == 180)\u001b[0m\n\u001b[1;37m                                                   ^\u001b[0m\n\u001b[1;31mSyntaxError\u001b[0m\u001b[1;31m:\u001b[0m expected ':'\n"
     ]
    }
   ],
   "source": [
    "x =int(input(\"Enter the side of a triangle AB :\"))\n",
    "y =int(input(\"Enter the side of a triangle BC :\"))\n",
    "z =int(input(\"Enter the side of a triangle CD :\"))\n",
    "if (x>0) and (y>0) and (z>0) and (x+y+z == 180)\n",
    "   "
   ]
  }
 ],
 "metadata": {
  "kernelspec": {
   "display_name": "Python 3 (ipykernel)",
   "language": "python",
   "name": "python3"
  },
  "language_info": {
   "codemirror_mode": {
    "name": "ipython",
    "version": 3
   },
   "file_extension": ".py",
   "mimetype": "text/x-python",
   "name": "python",
   "nbconvert_exporter": "python",
   "pygments_lexer": "ipython3",
   "version": "3.11.5"
  }
 },
 "nbformat": 4,
 "nbformat_minor": 5
}
