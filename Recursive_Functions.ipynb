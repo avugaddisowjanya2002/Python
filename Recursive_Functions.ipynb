{
 "cells": [
  {
   "cell_type": "markdown",
   "id": "d7410810",
   "metadata": {},
   "source": [
    "<b>Recursive Function : </b> Recursive functions are functions that calls itself. It is always made up of 2 portions, the base case and the recursive case.\n",
    "\n",
    "The <b>base case</b> is the condition to stop the recursion. The <b>recursive case</b> is the part where the function calls on itself."
   ]
  },
  {
   "cell_type": "code",
   "execution_count": 10,
   "id": "94ec23f8",
   "metadata": {},
   "outputs": [],
   "source": [
    "def fooFact(n):\n",
    "    r=1\n",
    "    for i in range(1,n+1):\n",
    "        r*=i\n",
    "    return r"
   ]
  },
  {
   "cell_type": "code",
   "execution_count": 11,
   "id": "759940f1",
   "metadata": {},
   "outputs": [
    {
     "data": {
      "text/plain": [
       "120"
      ]
     },
     "execution_count": 11,
     "metadata": {},
     "output_type": "execute_result"
    }
   ],
   "source": [
    "fooFact(5)"
   ]
  },
  {
   "cell_type": "code",
   "execution_count": 7,
   "id": "897b6c29",
   "metadata": {},
   "outputs": [],
   "source": [
    "def fooRecFact(n):\n",
    "    if n==1:\n",
    "        return 1\n",
    "    else:\n",
    "        return n*fooRecFact(n-1)"
   ]
  },
  {
   "cell_type": "code",
   "execution_count": 8,
   "id": "6a238642",
   "metadata": {},
   "outputs": [
    {
     "data": {
      "text/plain": [
       "120"
      ]
     },
     "execution_count": 8,
     "metadata": {},
     "output_type": "execute_result"
    }
   ],
   "source": [
    "fooRecFact(5)"
   ]
  },
  {
   "cell_type": "code",
   "execution_count": null,
   "id": "70c5f665",
   "metadata": {},
   "outputs": [],
   "source": [
    "''' \n",
    "def foo()\n",
    "'''"
   ]
  },
  {
   "cell_type": "markdown",
   "id": "d8905649",
   "metadata": {},
   "source": [
    "<b>STACK MEMORY</b> :The stack is a region of memory used for storing local variables and function call information. It operates on a Last-In-First-Out (LIFO) basis, where the most recently added item is the first to be removed."
   ]
  },
  {
   "cell_type": "markdown",
   "id": "ee74d52f",
   "metadata": {},
   "source": [
    "fibnocii series : 1,1,2,3,5,8,13......."
   ]
  },
  {
   "cell_type": "code",
   "execution_count": 40,
   "id": "47e26421",
   "metadata": {},
   "outputs": [],
   "source": [
    "def fooFib(n):\n",
    "        if n<=1:\n",
    "            return n\n",
    "        else:\n",
    "            return fooFib(n-1)+fooFib(n-2)"
   ]
  },
  {
   "cell_type": "code",
   "execution_count": 41,
   "id": "495b2e06",
   "metadata": {},
   "outputs": [
    {
     "data": {
      "text/plain": [
       "5"
      ]
     },
     "execution_count": 41,
     "metadata": {},
     "output_type": "execute_result"
    }
   ],
   "source": [
    "fooFib(5)"
   ]
  },
  {
   "cell_type": "code",
   "execution_count": 42,
   "id": "94e40efb",
   "metadata": {},
   "outputs": [
    {
     "name": "stdout",
     "output_type": "stream",
     "text": [
      "0, 1, 1, 2, 3, "
     ]
    }
   ],
   "source": [
    "for i in range(5):\n",
    "    print(fooFib(i), end = ', ')"
   ]
  },
  {
   "cell_type": "code",
   "execution_count": 43,
   "id": "146e364e",
   "metadata": {},
   "outputs": [],
   "source": [
    "def foorecfib(n):\n",
    "    if n==0:\n",
    "        return 0\n",
    "    elif n==1:\n",
    "        return 1\n",
    "    else:\n",
    "        return foorecfib(n-1)+foorecfib(n-2)"
   ]
  },
  {
   "cell_type": "code",
   "execution_count": 45,
   "id": "88a68994",
   "metadata": {},
   "outputs": [
    {
     "data": {
      "text/plain": [
       "8"
      ]
     },
     "execution_count": 45,
     "metadata": {},
     "output_type": "execute_result"
    }
   ],
   "source": [
    "foorecfib(6)"
   ]
  },
  {
   "cell_type": "code",
   "execution_count": 46,
   "id": "b685e738",
   "metadata": {},
   "outputs": [
    {
     "name": "stdout",
     "output_type": "stream",
     "text": [
      "0, 1, 1, 2, 3, "
     ]
    }
   ],
   "source": [
    "for i in range(5):\n",
    "    print(foorecfib(i),end=', ')"
   ]
  },
  {
   "cell_type": "markdown",
   "id": "479ee24e",
   "metadata": {},
   "source": [
    "#### There are two special symbols:\n",
    "\n",
    "![](https://media.geeksforgeeks.org/wp-content/uploads/20200907141910/keyword-300x176.PNG)\n",
    "\n",
    "\n",
    "    Special Symbols Used for passing arguments in Python:\n",
    "\n",
    "    *args (Non-Keyword Arguments)\n",
    "    **kwargs (Keyword Arguments)\n",
    "    Note: “We use the “wildcard” or “*” notation like this – *args OR **kwargs – as our function’s argument when we have doubts about the number of  arguments we should pass in a function.”\n"
   ]
  },
  {
   "cell_type": "markdown",
   "id": "ceaf42ec",
   "metadata": {},
   "source": [
    "![](https://i.pinimg.com/originals/1f/14/30/1f14303deaa68bfa3d45b696f183be71.jpg)"
   ]
  },
  {
   "cell_type": "markdown",
   "id": "6eb943ed",
   "metadata": {},
   "source": [
    " Python *args :\n",
    "* The special syntax *args in function definitions in Python is used to pass a variable number of arguments to a function. It is used to pass a non-keyworded, variable-length argument list. \n",
    "\n",
    "* The syntax is to use the symbol * to take in a variable number of arguments; by convention, it is often used with the word args.\n",
    "* What *args allows you to do is take in more arguments than the number of formal arguments that you previously defined. With *args, any number of extra arguments can be tacked on to your current formal parameters (including zero extra arguments).\n",
    "* For example, we want to make a multiply function that takes any number of arguments and is able to multiply them all together. It can be done using *args.\n",
    "* Using the *, the variable that we associate with the * becomes iterable meaning you can do things like iterate over it, run some higher-order functions such as map and filter, etc."
   ]
  },
  {
   "cell_type": "markdown",
   "id": "f33946d0",
   "metadata": {},
   "source": [
    "###### Python **kwargs :\n",
    "* The special syntax **kwargs in function definitions in Python is used to pass a keyworded, variable-length argument list. We use the name kwargs with the double star. The reason is that the double star allows us to pass through keyword arguments (and any number of them).\n",
    "\n",
    "* A keyword argument is where you provide a name to the variable as you pass it into the function.\n",
    "* One can think of the kwargs as being a dictionary that maps each keyword to the value that we pass alongside it. That is why when we iterate over the kwargs there doesn’t seem to be any order in which they were printed out."
   ]
  },
  {
   "cell_type": "code",
   "execution_count": 51,
   "id": "c2489f36",
   "metadata": {},
   "outputs": [],
   "source": [
    "def foo(a,b,c=0,*args,**kwargs):\n",
    "    r=a+b+c\n",
    "    for arg in args:\n",
    "        r+=arg\n",
    "    return r"
   ]
  },
  {
   "cell_type": "code",
   "execution_count": 52,
   "id": "eb4b24a6",
   "metadata": {},
   "outputs": [
    {
     "data": {
      "text/plain": [
       "21"
      ]
     },
     "execution_count": 52,
     "metadata": {},
     "output_type": "execute_result"
    }
   ],
   "source": [
    "foo(1,2,3, *(4,5,6))"
   ]
  },
  {
   "cell_type": "code",
   "execution_count": 53,
   "id": "a2ffae70",
   "metadata": {},
   "outputs": [],
   "source": [
    "def foo(a,b,c=0,*args,**kwargs):\n",
    "    r=a+b+c\n",
    "    for arg in args:\n",
    "        r+=arg\n",
    "        \n",
    "    for kwarg in kwargs:\n",
    "        print(kwargs[kwarg])\n",
    "    return r"
   ]
  },
  {
   "cell_type": "code",
   "execution_count": 54,
   "id": "ac58c47a",
   "metadata": {},
   "outputs": [
    {
     "name": "stdout",
     "output_type": "stream",
     "text": [
      "[1, 2, 3]\n"
     ]
    },
    {
     "data": {
      "text/plain": [
       "21"
      ]
     },
     "execution_count": 54,
     "metadata": {},
     "output_type": "execute_result"
    }
   ],
   "source": [
    "foo(1,2,3, *(4,5,6),**{'marks':[1,2,3]})"
   ]
  },
  {
   "cell_type": "code",
   "execution_count": 1,
   "id": "b3eb001d",
   "metadata": {},
   "outputs": [],
   "source": [
    "def foostumarks(**kwargs):\n",
    "    for kwarg in kwargs:\n",
    "        print(f'Total marks scored by {kwarg} is {sum(kwargs[kwarg])}')"
   ]
  },
  {
   "cell_type": "code",
   "execution_count": 2,
   "id": "aeae7927",
   "metadata": {},
   "outputs": [
    {
     "name": "stdout",
     "output_type": "stream",
     "text": [
      "Total marks scored by ram is 50\n",
      "Total marks scored by teena is 60\n",
      "Total marks scored by tinku is 60\n"
     ]
    }
   ],
   "source": [
    "foostumarks(**{'ram':(10,20,20),\n",
    "              'teena':(20,30,10),\n",
    "              'tinku':(10,20,30),}\n",
    "           )\n",
    "            "
   ]
  },
  {
   "cell_type": "code",
   "execution_count": null,
   "id": "60dc5169",
   "metadata": {},
   "outputs": [],
   "source": []
  },
  {
   "cell_type": "code",
   "execution_count": null,
   "id": "84da1345",
   "metadata": {},
   "outputs": [],
   "source": []
  },
  {
   "cell_type": "code",
   "execution_count": null,
   "id": "af6592e1",
   "metadata": {},
   "outputs": [],
   "source": []
  }
 ],
 "metadata": {
  "kernelspec": {
   "display_name": "Python 3 (ipykernel)",
   "language": "python",
   "name": "python3"
  },
  "language_info": {
   "codemirror_mode": {
    "name": "ipython",
    "version": 3
   },
   "file_extension": ".py",
   "mimetype": "text/x-python",
   "name": "python",
   "nbconvert_exporter": "python",
   "pygments_lexer": "ipython3",
   "version": "3.11.5"
  }
 },
 "nbformat": 4,
 "nbformat_minor": 5
}
