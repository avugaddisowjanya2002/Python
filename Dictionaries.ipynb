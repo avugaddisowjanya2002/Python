{
 "cells": [
  {
   "cell_type": "markdown",
   "id": "47ddd5b3",
   "metadata": {},
   "source": [
    "##  Dictionary\n",
    "Dictionaries are used to store data values in key:value pairs.\n",
    "\n",
    "A dictionary is a collection which is ordered*, changeable and do not allow duplicates.\n",
    "#### Changeable\n",
    "Dictionaries are changeable, meaning that we can change, add or remove items after the dictionary has been created.\n",
    "\n",
    "\n",
    "\n",
    "#### Duplicates Not Allowed\n",
    "Dictionaries cannot have two items with the same key:\n",
    "\n"
   ]
  },
  {
   "cell_type": "markdown",
   "id": "fd673e14",
   "metadata": {},
   "source": [
    "\n",
    "## creating an empty dictionary\n",
    "\n",
    "    Empty dictionary can also be created by using dict().\n",
    "    An empty dictionary can be created by just placing to curly braces{}.\n",
    "\n"
   ]
  },
  {
   "cell_type": "code",
   "execution_count": 21,
   "id": "e8340b04",
   "metadata": {},
   "outputs": [
    {
     "name": "stdout",
     "output_type": "stream",
     "text": [
      "{} <class 'dict'>\n"
     ]
    }
   ],
   "source": [
    "x={}\n",
    "print(x,type(x))"
   ]
  },
  {
   "cell_type": "code",
   "execution_count": 22,
   "id": "24bc9e36",
   "metadata": {},
   "outputs": [
    {
     "name": "stdout",
     "output_type": "stream",
     "text": [
      "{} <class 'dict'>\n"
     ]
    }
   ],
   "source": [
    "x=dict()\n",
    "print(x,type(x))"
   ]
  },
  {
   "cell_type": "code",
   "execution_count": 14,
   "id": "c547396a",
   "metadata": {},
   "outputs": [
    {
     "name": "stdout",
     "output_type": "stream",
     "text": [
      "{'roll_no': '12r21a0789', 'branch': 'cse', 'year': 2023}\n"
     ]
    }
   ],
   "source": [
    "thisdict = {\n",
    "  \"roll_no\": \"12r21a0789\", #key and value pair\n",
    "  \"branch\": \"cse\",  #key and value pair\n",
    "  \"year\": 2023  #key and value pair\n",
    "}\n",
    "print(thisdict)"
   ]
  },
  {
   "cell_type": "code",
   "execution_count": 15,
   "id": "ee277c53",
   "metadata": {},
   "outputs": [
    {
     "data": {
      "text/plain": [
       "{261: [1, 2, 3], 'hello': (4, 5, 6), ('c', 'v'): 5}"
      ]
     },
     "execution_count": 15,
     "metadata": {},
     "output_type": "execute_result"
    }
   ],
   "source": [
    "x= {261:[1,2,3], #key and value pair\n",
    "   'hello':(4,5,6),# key and value pair\n",
    "    ('c','v') : 5} # key and value pair\n",
    "x"
   ]
  },
  {
   "cell_type": "markdown",
   "id": "53995491",
   "metadata": {},
   "source": [
    "## Dictionary Items :\n",
    "Dictionary items are ordered, changeable, and does not allow duplicates.\n",
    "\n",
    "Dictionary items are presented in key:value pairs, and can be referred to by using the key name."
   ]
  },
  {
   "cell_type": "code",
   "execution_count": 16,
   "id": "11687356",
   "metadata": {},
   "outputs": [
    {
     "name": "stdout",
     "output_type": "stream",
     "text": [
      "cse\n"
     ]
    }
   ],
   "source": [
    "thisdict = {\n",
    "  \"roll_no\": \"12r21a0789\", #key and value pair\n",
    "  \"branch\": \"cse\",  #key and value pair\n",
    "  \"year\": 2023  #key and value pair\n",
    "}\n",
    "print(thisdict[\"branch\"])"
   ]
  },
  {
   "cell_type": "code",
   "execution_count": 17,
   "id": "088de187",
   "metadata": {},
   "outputs": [
    {
     "data": {
      "text/plain": [
       "{261: [1, 2, 3], 'hello': ['hi']}"
      ]
     },
     "execution_count": 17,
     "metadata": {},
     "output_type": "execute_result"
    }
   ],
   "source": [
    "x= {261:[1,2,3], #key and value pair\n",
    "   'hello':(4,5,6),# key and value pair\n",
    "    'hello':['hi']} # duplicates are not displayed but last value of the key is taken\n",
    "x"
   ]
  },
  {
   "cell_type": "markdown",
   "id": "c94b38fa",
   "metadata": {},
   "source": [
    "## Dictionary Length\n",
    "To determine how many items a dictionary has, use the len() function:"
   ]
  },
  {
   "cell_type": "code",
   "execution_count": 18,
   "id": "201aa4bd",
   "metadata": {},
   "outputs": [
    {
     "name": "stdout",
     "output_type": "stream",
     "text": [
      "3\n"
     ]
    }
   ],
   "source": [
    "print(len(thisdict))"
   ]
  },
  {
   "cell_type": "code",
   "execution_count": 19,
   "id": "459b861e",
   "metadata": {},
   "outputs": [
    {
     "data": {
      "text/plain": [
       "'h'"
      ]
     },
     "execution_count": 19,
     "metadata": {},
     "output_type": "execute_result"
    }
   ],
   "source": [
    "x['hello'][0][0] #index"
   ]
  },
  {
   "cell_type": "markdown",
   "id": "adbfba20",
   "metadata": {},
   "source": [
    "## The dict() Constructor\n",
    "It is also possible to use the dict() constructor to make a dictionary."
   ]
  },
  {
   "cell_type": "code",
   "execution_count": 20,
   "id": "4a728c35",
   "metadata": {},
   "outputs": [
    {
     "name": "stdout",
     "output_type": "stream",
     "text": [
      "{'name': 'Sowji', 'age': 21, 'country': 'India'}\n"
     ]
    }
   ],
   "source": [
    "thisdict = dict(name = \"Sowji\", age = 21, country = \"India\")\n",
    "print(thisdict)"
   ]
  },
  {
   "cell_type": "markdown",
   "id": "edf6d02a",
   "metadata": {},
   "source": [
    "## Nested Dictionary\n",
    "\n",
    "Nesting Dictionary means putting a dictionary inside another dictionary. Nesting is of great use as the kind of information we can model in programs is expanded greatly.\n",
    "\n",
    "nested_dict = {'dict1': {'key_A': 'value_A'}, 'dict2': {'key_B': 'value_B'}} "
   ]
  },
  {
   "cell_type": "code",
   "execution_count": 24,
   "id": "7daa2abb",
   "metadata": {},
   "outputs": [
    {
     "name": "stdout",
     "output_type": "stream",
     "text": [
      "{12: {1: 'sowjanya'}, 30: {13: 'sowji'}}\n"
     ]
    }
   ],
   "source": [
    "a={12:{1:'sowjanya'},30:{13:'sowji'}}\n",
    "print(a)"
   ]
  },
  {
   "cell_type": "markdown",
   "id": "b87f746b",
   "metadata": {},
   "source": [
    "\n",
    "## Range\n",
    "\n",
    "    range()populates a numbers within a given range\n",
    "    syntax for range() is : range(start,end,step)\n",
    "        start is starting number\n",
    "        end is till end , not including end\n",
    "        step is step size\n",
    "    default values of start is zero and step is +1\n",
    "\n"
   ]
  },
  {
   "cell_type": "code",
   "execution_count": 26,
   "id": "4c151afb",
   "metadata": {},
   "outputs": [
    {
     "name": "stdout",
     "output_type": "stream",
     "text": [
      "range(5, 15)\n",
      "<class 'range'>\n",
      "0x1fedecd1f80\n"
     ]
    }
   ],
   "source": [
    "r= range(5,15)  # till end means upto 14\n",
    "print(r,type(r),hex(id(r)),sep='\\n')"
   ]
  },
  {
   "cell_type": "code",
   "execution_count": 27,
   "id": "f6deab2f",
   "metadata": {},
   "outputs": [
    {
     "data": {
      "text/plain": [
       "['__class__',\n",
       " '__class_getitem__',\n",
       " '__contains__',\n",
       " '__delattr__',\n",
       " '__delitem__',\n",
       " '__dir__',\n",
       " '__doc__',\n",
       " '__eq__',\n",
       " '__format__',\n",
       " '__ge__',\n",
       " '__getattribute__',\n",
       " '__getitem__',\n",
       " '__getstate__',\n",
       " '__gt__',\n",
       " '__hash__',\n",
       " '__init__',\n",
       " '__init_subclass__',\n",
       " '__ior__',\n",
       " '__iter__',\n",
       " '__le__',\n",
       " '__len__',\n",
       " '__lt__',\n",
       " '__ne__',\n",
       " '__new__',\n",
       " '__or__',\n",
       " '__reduce__',\n",
       " '__reduce_ex__',\n",
       " '__repr__',\n",
       " '__reversed__',\n",
       " '__ror__',\n",
       " '__setattr__',\n",
       " '__setitem__',\n",
       " '__sizeof__',\n",
       " '__str__',\n",
       " '__subclasshook__',\n",
       " 'clear',\n",
       " 'copy',\n",
       " 'fromkeys',\n",
       " 'get',\n",
       " 'items',\n",
       " 'keys',\n",
       " 'pop',\n",
       " 'popitem',\n",
       " 'setdefault',\n",
       " 'update',\n",
       " 'values']"
      ]
     },
     "execution_count": 27,
     "metadata": {},
     "output_type": "execute_result"
    }
   ],
   "source": [
    "dir(dict)"
   ]
  }
 ],
 "metadata": {
  "kernelspec": {
   "display_name": "Python 3 (ipykernel)",
   "language": "python",
   "name": "python3"
  },
  "language_info": {
   "codemirror_mode": {
    "name": "ipython",
    "version": 3
   },
   "file_extension": ".py",
   "mimetype": "text/x-python",
   "name": "python",
   "nbconvert_exporter": "python",
   "pygments_lexer": "ipython3",
   "version": "3.11.5"
  }
 },
 "nbformat": 4,
 "nbformat_minor": 5
}
