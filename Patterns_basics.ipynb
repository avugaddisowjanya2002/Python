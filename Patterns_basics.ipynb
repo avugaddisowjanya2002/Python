{
 "cells": [
  {
   "cell_type": "markdown",
   "id": "cbd34714",
   "metadata": {},
   "source": [
    "#### 1. TRIANGLE1 :\n",
    "    * * * * *\n",
    "    * * * *\n",
    "    * * *\n",
    "    * *\n",
    "    *"
   ]
  },
  {
   "cell_type": "code",
   "execution_count": 79,
   "id": "eface8d0",
   "metadata": {},
   "outputs": [],
   "source": [
    "def triangle_star(r):\n",
    "    for i in range(0,r+1):\n",
    "        for j in range(i,r):\n",
    "            print('*',end=' ')\n",
    "        print()"
   ]
  },
  {
   "cell_type": "code",
   "execution_count": 82,
   "id": "adfda310",
   "metadata": {},
   "outputs": [
    {
     "name": "stdout",
     "output_type": "stream",
     "text": [
      "* * * * * \n",
      "* * * * \n",
      "* * * \n",
      "* * \n",
      "* \n",
      "\n"
     ]
    }
   ],
   "source": [
    "triangle_star(5)"
   ]
  },
  {
   "cell_type": "code",
   "execution_count": 197,
   "id": "5b14a65b",
   "metadata": {},
   "outputs": [],
   "source": [
    "def triangle_1(r):\n",
    "    for i in range(0,r+1):\n",
    "        for j in range(i,r):\n",
    "            print(j,end=' ')\n",
    "        print()"
   ]
  },
  {
   "cell_type": "code",
   "execution_count": 198,
   "id": "7bf3398c",
   "metadata": {},
   "outputs": [
    {
     "name": "stdout",
     "output_type": "stream",
     "text": [
      "0 1 2 3 4 5 6 7 8 9 \n",
      "1 2 3 4 5 6 7 8 9 \n",
      "2 3 4 5 6 7 8 9 \n",
      "3 4 5 6 7 8 9 \n",
      "4 5 6 7 8 9 \n",
      "5 6 7 8 9 \n",
      "6 7 8 9 \n",
      "7 8 9 \n",
      "8 9 \n",
      "9 \n",
      "\n"
     ]
    }
   ],
   "source": [
    "triangle_1(10)"
   ]
  },
  {
   "cell_type": "code",
   "execution_count": 86,
   "id": "8375fd0e",
   "metadata": {},
   "outputs": [],
   "source": [
    "def pattern_star2(r):\n",
    "    for i in range(1,r+1):\n",
    "        for j in range(i):\n",
    "            print('*',end=' ')\n",
    "        print()"
   ]
  },
  {
   "cell_type": "code",
   "execution_count": 87,
   "id": "5d227f13",
   "metadata": {},
   "outputs": [
    {
     "name": "stdout",
     "output_type": "stream",
     "text": [
      "* \n",
      "* * \n",
      "* * * \n",
      "* * * * \n",
      "* * * * * \n"
     ]
    }
   ],
   "source": [
    "pattern_star2(5)"
   ]
  },
  {
   "cell_type": "code",
   "execution_count": 91,
   "id": "161b9609",
   "metadata": {},
   "outputs": [],
   "source": [
    "def pattern_2(r):\n",
    "    for i in range(1,r+1):\n",
    "        for j in range(i):\n",
    "            print(j,end=' ')\n",
    "        print()"
   ]
  },
  {
   "cell_type": "code",
   "execution_count": 92,
   "id": "13a3b3d5",
   "metadata": {},
   "outputs": [
    {
     "name": "stdout",
     "output_type": "stream",
     "text": [
      "0 \n",
      "0 1 \n",
      "0 1 2 \n",
      "0 1 2 3 \n",
      "0 1 2 3 4 \n"
     ]
    }
   ],
   "source": [
    "pattern_2(5)"
   ]
  },
  {
   "cell_type": "code",
   "execution_count": 93,
   "id": "adbeef26",
   "metadata": {},
   "outputs": [],
   "source": [
    "def pattern_star3(r):\n",
    "    for i in range(r,-1,-1):\n",
    "        for j in range(i,r):\n",
    "            print(' ',end=' ')\n",
    "        for j in range(i+1):\n",
    "            print('*',end=' ')\n",
    "        print()"
   ]
  },
  {
   "cell_type": "code",
   "execution_count": 94,
   "id": "6bb51ad1",
   "metadata": {},
   "outputs": [
    {
     "name": "stdout",
     "output_type": "stream",
     "text": [
      "* * * * * * \n",
      "  * * * * * \n",
      "    * * * * \n",
      "      * * * \n",
      "        * * \n",
      "          * \n"
     ]
    }
   ],
   "source": [
    "pattern_star3(5)"
   ]
  },
  {
   "cell_type": "code",
   "execution_count": 167,
   "id": "baeb0627",
   "metadata": {},
   "outputs": [],
   "source": [
    "def pattern_3(r):\n",
    "    for i in range(r,-1,-1):\n",
    "        for j in range(i,r):\n",
    "            print(' ',end=' ')\n",
    "        for j in range(i+1):\n",
    "            print(chr(65+j),end=' ')\n",
    "        print()"
   ]
  },
  {
   "cell_type": "code",
   "execution_count": 168,
   "id": "b06f32ae",
   "metadata": {},
   "outputs": [
    {
     "name": "stdout",
     "output_type": "stream",
     "text": [
      "A B C D E F \n",
      "  A B C D E \n",
      "    A B C D \n",
      "      A B C \n",
      "        A B \n",
      "          A \n"
     ]
    }
   ],
   "source": [
    "pattern_3(5)"
   ]
  },
  {
   "cell_type": "code",
   "execution_count": null,
   "id": "2b6b8f7c",
   "metadata": {},
   "outputs": [],
   "source": [
    "def pattern_4(r):\n",
    "    for i in range(x,-1,-1):\n",
    "        print('',end=' ')\n",
    "        for j in range(i+1):\n",
    "            print('*',end=' ')\n",
    "        "
   ]
  },
  {
   "cell_type": "code",
   "execution_count": 13,
   "id": "f258548a",
   "metadata": {},
   "outputs": [
    {
     "name": "stdout",
     "output_type": "stream",
     "text": [
      "1 \n",
      "2 2 \n",
      "3 3 3 \n",
      "4 4 4 4 \n",
      "5 5 5 5 5 \n"
     ]
    }
   ],
   "source": [
    "for i in range(1,r+1):\n",
    "    for j in range(i):\n",
    "        print(i,end=' ')\n",
    "    print()"
   ]
  },
  {
   "cell_type": "code",
   "execution_count": 105,
   "id": "048015e6",
   "metadata": {},
   "outputs": [],
   "source": [
    "def upper_pyramid(n):\n",
    "    for i in range(n):\n",
    "        for j in range(i,n):\n",
    "            print(' ',end=' ')\n",
    "        for j in range(i):\n",
    "            print('*',end=' ')\n",
    "        for j in range(i+1):\n",
    "            print('*',end=' ')\n",
    "        print()"
   ]
  },
  {
   "cell_type": "code",
   "execution_count": 106,
   "id": "6f2306ba",
   "metadata": {},
   "outputs": [
    {
     "name": "stdout",
     "output_type": "stream",
     "text": [
      "          * \n",
      "        * * * \n",
      "      * * * * * \n",
      "    * * * * * * * \n",
      "  * * * * * * * * * \n"
     ]
    }
   ],
   "source": [
    "upper_pyramid(5)"
   ]
  },
  {
   "cell_type": "code",
   "execution_count": 114,
   "id": "888bf60f",
   "metadata": {},
   "outputs": [],
   "source": [
    "def lower_pyramid(n):\n",
    "    for i in range(n,-1,-1):\n",
    "        for j in range(i,n):\n",
    "            print(' ',end=' ')\n",
    "        for j in range(i):\n",
    "            print('*',end=' ')\n",
    "        for j in range(i+1):\n",
    "            print('*',end=' ')\n",
    "        print()"
   ]
  },
  {
   "cell_type": "code",
   "execution_count": 116,
   "id": "b16e09c2",
   "metadata": {},
   "outputs": [
    {
     "name": "stdout",
     "output_type": "stream",
     "text": [
      "* * * * * * * * * * * * * * * * * * * * * \n",
      "  * * * * * * * * * * * * * * * * * * * \n",
      "    * * * * * * * * * * * * * * * * * \n",
      "      * * * * * * * * * * * * * * * \n",
      "        * * * * * * * * * * * * * \n",
      "          * * * * * * * * * * * \n",
      "            * * * * * * * * * \n",
      "              * * * * * * * \n",
      "                * * * * * \n",
      "                  * * * \n",
      "                    * \n"
     ]
    }
   ],
   "source": [
    "lower_pyramid(10)"
   ]
  },
  {
   "cell_type": "code",
   "execution_count": 42,
   "id": "0b999b07",
   "metadata": {},
   "outputs": [],
   "source": [
    "def hour_glass (n):\n",
    "    for i in range(n-1,-1,-1):\n",
    "        for j in range(i,n):\n",
    "            print(' ',end=' ')\n",
    "        for j in range(i):\n",
    "            print('*',end=' ')\n",
    "        for j in range(i+1):\n",
    "            print('*',end=' ')\n",
    "        print()\n",
    "    for i in range(n):\n",
    "        for j in range(i,n):\n",
    "            print(' ',end=' ')\n",
    "        for j in range(i):\n",
    "            print('*',end=' ')\n",
    "        for j in range(i+1):\n",
    "            print('*',end=' ')\n",
    "        print()\n",
    "    "
   ]
  },
  {
   "cell_type": "code",
   "execution_count": 43,
   "id": "119f9798",
   "metadata": {},
   "outputs": [
    {
     "name": "stdout",
     "output_type": "stream",
     "text": [
      "  * * * * * * * * * \n",
      "    * * * * * * * \n",
      "      * * * * * \n",
      "        * * * \n",
      "          * \n",
      "          * \n",
      "        * * * \n",
      "      * * * * * \n",
      "    * * * * * * * \n",
      "  * * * * * * * * * \n"
     ]
    }
   ],
   "source": [
    "hour_glass(5)"
   ]
  },
  {
   "cell_type": "code",
   "execution_count": 200,
   "id": "cc4c87e4",
   "metadata": {},
   "outputs": [],
   "source": [
    "def hour_glass_number(n):\n",
    "    for i in range(n-1,-1,-1):\n",
    "        for j in range(i,n):\n",
    "            print(' ',end=' ')\n",
    "        for j in range(i):\n",
    "            print(j,end=' ')\n",
    "        for j in range(i+1):\n",
    "            print(j,end=' ')\n",
    "        print()\n",
    "    for i in range(n):\n",
    "        for j in range(i,n):\n",
    "            print(' ',end=' ')\n",
    "        for j in range(i):\n",
    "            print(j,end=' ')\n",
    "        for j in range(i+1):\n",
    "            print(j,end=' ')\n",
    "        print()\n",
    "    "
   ]
  },
  {
   "cell_type": "code",
   "execution_count": 201,
   "id": "7a3b70de",
   "metadata": {},
   "outputs": [
    {
     "name": "stdout",
     "output_type": "stream",
     "text": [
      "  0 1 2 3 0 1 2 3 4 \n",
      "    0 1 2 0 1 2 3 \n",
      "      0 1 0 1 2 \n",
      "        0 0 1 \n",
      "          0 \n",
      "          0 \n",
      "        0 0 1 \n",
      "      0 1 0 1 2 \n",
      "    0 1 2 0 1 2 3 \n",
      "  0 1 2 3 0 1 2 3 4 \n"
     ]
    }
   ],
   "source": [
    "hour_glass_number(5)"
   ]
  },
  {
   "cell_type": "code",
   "execution_count": 11,
   "id": "6b97fbac",
   "metadata": {},
   "outputs": [],
   "source": [
    "def funrhombus(n):\n",
    "    for i in range(n):\n",
    "        for j in range(i,n):\n",
    "            print(' ',end=' ')\n",
    "        for j in range(i):\n",
    "            print('*',end=' ')\n",
    "        for j in range(i+1):\n",
    "            print('*',end=' ')\n",
    "        print()\n",
    "    for i in range(n,-1,-1):\n",
    "        for j in range(i,n):\n",
    "            print(' ',end=' ')\n",
    "        for j in range(i):\n",
    "            print('*',end=' ')\n",
    "        for j in range(i+1):\n",
    "            print('*',end=' ')\n",
    "        print()\n",
    " "
   ]
  },
  {
   "cell_type": "code",
   "execution_count": 13,
   "id": "16d6085e",
   "metadata": {},
   "outputs": [
    {
     "name": "stdout",
     "output_type": "stream",
     "text": [
      "          * \n",
      "        * * * \n",
      "      * * * * * \n",
      "    * * * * * * * \n",
      "  * * * * * * * * * \n",
      "* * * * * * * * * * * \n",
      "  * * * * * * * * * \n",
      "    * * * * * * * \n",
      "      * * * * * \n",
      "        * * * \n",
      "          * \n"
     ]
    }
   ],
   "source": [
    "funrhombus(5)"
   ]
  },
  {
   "cell_type": "code",
   "execution_count": 204,
   "id": "c7a566d5",
   "metadata": {},
   "outputs": [],
   "source": [
    "def rhombus_numbers(n):\n",
    "    for i in range(n):\n",
    "        for j in range(i,n):\n",
    "            print(' ',end=' ')\n",
    "        for j in range(i):\n",
    "            print(j,end=' ')\n",
    "        for j in range(i+1):\n",
    "            print(j,end=' ')\n",
    "        print()\n",
    "    for i in range(n,-1,-1):\n",
    "        for j in range(i,n):\n",
    "            print(' ',end=' ')\n",
    "        for j in range(i):\n",
    "            print(j,end=' ')\n",
    "        for j in range(i+1):\n",
    "            print(j,end=' ')\n",
    "        print()"
   ]
  },
  {
   "cell_type": "code",
   "execution_count": 205,
   "id": "ef6d059b",
   "metadata": {},
   "outputs": [
    {
     "name": "stdout",
     "output_type": "stream",
     "text": [
      "          0 \n",
      "        0 0 1 \n",
      "      0 1 0 1 2 \n",
      "    0 1 2 0 1 2 3 \n",
      "  0 1 2 3 0 1 2 3 4 \n",
      "0 1 2 3 4 0 1 2 3 4 5 \n",
      "  0 1 2 3 0 1 2 3 4 \n",
      "    0 1 2 0 1 2 3 \n",
      "      0 1 0 1 2 \n",
      "        0 0 1 \n",
      "          0 \n"
     ]
    }
   ],
   "source": [
    "rhombus_numbers(5)"
   ]
  },
  {
   "cell_type": "code",
   "execution_count": 118,
   "id": "07029a8c",
   "metadata": {},
   "outputs": [],
   "source": [
    "def parllelogram_1(n):\n",
    "    for i in range(n):\n",
    "        for j in range(i,n):\n",
    "            print(' ',end=' ')\n",
    "        for j in range(i,n):\n",
    "            print('*',end=' ')\n",
    "        for j in range(i+1):\n",
    "            print('*',end=' ')\n",
    "        print()"
   ]
  },
  {
   "cell_type": "code",
   "execution_count": 119,
   "id": "eda14f65",
   "metadata": {},
   "outputs": [
    {
     "name": "stdout",
     "output_type": "stream",
     "text": [
      "          * * * * * * \n",
      "        * * * * * * \n",
      "      * * * * * * \n",
      "    * * * * * * \n",
      "  * * * * * * \n"
     ]
    }
   ],
   "source": [
    "parllelogram_1(5)"
   ]
  },
  {
   "cell_type": "code",
   "execution_count": 142,
   "id": "10509f09",
   "metadata": {},
   "outputs": [],
   "source": [
    "def square(n):\n",
    "    for i in range(n):\n",
    "        for j in range(n,i-1):\n",
    "            print(' ',end=' ')\n",
    "        for j in range(i,n):\n",
    "            print('*',end=' ')\n",
    "        for j in range(i+1):\n",
    "            print('*',end=' ')\n",
    "        print()"
   ]
  },
  {
   "cell_type": "code",
   "execution_count": 143,
   "id": "828f7f3e",
   "metadata": {},
   "outputs": [
    {
     "name": "stdout",
     "output_type": "stream",
     "text": [
      "* * * * * * \n",
      "* * * * * * \n",
      "* * * * * * \n",
      "* * * * * * \n",
      "* * * * * * \n"
     ]
    }
   ],
   "source": [
    "square(5)"
   ]
  },
  {
   "cell_type": "markdown",
   "id": "e26521b5",
   "metadata": {},
   "source": []
  },
  {
   "cell_type": "code",
   "execution_count": 164,
   "id": "f7274716",
   "metadata": {},
   "outputs": [
    {
     "name": "stdout",
     "output_type": "stream",
     "text": [
      "* \n",
      "* * \n",
      "* * * \n",
      "* * * * \n",
      "* * * * * \n",
      "* * * * \n",
      "* * * \n",
      "* * \n",
      "* \n",
      "\n"
     ]
    }
   ],
   "source": [
    "for i in range(1,r+1):\n",
    "        for j in range(i):\n",
    "            print('*',end=' ')\n",
    "        print()\n",
    "for i in range(1,r+1):\n",
    "        for j in range(i,r):\n",
    "            print('*',end=' ')\n",
    "        print()\n"
   ]
  },
  {
   "cell_type": "code",
   "execution_count": 191,
   "id": "38874e8f",
   "metadata": {},
   "outputs": [
    {
     "name": "stdout",
     "output_type": "stream",
     "text": [
      "  0 1 2 3 0 1 2 3 4 \n",
      "    0 1 2 0 1 2 3 \n",
      "      0 1 0 1 2 \n",
      "        0 0 1 \n",
      "          0 \n",
      "          0 \n",
      "        0 0 1 \n",
      "      0 1 0 1 2 \n",
      "    0 1 2 0 1 2 3 \n",
      "  0 1 2 3 0 1 2 3 4 \n"
     ]
    }
   ],
   "source": [
    " n=5\n",
    "for i in range(n-1,-1,-1):\n",
    "        for j in range(i,n):\n",
    "            print(' ',end=' ')\n",
    "        for j in range(i):\n",
    "            print(j,end=' ')\n",
    "        for j in range(i+1):\n",
    "            print(j,end=' ')\n",
    "        print()\n",
    "for i in range(n):\n",
    "        for j in range(i,n):\n",
    "            print(' ',end=' ')\n",
    "        for j in range(i):\n",
    "            print(j,end=' ')\n",
    "        for j in range(i+1):\n",
    "            print(j,end=' ')\n",
    "        print()\n",
    "    "
   ]
  },
  {
   "cell_type": "code",
   "execution_count": null,
   "id": "8e047a3a",
   "metadata": {},
   "outputs": [],
   "source": []
  },
  {
   "cell_type": "code",
   "execution_count": null,
   "id": "bba47743",
   "metadata": {},
   "outputs": [],
   "source": []
  }
 ],
 "metadata": {
  "kernelspec": {
   "display_name": "Python 3 (ipykernel)",
   "language": "python",
   "name": "python3"
  },
  "language_info": {
   "codemirror_mode": {
    "name": "ipython",
    "version": 3
   },
   "file_extension": ".py",
   "mimetype": "text/x-python",
   "name": "python",
   "nbconvert_exporter": "python",
   "pygments_lexer": "ipython3",
   "version": "3.11.5"
  }
 },
 "nbformat": 4,
 "nbformat_minor": 5
}
