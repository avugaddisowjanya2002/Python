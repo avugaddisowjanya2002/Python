{
 "cells": [
  {
   "cell_type": "markdown",
   "id": "3ba323f5",
   "metadata": {},
   "source": [
    "## Functions :\n",
    "* A function is a block of code which only runs when it is called. You can pass data, known as parameters, into a function. A function can return data as a result.\n",
    "    The functions explained are Built-in Functions, User-defined Functions, Recursive Functions, Lambda Function\n",
    "    \n",
    "##### SYNTAX :\n",
    "  def my_function():\n",
    "      print(\"Hello from a function\")\n",
    "  my_function()\n",
    "\n",
    "\n",
    "### Parameter :\n",
    "* This article explains different types of Functions in Python. The functions explained are Built-in Functions, User-defined Functions, Recursive Functions, Lambda Function. A function is a block of code in Python that performs a particular task.\n",
    "\n",
    "##### From a function's perspective:\n",
    "\n",
    "    A parameter is the variable listed inside the parentheses in the function definition.\n",
    "\n",
    "    An argument is the value that is sent to the function when it is called.\n",
    "\n",
    "### Argument :\n",
    "* An argument is a value that is passed to a function when it is called. It might be a variable, value or object passed to a function or method as input. They are written when we are calling the function\n",
    "\n",
    "\n",
    "    In Python, we have the following 4 types of function arguments.\n",
    "* Default argument.\n",
    "* Keyword arguments (named arguments)\n",
    "* Positional arguments.\n",
    "* Arbitrary arguments (variable-length arguments *args and **kwargs)\n",
    "#####  Number of Arguments\n",
    "        By default, a function must be called with the correct number of arguments. Meaning that if your function expects 2 arguments, you have to call the function with 2 arguments, not more, and not less."
   ]
  },
  {
   "cell_type": "code",
   "execution_count": 1,
   "id": "4a41c67e",
   "metadata": {},
   "outputs": [],
   "source": [
    "def foosum(a,b):\n",
    "    print(a + b)\n",
    "    "
   ]
  },
  {
   "cell_type": "code",
   "execution_count": 2,
   "id": "1c3700cb",
   "metadata": {},
   "outputs": [
    {
     "name": "stdout",
     "output_type": "stream",
     "text": [
      "30\n"
     ]
    }
   ],
   "source": [
    "foosum(10,20)"
   ]
  },
  {
   "cell_type": "code",
   "execution_count": 3,
   "id": "37de0e60",
   "metadata": {},
   "outputs": [
    {
     "name": "stdout",
     "output_type": "stream",
     "text": [
      "0\n"
     ]
    }
   ],
   "source": [
    "foosum(-36,36)"
   ]
  },
  {
   "cell_type": "code",
   "execution_count": 8,
   "id": "488ef314",
   "metadata": {},
   "outputs": [],
   "source": [
    "def my_function(fname, lname):\n",
    "  print(fname + \" \" + lname)\n"
   ]
  },
  {
   "cell_type": "code",
   "execution_count": 3,
   "id": "f41f0db9",
   "metadata": {},
   "outputs": [
    {
     "name": "stdout",
     "output_type": "stream",
     "text": [
      "SOWJI CHIKKY\n"
     ]
    }
   ],
   "source": [
    "my_function(\"SOWJI\", \"CHIKKY\")"
   ]
  },
  {
   "cell_type": "markdown",
   "id": "5067a6e6",
   "metadata": {},
   "source": [
    "## Keyword Arguments\n",
    "    You can also send arguments with the key = value syntax.\n",
    "\n",
    "    This way the order of the arguments does not matter."
   ]
  },
  {
   "cell_type": "code",
   "execution_count": 6,
   "id": "74ec9a22",
   "metadata": {},
   "outputs": [],
   "source": [
    "def my_function(child3, child2, child1):\n",
    "  print(\"The youngest child is \" + child3)\n",
    "\n"
   ]
  },
  {
   "cell_type": "code",
   "execution_count": 7,
   "id": "51298f8b",
   "metadata": {},
   "outputs": [
    {
     "name": "stdout",
     "output_type": "stream",
     "text": [
      "The youngest child is Linus\n"
     ]
    }
   ],
   "source": [
    "my_function(child1 = \"Emil\", child2 = \"Tobias\", child3 = \"Linus\")"
   ]
  },
  {
   "cell_type": "markdown",
   "id": "6828b468",
   "metadata": {},
   "source": [
    "## Position Argument :\n",
    "    During a function call, values passed through arguments should be in the order of parameters in the function \n",
    "    definition"
   ]
  },
  {
   "cell_type": "code",
   "execution_count": 12,
   "id": "43fa03e5",
   "metadata": {},
   "outputs": [],
   "source": [
    "def fooDivision(numerator,denominator):  #position argument         \n",
    "    print(numerator/denominator)"
   ]
  },
  {
   "cell_type": "code",
   "execution_count": 13,
   "id": "efe3517c",
   "metadata": {},
   "outputs": [
    {
     "name": "stdout",
     "output_type": "stream",
     "text": [
      "5.0\n"
     ]
    }
   ],
   "source": [
    "fooDivision(10,2)"
   ]
  },
  {
   "cell_type": "code",
   "execution_count": 20,
   "id": "39c661eb",
   "metadata": {},
   "outputs": [],
   "source": [
    "def foo(a,b,c):\n",
    "    x=a+b\n",
    "    y=x/c\n",
    "    print(y)"
   ]
  },
  {
   "cell_type": "code",
   "execution_count": 25,
   "id": "85937c59",
   "metadata": {},
   "outputs": [
    {
     "ename": "TypeError",
     "evalue": "foo() got multiple values for argument 'a'",
     "output_type": "error",
     "traceback": [
      "\u001b[1;31m---------------------------------------------------------------------------\u001b[0m",
      "\u001b[1;31mTypeError\u001b[0m                                 Traceback (most recent call last)",
      "Cell \u001b[1;32mIn[25], line 1\u001b[0m\n\u001b[1;32m----> 1\u001b[0m foo(\u001b[38;5;241m1\u001b[39m,\u001b[38;5;241m2\u001b[39m,a\u001b[38;5;241m=\u001b[39m\u001b[38;5;241m6\u001b[39m)\n",
      "\u001b[1;31mTypeError\u001b[0m: foo() got multiple values for argument 'a'"
     ]
    }
   ],
   "source": [
    "foo(1,2,a=6) # throws an error a is already assigned 1 it cannot be 6\n"
   ]
  },
  {
   "cell_type": "code",
   "execution_count": 26,
   "id": "01cbff8c",
   "metadata": {},
   "outputs": [
    {
     "name": "stdout",
     "output_type": "stream",
     "text": [
      "0.5\n"
     ]
    }
   ],
   "source": [
    "foo(1,2,c=6)"
   ]
  },
  {
   "cell_type": "code",
   "execution_count": 33,
   "id": "a4390d97",
   "metadata": {},
   "outputs": [],
   "source": [
    "def fooDivision(d:float, n:float):\n",
    "    '''d=denominator\n",
    "    n = numerator'''           #docstring\n",
    "    print(n/d)"
   ]
  },
  {
   "cell_type": "code",
   "execution_count": 31,
   "id": "eeeb77ea",
   "metadata": {},
   "outputs": [
    {
     "name": "stdout",
     "output_type": "stream",
     "text": [
      "d=denominator\n",
      "    n = numerator\n"
     ]
    }
   ],
   "source": [
    "print(fooDivision.__doc__)\n"
   ]
  },
  {
   "cell_type": "markdown",
   "id": "e9ac79c7",
   "metadata": {},
   "source": [
    "## Arbitrary Arguments, *args or Variable-Length arguments:\n",
    "\n",
    "If you do not know how many arguments that will be passed into your function, add a * before the parameter name in the function definition.\n",
    "\n",
    "This way the function will receive a tuple of arguments, and can access the items accordingly:"
   ]
  },
  {
   "cell_type": "code",
   "execution_count": 13,
   "id": "0f1dd78b",
   "metadata": {},
   "outputs": [],
   "source": [
    "def my_function(*kids):\n",
    "  print(\"The youngest child is \" + kids[2])"
   ]
  },
  {
   "cell_type": "code",
   "execution_count": 14,
   "id": "3f9eed30",
   "metadata": {},
   "outputs": [
    {
     "name": "stdout",
     "output_type": "stream",
     "text": [
      "The youngest child is Linus\n"
     ]
    }
   ],
   "source": [
    "my_function(\"Emil\", \"Tobias\", \"Linus\")"
   ]
  },
  {
   "cell_type": "code",
   "execution_count": 15,
   "id": "7b0d3877",
   "metadata": {},
   "outputs": [],
   "source": [
    "def fooConcatenationOfString(s1:str,s2='',n=1):\n",
    "    print((s1+s2)*n)"
   ]
  },
  {
   "cell_type": "code",
   "execution_count": null,
   "id": "02e0bc80",
   "metadata": {},
   "outputs": [],
   "source": [
    "fooConcatenationOfString('he','ha',4)"
   ]
  },
  {
   "cell_type": "markdown",
   "id": "f98e2c0f",
   "metadata": {},
   "source": [
    "## Default Arguments: \n",
    "Default Parameter Value\n",
    "The following example shows how to use a default parameter value.\n",
    "\n",
    "If we call the function without argument, it uses the default value:"
   ]
  },
  {
   "cell_type": "code",
   "execution_count": 18,
   "id": "b7679c2b",
   "metadata": {},
   "outputs": [],
   "source": [
    "def fooPotentialEnergy(m,h,g=9.8):\n",
    "    print(m*h*g)"
   ]
  },
  {
   "cell_type": "code",
   "execution_count": 19,
   "id": "642a1563",
   "metadata": {},
   "outputs": [
    {
     "name": "stdout",
     "output_type": "stream",
     "text": [
      "294.0\n"
     ]
    }
   ],
   "source": [
    "fooPotentialEnergy(10,3)"
   ]
  },
  {
   "cell_type": "code",
   "execution_count": 20,
   "id": "9b482f41",
   "metadata": {},
   "outputs": [
    {
     "name": "stdout",
     "output_type": "stream",
     "text": [
      "294.0\n"
     ]
    }
   ],
   "source": [
    "fooPotentialEnergy(10,3) # we can change the g value given in parameter but we cant keep track"
   ]
  },
  {
   "cell_type": "code",
   "execution_count": null,
   "id": "4c3bc49b",
   "metadata": {},
   "outputs": [],
   "source": []
  },
  {
   "cell_type": "code",
   "execution_count": null,
   "id": "43de1c0c",
   "metadata": {},
   "outputs": [],
   "source": []
  },
  {
   "cell_type": "code",
   "execution_count": null,
   "id": "8ac5d7d2",
   "metadata": {},
   "outputs": [],
   "source": []
  },
  {
   "cell_type": "code",
   "execution_count": null,
   "id": "509b4f7c",
   "metadata": {},
   "outputs": [],
   "source": []
  },
  {
   "cell_type": "code",
   "execution_count": null,
   "id": "327d9a3b",
   "metadata": {},
   "outputs": [],
   "source": []
  },
  {
   "cell_type": "code",
   "execution_count": null,
   "id": "0d1610b1",
   "metadata": {},
   "outputs": [],
   "source": []
  },
  {
   "cell_type": "code",
   "execution_count": null,
   "id": "4d070d2f",
   "metadata": {},
   "outputs": [],
   "source": []
  },
  {
   "cell_type": "code",
   "execution_count": null,
   "id": "9d22a84b",
   "metadata": {},
   "outputs": [],
   "source": []
  },
  {
   "cell_type": "code",
   "execution_count": null,
   "id": "4287b390",
   "metadata": {},
   "outputs": [],
   "source": []
  },
  {
   "cell_type": "code",
   "execution_count": null,
   "id": "baafa7fd",
   "metadata": {},
   "outputs": [],
   "source": []
  },
  {
   "cell_type": "code",
   "execution_count": null,
   "id": "39fd612c",
   "metadata": {},
   "outputs": [],
   "source": []
  },
  {
   "cell_type": "code",
   "execution_count": null,
   "id": "763d814c",
   "metadata": {},
   "outputs": [],
   "source": []
  },
  {
   "cell_type": "code",
   "execution_count": null,
   "id": "48ae1ac7",
   "metadata": {},
   "outputs": [],
   "source": []
  },
  {
   "cell_type": "code",
   "execution_count": null,
   "id": "a46400aa",
   "metadata": {},
   "outputs": [],
   "source": []
  },
  {
   "cell_type": "code",
   "execution_count": null,
   "id": "8055cd9a",
   "metadata": {},
   "outputs": [],
   "source": []
  },
  {
   "cell_type": "code",
   "execution_count": null,
   "id": "51c6c5c6",
   "metadata": {},
   "outputs": [],
   "source": []
  },
  {
   "cell_type": "code",
   "execution_count": null,
   "id": "a2445d11",
   "metadata": {},
   "outputs": [],
   "source": []
  },
  {
   "cell_type": "code",
   "execution_count": null,
   "id": "4154c947",
   "metadata": {},
   "outputs": [],
   "source": []
  },
  {
   "cell_type": "code",
   "execution_count": null,
   "id": "7724bd67",
   "metadata": {},
   "outputs": [],
   "source": []
  },
  {
   "cell_type": "code",
   "execution_count": null,
   "id": "8c92503d",
   "metadata": {},
   "outputs": [],
   "source": []
  },
  {
   "cell_type": "code",
   "execution_count": null,
   "id": "c5b295ff",
   "metadata": {},
   "outputs": [],
   "source": []
  },
  {
   "cell_type": "code",
   "execution_count": null,
   "id": "ac71516a",
   "metadata": {},
   "outputs": [],
   "source": []
  },
  {
   "cell_type": "code",
   "execution_count": null,
   "id": "76b06079",
   "metadata": {},
   "outputs": [],
   "source": []
  }
 ],
 "metadata": {
  "kernelspec": {
   "display_name": "Python 3 (ipykernel)",
   "language": "python",
   "name": "python3"
  },
  "language_info": {
   "codemirror_mode": {
    "name": "ipython",
    "version": 3
   },
   "file_extension": ".py",
   "mimetype": "text/x-python",
   "name": "python",
   "nbconvert_exporter": "python",
   "pygments_lexer": "ipython3",
   "version": "3.11.5"
  }
 },
 "nbformat": 4,
 "nbformat_minor": 5
}
