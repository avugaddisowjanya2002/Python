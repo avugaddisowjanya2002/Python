{
 "cells": [
  {
   "cell_type": "markdown",
   "id": "0c52dba0",
   "metadata": {},
   "source": [
    "## Solve the problem using while loop and for loop\n",
    "\n",
    "### LEVEL - \"EASY\""
   ]
  },
  {
   "cell_type": "markdown",
   "id": "67120bb7",
   "metadata": {},
   "source": [
    "## 1. Return Only the Integer :\n",
    "* Write a function that takes a list of elements and returns only the integers.\n",
    "\n",
    "##### Examples\n",
    "* return_only_integer([9, 2, \"space\", \"car\", \"lion\", 16]) ➞ [9, 2, 16]\n",
    "\n",
    "* return_only_integer([\"hello\", 81, \"basketball\", 123, \"fox\"]) ➞ [81, 123]\n",
    "\n",
    "* return_only_integer([10, \"121\", 56, 20, \"car\", 3, \"lion\"]) ➞ [10, 56, 20, 3]\n",
    "\n",
    "* return_only_integer([\"String\",  True,  3.3,  1]) ➞ [1]"
   ]
  },
  {
   "cell_type": "code",
   "execution_count": 21,
   "id": "3b1ec4b6",
   "metadata": {},
   "outputs": [
    {
     "name": "stdout",
     "output_type": "stream",
     "text": [
      "Enter how many inputs you want to give: 6\n",
      "Enter the elements:kfjd\n",
      "Enter the elements:584\n",
      "Enter the elements:kfnjdj\n",
      "Enter the elements:-654882\n",
      "Enter the elements:cnndskjcsj54589632\n",
      "Enter the elements:-e555fmhhg\n",
      "['584']\n"
     ]
    }
   ],
   "source": [
    "#### USING FOR LOOP\n",
    "n=int(input(\"Enter how many elements you want to give: \"))\n",
    "l=[]\n",
    "for i in range(n):\n",
    "    elements = input(\"Enter the elements:\")\n",
    "    l.append(elements)\n",
    "x=[]\n",
    "for i in l:\n",
    "    if i.isdigit():\n",
    "        x.append(i)\n",
    "print(x)\n",
    "    \n",
    "\n",
    "    "
   ]
  },
  {
   "cell_type": "code",
   "execution_count": 21,
   "id": "f6c71694",
   "metadata": {},
   "outputs": [
    {
     "name": "stdout",
     "output_type": "stream",
     "text": [
      "Enter how many elements you want to give: 3\n",
      "Enter the elements:1\n",
      "Enter the elements:2\n",
      "Enter the elements:3\n",
      "['1', '2', '3']\n"
     ]
    }
   ],
   "source": [
    "### USING WHILE LOOP\n",
    "n=int(input(\"Enter how many elements you want to give: \"))\n",
    "l=[]\n",
    "i=0\n",
    "while i<n:\n",
    "    elements = input(\"Enter the elements:\")\n",
    "    l.append(elements)\n",
    "    i+=1\n",
    "x=[]\n",
    "for i in l:\n",
    "    if i.isdigit():\n",
    "        x.append(i)\n",
    "print(x)\n",
    "    \n",
    "    \n"
   ]
  },
  {
   "cell_type": "markdown",
   "id": "63dae5f5",
   "metadata": {},
   "source": [
    "### 2. Is the Word an Isogram?\n",
    "* An isogram is a word that has no duplicate letters. Create a function that takes a string and returns either True or False depending on whether or not it's an \"isogram\".\n",
    "\n",
    "##### Examples\n",
    "* is_isogram(\"Algorism\") ➞ True\n",
    "\n",
    "* is_isogram(\"PasSword\") ➞ False\n",
    "##### Not case sensitive.\n",
    "\n",
    "* is_isogram(\"Consecutive\") ➞ False"
   ]
  },
  {
   "cell_type": "code",
   "execution_count": 26,
   "id": "475abebe",
   "metadata": {},
   "outputs": [
    {
     "name": "stdout",
     "output_type": "stream",
     "text": [
      "Enter how many inputs you want to give: tap\n",
      "True\n"
     ]
    }
   ],
   "source": [
    "#USING FOR LOOP:\n",
    "n=(input(\"Enter how many inputs you want to give: \"))\n",
    "s=set()\n",
    "isogram = True\n",
    "for i in n:\n",
    "    if i in s:\n",
    "        isogram = False\n",
    "    s.add(i)\n",
    "print(isogram)"
   ]
  },
  {
   "cell_type": "code",
   "execution_count": 29,
   "id": "2fe4bc58",
   "metadata": {},
   "outputs": [
    {
     "name": "stdout",
     "output_type": "stream",
     "text": [
      "Enter how many inputs you want to give: tap\n",
      "True\n"
     ]
    }
   ],
   "source": [
    "#USING WHILE LOOP:\n",
    "n=(input(\"Enter how many inputs you want to give: \"))\n",
    "s=set()\n",
    "i=0\n",
    "isogram = True\n",
    "while i < len(n):\n",
    "    if n[i] in s:\n",
    "        isogram=False\n",
    "    s.add(n[i])\n",
    "    i+=1\n",
    "print(isogram)"
   ]
  },
  {
   "cell_type": "markdown",
   "id": "fb800433",
   "metadata": {},
   "source": [
    "## 3. Transform into a List with No Duplicates\n",
    "* A set is a collection of unique items. A set can be formed from a list by removing all duplicate items.\n",
    "   [1, 3, 3, 5, 5, 5]\n",
    "#### original list\n",
    "    [1, 3, 5]\n",
    "#### original list transformed into a set\n",
    "* Create a function that sorts a list and removes all duplicate items from it.\n",
    "\n",
    "###### Examples\n",
    "        setify([1, 3, 3, 5, 5]) ➞ [1, 3, 5]\n",
    "\n",
    "        setify([4, 4, 4, 4]) ➞ [4]\n",
    "\n",
    "        setify([5, 7, 8, 9, 10, 15]) ➞ [5, 7, 8, 9, 10, 15]\n",
    "\n",
    "        setify([3, 3, 3, 2, 1]) ➞ [1, 2, 3]"
   ]
  },
  {
   "cell_type": "code",
   "execution_count": 2,
   "id": "d6c7308c",
   "metadata": {},
   "outputs": [
    {
     "name": "stdout",
     "output_type": "stream",
     "text": [
      "Enter no. of elements you want in set : 5\n",
      "Enter the elements : 2\n",
      "Enter the elements : 3\n",
      "Enter the elements : 2\n",
      "Enter the elements : 1\n",
      "Enter the elements : 0\n",
      "[0, 1, 2, 3]\n"
     ]
    }
   ],
   "source": [
    "x = int(input(\"Enter no. of elements you want in set : \"))\n",
    "s=set()\n",
    "for i in range(x):\n",
    "    y=int(input(\"Enter the elements : \"))\n",
    "    s.add(y)\n",
    "print(list(s))\n",
    "    "
   ]
  },
  {
   "cell_type": "code",
   "execution_count": 32,
   "id": "5885adca",
   "metadata": {},
   "outputs": [
    {
     "name": "stdout",
     "output_type": "stream",
     "text": [
      "Enter no. of elements you want in the set: 5\n",
      "Enter an element: 1\n",
      "Enter an element: 1\n",
      "Enter an element: 2\n",
      "Enter an element: 5\n",
      "Enter an element: 6\n",
      "[1, 2, 5, 6]\n"
     ]
    }
   ],
   "source": [
    "x = int(input(\"Enter no. of elements you want in the set: \"))\n",
    "s = set()\n",
    "count = 0\n",
    "\n",
    "while count < x:\n",
    "    y = int(input(\"Enter an element: \"))\n",
    "    s.add(y)\n",
    "    count += 1\n",
    "\n",
    "unique_elements = list(s)\n",
    "print(unique_elements)"
   ]
  },
  {
   "cell_type": "markdown",
   "id": "af74fa38",
   "metadata": {},
   "source": [
    "## 4.Purge and Organize\n",
    "    Given a list of numbers, write a function that returns a list that...\n",
    "\n",
    "    Has all duplicate elements removed.\n",
    "    Is sorted from least to greatest value.\n",
    "###### Examples\n",
    "    unique_sort([1, 2, 4, 3]) ➞ [1, 2, 3, 4]\n",
    "\n",
    "    unique_sort([1, 4, 4, 4, 4, 4, 3, 2, 1, 2]) ➞ [1, 2, 3, 4]\n",
    "\n",
    "    unique_sort([6, 7, 3, 2, 1]) ➞ [1, 2, 3, 6, 7]"
   ]
  },
  {
   "cell_type": "code",
   "execution_count": 125,
   "id": "4f14b1ad",
   "metadata": {},
   "outputs": [
    {
     "name": "stdout",
     "output_type": "stream",
     "text": [
      "Enter how many numbers you want in a list : 10\n",
      "Enter the elements : 0\n",
      "Enter the elements : 9\n",
      "Enter the elements : 3\n",
      "Enter the elements : 4\n",
      "Enter the elements : 6\n",
      "Enter the elements : 6\n",
      "Enter the elements : 7\n",
      "Enter the elements : 9\n",
      "Enter the elements : 0\n",
      "Enter the elements : 5\n",
      "['0', '3', '4', '6', '7', '9']\n"
     ]
    }
   ],
   "source": [
    "x = int(input(\"Enter how many numbers you want in a list : \") )\n",
    "l =[]\n",
    "for i in range(x):\n",
    "    y = input(\"Enter the elements : \")\n",
    "    sorted_list=sorted(set(l))\n",
    "    l.append(y)\n",
    "print(sorted_list)"
   ]
  },
  {
   "cell_type": "code",
   "execution_count": 41,
   "id": "f0e083a4",
   "metadata": {},
   "outputs": [
    {
     "name": "stdout",
     "output_type": "stream",
     "text": [
      "Enter how many numbers you want in a list : 5\n",
      "Enter the elements : 1\n",
      "Enter the elements : 0\n",
      "Enter the elements : 2\n",
      "Enter the elements : 4\n",
      "Enter the elements : 3\n",
      "['0', '1', '2', '3', '4']\n"
     ]
    }
   ],
   "source": [
    "x = int(input(\"Enter how many numbers you want in a list : \") )\n",
    "l =[]\n",
    "i=0\n",
    "while i<x:\n",
    "    y = input(\"Enter the elements : \")\n",
    "    l.append(y)\n",
    "    i+=1\n",
    "    sorted_list=sorted(set(l))\n",
    "print(sorted_list)"
   ]
  },
  {
   "cell_type": "code",
   "execution_count": null,
   "id": "9ad1839b",
   "metadata": {},
   "outputs": [],
   "source": []
  },
  {
   "cell_type": "markdown",
   "id": "1ceb1338",
   "metadata": {},
   "source": [
    "## 5. Get Student Names\n",
    "   Create a function that takes a dictionary of student names and returns a list of student names in alphabetical order.\n",
    "\n",
    "###### Examples\n",
    "        get_student_names({\n",
    "        \"Student 1\" : \"Steve\",\n",
    "        \"Student 2\" : \"Becky\",\n",
    "        \"Student 3\" : \"John\"})\n",
    "➞ [\"Becky\", \"John\", \"Steve\"]"
   ]
  },
  {
   "cell_type": "code",
   "execution_count": 135,
   "id": "153ccd1c",
   "metadata": {},
   "outputs": [
    {
     "name": "stdout",
     "output_type": "stream",
     "text": [
      "['Steve', 'Becky', 'John']\n"
     ]
    }
   ],
   "source": [
    "dictionary = {\"Student 1\" : \"Steve\",\"Student 2\" : \"Becky\",\"Student 3\" : \"John\"}\n",
    "l=[]\n",
    "for i in dictionary.values():\n",
    "    l.append(i)\n",
    "print(l)\n",
    "    \n",
    "    \n"
   ]
  },
  {
   "cell_type": "code",
   "execution_count": 43,
   "id": "2672dcd9",
   "metadata": {},
   "outputs": [
    {
     "name": "stdout",
     "output_type": "stream",
     "text": [
      "['Steve', 'Becky', 'John']\n"
     ]
    }
   ],
   "source": [
    "dictionary = {\"Student 1\": \"Steve\", \"Student 2\": \"Becky\", \"Student 3\": \"John\"}\n",
    "l = []\n",
    "keys = list(dictionary.keys())\n",
    "i = 0\n",
    "\n",
    "while i < len(keys):\n",
    "    key = keys[i]\n",
    "    value = dictionary[key]\n",
    "    l.append(value)\n",
    "    i += 1\n",
    "\n",
    "print(l)"
   ]
  },
  {
   "cell_type": "markdown",
   "id": "1b4042a2",
   "metadata": {},
   "source": [
    "## 6. Say Hello to Guests\n",
    "    In this exercise you will have to:\n",
    "\n",
    "    Take a list of names.\n",
    "    Add \"Hello\" to every name.\n",
    "        Make one big string with all greetings.\n",
    "    The solution should be one string with a comma in between every \"Hello (Name)\".\n",
    "\n",
    "##### Examples\n",
    "    greet_people([\"Joe\"]) ➞ \"Hello Joe\"\n",
    "\n",
    "    greet_people([\"Angela\", \"Joe\"]) ➞ \"Hello Angela, Hello Joe\"\n",
    "\n",
    "    greet_people([\"Frank\", \"Angela\", \"Joe\"]) ➞ \"Hello Frank, Hello Angela, Hello Joe\""
   ]
  },
  {
   "cell_type": "code",
   "execution_count": 223,
   "id": "ad096df6",
   "metadata": {},
   "outputs": [
    {
     "name": "stdout",
     "output_type": "stream",
     "text": [
      "hello Frank, hello Angela, hello Joe\n"
     ]
    }
   ],
   "source": [
    "names = [\"Frank\", \"Angela\", \"Joe\"]\n",
    "l=[]\n",
    "for name in names:\n",
    "    l.append(f'hello {name}')\n",
    "greetings=\", \".join(l)\n",
    "print(greetings)\n",
    "    "
   ]
  },
  {
   "cell_type": "code",
   "execution_count": 44,
   "id": "60265f4f",
   "metadata": {},
   "outputs": [
    {
     "name": "stdout",
     "output_type": "stream",
     "text": [
      "Hello Frank, Hello Angela, Hello Joe\n"
     ]
    }
   ],
   "source": [
    "names = [\"Frank\", \"Angela\", \"Joe\"]\n",
    "l = []\n",
    "i = 0\n",
    "\n",
    "while i < len(names):\n",
    "    name = names[i]\n",
    "    greeting = f'Hello {name}'\n",
    "    l.append(greeting)\n",
    "    i += 1\n",
    "\n",
    "greetings = \", \".join(l)\n",
    "print(greetings)"
   ]
  },
  {
   "cell_type": "code",
   "execution_count": null,
   "id": "575eba16",
   "metadata": {},
   "outputs": [],
   "source": []
  },
  {
   "cell_type": "markdown",
   "id": "392c3744",
   "metadata": {},
   "source": [
    "## 7.Find the Mean of All Digits\n",
    "    Create a function that returns the mean of all digits.\n",
    "\n",
    "###### Examples\n",
    "    mean(42) ➞ 3\n",
    "\n",
    "    mean(12345) ➞ 3\n",
    "\n",
    "    mean(666) ➞ 6"
   ]
  },
  {
   "cell_type": "code",
   "execution_count": 1,
   "id": "d63117bb",
   "metadata": {},
   "outputs": [
    {
     "name": "stdout",
     "output_type": "stream",
     "text": [
      "Enter a number :12345\n",
      "3.0\n"
     ]
    }
   ],
   "source": [
    "num = int(input(\"Enter a number :\"))\n",
    "s=0\n",
    "dig=0\n",
    "\n",
    "while(num>0):\n",
    "    dig+=1\n",
    "    m=num%10   \n",
    "    s=s+m\n",
    "    num=num//10\n",
    "print(s/dig)\n",
    "    "
   ]
  },
  {
   "cell_type": "code",
   "execution_count": 22,
   "id": "cbab73ed",
   "metadata": {},
   "outputs": [
    {
     "name": "stdout",
     "output_type": "stream",
     "text": [
      "Enter a number :12345\n",
      "3.0\n"
     ]
    }
   ],
   "source": [
    "## USING FOR LOOP\n",
    "num = int(input(\"Enter a number :\"))\n",
    "s=0\n",
    "a=len(str(num))\n",
    "for i in range(a):\n",
    "    m=num%10   \n",
    "    s=s+m\n",
    "    num=num//10\n",
    "print(s/a)"
   ]
  },
  {
   "cell_type": "code",
   "execution_count": null,
   "id": "c9103b69",
   "metadata": {},
   "outputs": [],
   "source": [
    " m=num%10   \n",
    "    s=s+m\n",
    "    num=num//10"
   ]
  },
  {
   "cell_type": "code",
   "execution_count": null,
   "id": "a739326d",
   "metadata": {},
   "outputs": [],
   "source": []
  },
  {
   "cell_type": "markdown",
   "id": "c7d6becf",
   "metadata": {},
   "source": [
    "## 8. Typing Game :\n",
    "    You're in the midst of creating a typing game.\n",
    "\n",
    "    Create a function that takes in two lists: the list of user-typed words, and the list of correctly-typed words and outputs a list containing 1s (correctly-typed words) and -1s (incorrectly-typed words).\n",
    "###### Inputs:\n",
    "    User-typed: [\"cat\", \"blue\", \"skt\", \"umbrells\", \"paddy\"]\n",
    "    Correct: [\"cat\", \"blue\", \"sky\", \"umbrella\", \"paddy\"]\n",
    "\n",
    "###### Output: [1, 1, -1, -1, 1]\n",
    "    correct_stream(\n",
    "      [\"it\", \"is\", \"find\"],\n",
    "      [\"it\", \"is\", \"fine\"])\n",
    "      ➞ [1, 1, -1]\n",
    "\n",
    "    correct_stream(\n",
    "    [\"april\", \"showrs\", \"bring\", \"may\", \"flowers\"],\n",
    "    [\"april\", \"showers\", \"bring\", \"may\", \"flowers\"]) \n",
    "    ➞ [1, -1, 1, 1, 1]"
   ]
  },
  {
   "cell_type": "code",
   "execution_count": 3,
   "id": "b82a1b31",
   "metadata": {},
   "outputs": [
    {
     "name": "stdout",
     "output_type": "stream",
     "text": [
      "[1, -1, 1, -1, -1]\n"
     ]
    }
   ],
   "source": [
    "usertyped=[\"april\",\"showrs\",\"bring\",\"aym\",\"flowrs\"]\n",
    "correct=[\"april\",\"showers\",\"bring\",\"may\",\"flowers\"]\n",
    "output=[]\n",
    "for i in range(0,5):\n",
    "    if usertyped[i]==correct[i]:\n",
    "        output.append(1)\n",
    "    else:\n",
    "        output.append(-1)\n",
    "print(output)"
   ]
  },
  {
   "cell_type": "code",
   "execution_count": 99,
   "id": "810f1d1d",
   "metadata": {},
   "outputs": [
    {
     "name": "stdout",
     "output_type": "stream",
     "text": [
      "[1, -1, 1, -1, -1]\n"
     ]
    }
   ],
   "source": [
    "usertyped=[\"april\",\"showrs\",\"bring\",\"aym\",\"flowrs\"]\n",
    "correct=[\"april\",\"showers\",\"bring\",\"may\",\"flowers\"]\n",
    "output=[]\n",
    "i=0\n",
    "while i<len(usertyped):\n",
    "    if usertyped[i]==correct[i]:\n",
    "        output.append(1)\n",
    "    else:\n",
    "        output.append(-1)\n",
    "    i+=1\n",
    "print(output)"
   ]
  },
  {
   "cell_type": "markdown",
   "id": "8dfa42c9",
   "metadata": {},
   "source": [
    "## 9. True Ones, False Zeros\n",
    "* Create a function which returns a list of booleans, from a given number. Iterating through the number one digit at a time, append True if the digit is 1 and False if it is 0.\n",
    "\n",
    "##### Examples\n",
    "     integer_boolean(\"100101\") ➞ [True, False, False, True, False, True]\n",
    "\n",
    "    integer_boolean(\"10\") ➞ [True, False]\n",
    "\n",
    "    integer_boolean(\"001\") ➞ [False, False, True]\n",
    "###### Notes\n",
    "    Expect numbers with 0 and 1 only."
   ]
  },
  {
   "cell_type": "code",
   "execution_count": 34,
   "id": "59c115eb",
   "metadata": {},
   "outputs": [
    {
     "name": "stdout",
     "output_type": "stream",
     "text": [
      "Enter how many inputs you want to give :5\n",
      "Enter 0 or 1 :1\n",
      "Enter 0 or 1 :0\n",
      "Enter 0 or 1 :1\n",
      "Enter 0 or 1 :1\n",
      "Enter 0 or 1 :0\n",
      "['True', 'False', 'True', 'True', 'False']\n"
     ]
    }
   ],
   "source": [
    "### USING FOR LOOP\n",
    "n=int(input(\"Enter how many inputs you want to give :\")) #4\n",
    "li=[]\n",
    "for i in range(n):\n",
    "    bin=int(input(\"Enter 0 or 1 :\"))\n",
    "    m=bin%10\n",
    "    if m==1:\n",
    "        li.append(\"True\")\n",
    "    else:\n",
    "        li.append(\"False\")\n",
    "    n=n//10\n",
    "print(li)\n"
   ]
  },
  {
   "cell_type": "code",
   "execution_count": 33,
   "id": "61e3e08d",
   "metadata": {},
   "outputs": [
    {
     "name": "stdout",
     "output_type": "stream",
     "text": [
      "Enter a value either 0 or 1:10111001\n",
      "['True', 'False', 'True', 'True', 'True', 'False', 'False', 'True']\n"
     ]
    }
   ],
   "source": [
    "### USING WHILE LOOP\n",
    "n=int(input(\"Enter a value either 0 or 1:\"))\n",
    "li=[]\n",
    "while n>0:\n",
    "    m=n%10\n",
    "    if m==1:\n",
    "        li.append(\"True\")\n",
    "    else:\n",
    "        li.append(\"False\")\n",
    "    n=n//10\n",
    "li.reverse()\n",
    "print(li)"
   ]
  },
  {
   "cell_type": "markdown",
   "id": "7b73b36a",
   "metadata": {},
   "source": [
    "## 10.Is One List a Subset of Another?\n",
    "    Create a function that returns True if the first list is a subset of the second. Return False otherwise.\n",
    "\n",
    "#### Examples\n",
    "    is_subset([3, 2, 5], [5, 3, 7, 9, 2]) ➞ True\n",
    "\n",
    "    is_subset([8, 9], [7, 1, 9, 8, 4, 5, 6]) ➞ True\n",
    "\n",
    "    is_subset([1, 2], [3, 5, 9, 1]) ➞ False\n",
    "##### Notes\n",
    "    Both lists will contain only unique values."
   ]
  },
  {
   "cell_type": "code",
   "execution_count": 56,
   "id": "97a99add",
   "metadata": {},
   "outputs": [
    {
     "name": "stdout",
     "output_type": "stream",
     "text": [
      "Enter number of values you want to enter in aset : 5\n",
      "Enter elements : 1\n",
      "Enter elements : 2\n",
      "Enter elements : 3\n",
      "Enter elements : 4\n",
      "Enter elements : 2\n",
      "Enter number of values you want to enter in bset : 1\n",
      "Enter elements : 2\n",
      "True\n",
      "[1, 2, 3, 4]\n",
      "[2]\n"
     ]
    }
   ],
   "source": [
    "### USING FOR LOOP\n",
    "num1 = int(input(\"Enter number of values you want to enter in aset : \"))\n",
    "aset=set()\n",
    "bset=set()\n",
    "for i in range(num1):\n",
    "    element1=int(input(\"Enter elements : \"))\n",
    "    aset.add(element1)\n",
    "num2 = int(input(\"Enter number of values you want to enter in bset : \"))\n",
    "for j in range(num2):\n",
    "    element2=int(input(\"Enter elements : \"))\n",
    "    bset.add(element2)\n",
    "if bset.issubset(aset):\n",
    "    print(\"True\")\n",
    "else:\n",
    "    print(\"False\")\n",
    "print(list(aset))\n",
    "print(list(bset))"
   ]
  },
  {
   "cell_type": "code",
   "execution_count": 69,
   "id": "ee56aa95",
   "metadata": {},
   "outputs": [
    {
     "name": "stdout",
     "output_type": "stream",
     "text": [
      "Enter number of values you want to enter in aset : 5\n",
      "Enter elements : 1\n",
      "Enter elements : 2\n",
      "Enter elements : 3\n",
      "Enter elements : 4\n",
      "Enter elements : 5\n",
      "{1, 2, 3, 4, 5}\n",
      "Enter number of values you want to enter in aset : 3\n",
      "Enter elements : 1\n",
      "Enter elements : 2\n",
      "Enter elements : 3\n",
      "{1, 2, 3}\n",
      "True\n"
     ]
    }
   ],
   "source": [
    "#### USING WHILE LOOP\n",
    "num1 = int(input(\"Enter number of values you want to enter in aset : \"))\n",
    "aset=set()\n",
    "bset=set()\n",
    "i=0\n",
    "while (i<num1):\n",
    "    element1=int(input(\"Enter elements : \"))\n",
    "    aset.add(element1)\n",
    "    i+=1\n",
    "print(aset)\n",
    "num2 = int(input(\"Enter number of values you want to enter in aset : \"))\n",
    "j=0\n",
    "while (j<num2):\n",
    "    element2=int(input(\"Enter elements : \"))\n",
    "    bset.add(element2)\n",
    "    j+=1\n",
    "print(bset)\n",
    "if bset.issubset(aset):\n",
    "    print(\"True\")\n",
    "else:\n",
    "    print(\"False\")"
   ]
  },
  {
   "cell_type": "markdown",
   "id": "38110e37",
   "metadata": {},
   "source": []
  },
  {
   "cell_type": "markdown",
   "id": "cae1b710",
   "metadata": {},
   "source": [
    "## 11. Upper or Lower Case\n",
    "Return the smallest number of steps it takes to convert a string entirely into uppercase or entirely into lower case, whichever takes the fewest number of steps. A step consists of changing one character from lower to upper case, or vice versa.\n",
    "\n",
    "Examples\n",
    "    steps_to_convert(\"abC\") ➞ 1\n",
    "         \"abC\" converted to \"abc\" in 1 step\n",
    "\n",
    "steps_to_convert(\"abCBA\") ➞ 2\n",
    "         \"abCBA\" converted to \"ABCBA\" in 2 steps\n",
    "\n",
    "steps_to_convert(\"aba\") ➞ 0\n",
    "\n",
    "steps_to_convert(\"abaCCC\") ➞ 3"
   ]
  },
  {
   "cell_type": "code",
   "execution_count": 7,
   "id": "095563ec",
   "metadata": {},
   "outputs": [
    {
     "name": "stdout",
     "output_type": "stream",
     "text": [
      "Enter combination of upper&lower case string : asdAS\n",
      "2\n"
     ]
    }
   ],
   "source": [
    "str1=input(\"Enter combination of upper&lower case string : \") #aABC\n",
    "lowercase=0\n",
    "uppercase=0\n",
    "for i in str1:\n",
    "    if i.islower():\n",
    "        lowercase+=1\n",
    "    else:\n",
    "        uppercase+=1\n",
    "if lowercase<=uppercase:\n",
    "    print(lowercase)\n",
    "else:\n",
    "    print(uppercase)\n",
    "\n",
    "    "
   ]
  },
  {
   "cell_type": "code",
   "execution_count": 49,
   "id": "1d2cb9b7",
   "metadata": {},
   "outputs": [
    {
     "name": "stdout",
     "output_type": "stream",
     "text": [
      "Enter a combination of upper and lower case string: sowji\n",
      "0\n"
     ]
    }
   ],
   "source": [
    "str1 = input(\"Enter a combination of upper and lower case string: \")\n",
    "lowercase = 0\n",
    "uppercase = 0\n",
    "i = 0\n",
    "\n",
    "while i < len(str1):\n",
    "    char = str1[i]\n",
    "    if char.islower():\n",
    "        lowercase += 1\n",
    "    else:\n",
    "        uppercase += 1\n",
    "    i += 1\n",
    "\n",
    "if lowercase <= uppercase:\n",
    "    print(lowercase)\n",
    "else:\n",
    "    print(uppercase)"
   ]
  },
  {
   "cell_type": "markdown",
   "id": "e9d1c6d1",
   "metadata": {},
   "source": [
    "## 12. One Button Messaging Device\n",
    "        Imagine a messaging device with only one button. For the letter A, you press the button one time, for E, you press it five times, for G, it's pressed seven times, etc, etc.\n",
    "\n",
    "    Write a function that takes a string (the message) and returns the total number of times the button is pressed.\n",
    "\n",
    "##### Examples\n",
    "    how_many_times(\"abde\") ➞ 12\n",
    "\n",
    "    how_many_times(\"azy\") ➞ 52\n",
    "\n",
    "    how_many_times(\"qudusayo\") ➞ 123\n",
    "###### Notes\n",
    "    Ignore spaces.\n",
    "    The given string argument will be in lower case."
   ]
  },
  {
   "cell_type": "code",
   "execution_count": null,
   "id": "6344a225",
   "metadata": {},
   "outputs": [],
   "source": []
  },
  {
   "cell_type": "markdown",
   "id": "e8326478",
   "metadata": {},
   "source": [
    "## LEVEL - MEDIUM"
   ]
  },
  {
   "cell_type": "markdown",
   "id": "c0b5bcb2",
   "metadata": {},
   "source": [
    "#### List of Multiples\n",
    "    Create a function that takes two numbers as arguments (num, length) and returns a list of multiples of num until the list length reaches length.\n",
    "\n",
    "###### Examples\n",
    "    list_of_multiples(7, 5) ➞ [7, 14, 21, 28, 35]\n",
    "\n",
    "    list_of_multiples(12, 10) ➞ [12, 24, 36, 48, 60, 72, 84, 96, 108, 120]\n",
    "\n",
    "    list_of_multiples(17, 6) ➞ [17, 34, 51, 68, 85, 102]"
   ]
  },
  {
   "cell_type": "code",
   "execution_count": 57,
   "id": "a33caadf",
   "metadata": {},
   "outputs": [
    {
     "name": "stdout",
     "output_type": "stream",
     "text": [
      "Enter number: 7\n",
      "Enter length: 10\n",
      "[7, 14, 21, 28, 35, 42, 49, 56, 63, 70]\n"
     ]
    }
   ],
   "source": [
    "num = int(input('Enter number: '))\n",
    "length = int(input('Enter length: '))\n",
    "l = []\n",
    "\n",
    "for i in range(1, length + 1):\n",
    "    l.append(num * i)\n",
    "\n",
    "print(l)"
   ]
  },
  {
   "cell_type": "code",
   "execution_count": 51,
   "id": "26563fdc",
   "metadata": {},
   "outputs": [
    {
     "name": "stdout",
     "output_type": "stream",
     "text": [
      "enter number:5\n",
      "enter length:10\n",
      "[5, 10, 15, 20, 25, 30, 35, 40, 45, 50]\n"
     ]
    }
   ],
   "source": [
    "num=int(input('enter number:'))\n",
    "length=int(input('enter length:'))\n",
    "l=[]\n",
    "i=1\n",
    "while i<=length:\n",
    "    l.append(num*i)\n",
    "    i=i+1\n",
    "print(l)\n"
   ]
  },
  {
   "cell_type": "markdown",
   "id": "24939da9",
   "metadata": {},
   "source": [
    "## 2. Designing Rugs\n",
    "    Write a function that accepts the height and width (m, n) and an optional proc s and generates a list with m elements. Each element is a string consisting of either:\n",
    "\n",
    "    The default character (hash #) repeating n times (if no proc is given).\n",
    "    The character passed in through the proc repeating n times.\n",
    "##### Examples\n",
    "    make_rug(3, 5, '#') ➞ [\n",
    "      \"#####\",\n",
    "      \"#####\",\n",
    "      \"#####\"\n",
    "    ]\n",
    "\n",
    "    make_rug(3, 5, '$')  ➞ [\n",
    "      \"$$$$$\",\n",
    "      \"$$$$$\",\n",
    "      \"$$$$$\"\n",
    "    ]\n",
    "\n",
    "    make_rug(2, 2, 'A')  ➞ [\n",
    "    \"AA\",\n",
    "      \"AA\"\n",
    "    ]"
   ]
  },
  {
   "cell_type": "code",
   "execution_count": 61,
   "id": "13f0a5c9",
   "metadata": {},
   "outputs": [
    {
     "name": "stdout",
     "output_type": "stream",
     "text": [
      "rows:3\n",
      "columns:5\n",
      "symbol:#\n",
      "#####\n",
      "#####\n",
      "#####\n"
     ]
    }
   ],
   "source": [
    "rows = int(input('rows:'))\n",
    "columns = int(input('columns:'))\n",
    "symbol = input('symbol:')\n",
    "\n",
    "rug = []\n",
    "for i in range(rows):\n",
    "    row = ''\n",
    "    for j in range(columns):\n",
    "        row += symbol\n",
    "    rug.append(row)\n",
    "for row in rug:\n",
    "    print(row)"
   ]
  },
  {
   "cell_type": "code",
   "execution_count": 62,
   "id": "f3e28e37",
   "metadata": {},
   "outputs": [
    {
     "name": "stdout",
     "output_type": "stream",
     "text": [
      "Rows: 3\n",
      "Columns: 5\n",
      "Symbol: *\n",
      "*****\n",
      "*****\n",
      "*****\n"
     ]
    }
   ],
   "source": [
    "rows = int(input('Rows: '))\n",
    "columns = int(input('Columns: '))\n",
    "symbol = input('Symbol: ')\n",
    "\n",
    "rug = []\n",
    "\n",
    "i = 0\n",
    "while i < rows:\n",
    "    row = ''\n",
    "    j = 0\n",
    "    while j < columns:\n",
    "        row += symbol\n",
    "        j += 1\n",
    "    rug.append(row)\n",
    "    i += 1\n",
    "\n",
    "k = 0\n",
    "while k < rows:\n",
    "    print(rug[k])\n",
    "    k += 1"
   ]
  },
  {
   "cell_type": "markdown",
   "id": "292276b5",
   "metadata": {},
   "source": [
    "## 3. Burglary Series (06): Convert to Number\n",
    "    You prepare a list to send to the insurance company. As you finish, you notice you misformatted it. Given a dictionary with at least one key/value pair, convert all the values to numbers.\n",
    "\n",
    "#### Examples\n",
    "    convert_to_number({ \"piano\": \"200\" }) ➞ { \"piano\": 200 }\n",
    "\n",
    "    convert_to_number({ \"piano\": \"200\", \"tv\": \"300\" }) ➞ { \"piano\": 200, \"tv\": 300 }\n",
    "\n",
    "    convert_to_number({ \"piano\": \"200\", \"tv\": \"300\", \"stereo\": \"400\" }) ➞ { \"piano\": 200, \"tv\": 300, \"stereo\": 400 }\n",
    "#### Notes\n",
    "    You will only be tested for numbers (ints), not strings or floats.\n",
    "    Look at the Resources tab if you need help."
   ]
  },
  {
   "cell_type": "code",
   "execution_count": null,
   "id": "8392f1be",
   "metadata": {},
   "outputs": [],
   "source": []
  },
  {
   "cell_type": "code",
   "execution_count": null,
   "id": "4002adc0",
   "metadata": {},
   "outputs": [],
   "source": []
  },
  {
   "cell_type": "markdown",
   "id": "4047ec75",
   "metadata": {},
   "source": [
    "## 4.Two Distinct Elements\n",
    "In each input list, every number repeats at least once, except for two. Write a function that returns the two unique numbers.\n",
    "\n",
    "Examples\n",
    "return_unique([1, 9, 8, 8, 7, 6, 1, 6]) ➞ [9, 7]\n",
    "\n",
    "return_unique([5, 5, 2, 4, 4, 4, 9, 9, 9, 1]) ➞ [2, 1]\n",
    "\n",
    "return_unique([9, 5, 6, 8, 7, 7, 1, 1, 1, 1, 1, 9, 8]) ➞ [5, 6]"
   ]
  },
  {
   "cell_type": "code",
   "execution_count": 79,
   "id": "18db5ed6",
   "metadata": {},
   "outputs": [
    {
     "name": "stdout",
     "output_type": "stream",
     "text": [
      "enter list:2 3 4 3 1 5 2 4\n",
      "['1', '5']\n"
     ]
    }
   ],
   "source": [
    "l=list(input('enter list:'))\n",
    "l2=[]\n",
    "\n",
    "for i in range(len(l)):\n",
    "    c=0\n",
    "    for j in range(len(l)):\n",
    "        if l[i]==l[j]:\n",
    "            c=c+1\n",
    "    if c==1:\n",
    "        l2.append(l[i])\n",
    "print(l2)"
   ]
  },
  {
   "cell_type": "markdown",
   "id": "0784a494",
   "metadata": {},
   "source": [
    "## 5.Algebra Sequence — Boxes\n",
    "    Create a function that takes a number (step) as an argument and returns the amount of boxes in that step of the sequence.\n",
    "\n",
    "        Box Sequence Image\n",
    "Step 0: Start with 0\n",
    "\n",
    "Step 1: Add 3\n",
    "\n",
    "Step 2: Subtract 1\n",
    "\n",
    "Repeat Step 1 & 2 ...\n",
    "\n",
    "#### Examples\n",
    "box_seq(0) ➞ 0\n",
    "\n",
    "box_seq(1) ➞ 3\n",
    "\n",
    "box_seq(2) ➞ 2\n",
    "Notes\n",
    "Step (the input) is always a positive integer (or zero).\n",
    "For an odd step add 3, for an even step subtract 1.\n"
   ]
  },
  {
   "cell_type": "code",
   "execution_count": 85,
   "id": "abd9ee59",
   "metadata": {},
   "outputs": [
    {
     "name": "stdout",
     "output_type": "stream",
     "text": [
      "step:1\n",
      "3\n"
     ]
    }
   ],
   "source": [
    "step=int(input('step:'))\n",
    "\n",
    "if step==0:\n",
    "    print('0')\n",
    "elif step == 1:\n",
    "    print('3')\n",
    "elif step % 2 ==0:\n",
    "    print(step)\n",
    "elif step % 2 !=0:\n",
    "    print(3+ (step-1))"
   ]
  },
  {
   "cell_type": "markdown",
   "id": "e7a7e38b",
   "metadata": {},
   "source": [
    "## 6. Harshad Number\n",
    "A number is said to be Harshad if it's exactly divisible by the sum of its digits. Create a function that determines whether a number is a Harshad or not.\n",
    "\n",
    "Examples\n",
    "is_harshad(75) ➞ False\n",
    "7 + 5 = 12\n",
    "75 is not exactly divisible by 12\n",
    " \n",
    "is_harshad(171) ➞ True\n",
    " 1 + 7 + 1 = 9\n",
    " 9 exactly divides 171\n",
    " \n",
    "is_harshad(481) ➞ True\n",
    "\n",
    "is_harshad(89) ➞ False\n",
    "\n",
    "is_harshad(516) ➞ True\n",
    "\n",
    "is_harshad(200) ➞ True\n",
    "Notes"
   ]
  },
  {
   "cell_type": "code",
   "execution_count": null,
   "id": "12999651",
   "metadata": {},
   "outputs": [],
   "source": []
  },
  {
   "cell_type": "markdown",
   "id": "96750c83",
   "metadata": {},
   "source": [
    "## 7.Emphasise the Words\n",
    "The challenge is to recreate the functionality of the title() method into a function called emphasise(). The title() method capitalises the first letter of every word and lowercases all of the other letters in the word.\n",
    "\n",
    "Examples\n",
    "emphasise(\"hello world\") ➞ \"Hello World\"\n",
    "\n",
    "emphasise(\"GOOD MORNING\") ➞ \"Good Morning\"\n",
    "\n",
    "emphasise(\"99 red balloons!\") ➞ \"99 Red Balloons!\"\n",
    "Notes\n",
    "You won't run into any issues when dealing with numbers in strings.\n",
    "Please don't use the title() method directly :("
   ]
  },
  {
   "cell_type": "code",
   "execution_count": 90,
   "id": "62864e7e",
   "metadata": {},
   "outputs": [
    {
     "name": "stdout",
     "output_type": "stream",
     "text": [
      "enter name:hello world\n",
      "Hello World\n"
     ]
    }
   ],
   "source": [
    "s = input('enter name:')\n",
    "words = s.split()\n",
    "capitalized_words = []\n",
    "\n",
    "for word in words:\n",
    "    capitalized_word = word.capitalize()\n",
    "    capitalized_words.append(capitalized_word)\n",
    "\n",
    "capitalized_string = \" \".join(capitalized_words)\n",
    "print(capitalized_string)"
   ]
  },
  {
   "cell_type": "markdown",
   "id": "4854e5c4",
   "metadata": {},
   "source": [
    "## 8.Is Johnny Making Progress?\n",
    "To train for an upcoming marathon, Johnny goes on one long-distance run each Saturday. He wants to track how often the number of miles he runs exceeds the previous Saturday. This is called a progress day.\n",
    "\n",
    "Create a function that takes in a list of miles run every Saturday and returns Johnny's total number of progress days.\n",
    "\n",
    "##### Examples\n",
    "progress_days([3, 4, 1, 2]) ➞ 2\n",
    "       There are two progress days, (3->4) and (1->2)\n",
    "\n",
    "progress_days([10, 11, 12, 9, 10]) ➞ 3\n",
    "\n",
    "progress_days([6, 5, 4, 3, 2, 9]) ➞ 1\n",
    "\n",
    "progress_days([9, 9])  ➞ 0\n",
    "\n",
    "###### Notes\n",
    "Running the same number of miles as last week does not count as a progress day."
   ]
  },
  {
   "cell_type": "code",
   "execution_count": null,
   "id": "4bdf8345",
   "metadata": {},
   "outputs": [],
   "source": []
  },
  {
   "cell_type": "code",
   "execution_count": null,
   "id": "463312b3",
   "metadata": {},
   "outputs": [],
   "source": []
  },
  {
   "cell_type": "code",
   "execution_count": null,
   "id": "1bb3db19",
   "metadata": {},
   "outputs": [],
   "source": []
  },
  {
   "cell_type": "code",
   "execution_count": null,
   "id": "f1b77c81",
   "metadata": {},
   "outputs": [],
   "source": []
  },
  {
   "cell_type": "code",
   "execution_count": null,
   "id": "b3dbd0b3",
   "metadata": {},
   "outputs": [],
   "source": []
  },
  {
   "cell_type": "code",
   "execution_count": null,
   "id": "37532ba0",
   "metadata": {},
   "outputs": [],
   "source": []
  },
  {
   "cell_type": "code",
   "execution_count": null,
   "id": "3e6a4da3",
   "metadata": {},
   "outputs": [],
   "source": []
  },
  {
   "cell_type": "code",
   "execution_count": null,
   "id": "1c55b883",
   "metadata": {},
   "outputs": [],
   "source": []
  },
  {
   "cell_type": "code",
   "execution_count": null,
   "id": "81adca6d",
   "metadata": {},
   "outputs": [],
   "source": []
  },
  {
   "cell_type": "code",
   "execution_count": null,
   "id": "8b1b39ca",
   "metadata": {},
   "outputs": [],
   "source": []
  },
  {
   "cell_type": "code",
   "execution_count": null,
   "id": "0a7feda5",
   "metadata": {},
   "outputs": [],
   "source": []
  },
  {
   "cell_type": "code",
   "execution_count": null,
   "id": "3f941367",
   "metadata": {},
   "outputs": [],
   "source": []
  },
  {
   "cell_type": "code",
   "execution_count": null,
   "id": "891690b4",
   "metadata": {},
   "outputs": [],
   "source": []
  },
  {
   "cell_type": "code",
   "execution_count": null,
   "id": "7957ad2b",
   "metadata": {},
   "outputs": [],
   "source": []
  },
  {
   "cell_type": "code",
   "execution_count": null,
   "id": "ea160760",
   "metadata": {},
   "outputs": [],
   "source": []
  },
  {
   "cell_type": "code",
   "execution_count": null,
   "id": "39e1a768",
   "metadata": {},
   "outputs": [],
   "source": []
  },
  {
   "cell_type": "code",
   "execution_count": null,
   "id": "944f596f",
   "metadata": {},
   "outputs": [],
   "source": []
  },
  {
   "cell_type": "code",
   "execution_count": null,
   "id": "15d82a43",
   "metadata": {},
   "outputs": [],
   "source": []
  },
  {
   "cell_type": "code",
   "execution_count": null,
   "id": "1126c848",
   "metadata": {},
   "outputs": [],
   "source": []
  },
  {
   "cell_type": "code",
   "execution_count": null,
   "id": "a71eed89",
   "metadata": {},
   "outputs": [],
   "source": []
  },
  {
   "cell_type": "code",
   "execution_count": null,
   "id": "e519be66",
   "metadata": {},
   "outputs": [],
   "source": []
  },
  {
   "cell_type": "code",
   "execution_count": null,
   "id": "c7245760",
   "metadata": {},
   "outputs": [],
   "source": []
  },
  {
   "cell_type": "code",
   "execution_count": null,
   "id": "2253f681",
   "metadata": {},
   "outputs": [],
   "source": []
  },
  {
   "cell_type": "code",
   "execution_count": null,
   "id": "9711db3d",
   "metadata": {},
   "outputs": [],
   "source": []
  },
  {
   "cell_type": "code",
   "execution_count": null,
   "id": "bbc906ba",
   "metadata": {},
   "outputs": [],
   "source": []
  },
  {
   "cell_type": "code",
   "execution_count": null,
   "id": "4b804cc8",
   "metadata": {},
   "outputs": [],
   "source": []
  },
  {
   "cell_type": "code",
   "execution_count": null,
   "id": "b7e6874f",
   "metadata": {},
   "outputs": [],
   "source": []
  },
  {
   "cell_type": "code",
   "execution_count": null,
   "id": "ed7335e3",
   "metadata": {},
   "outputs": [],
   "source": []
  },
  {
   "cell_type": "code",
   "execution_count": null,
   "id": "400c9a80",
   "metadata": {},
   "outputs": [],
   "source": []
  },
  {
   "cell_type": "code",
   "execution_count": null,
   "id": "91d8ed80",
   "metadata": {},
   "outputs": [],
   "source": []
  },
  {
   "cell_type": "code",
   "execution_count": null,
   "id": "5337415d",
   "metadata": {},
   "outputs": [],
   "source": []
  },
  {
   "cell_type": "code",
   "execution_count": null,
   "id": "a320a083",
   "metadata": {},
   "outputs": [],
   "source": []
  },
  {
   "cell_type": "code",
   "execution_count": null,
   "id": "93dcb1cc",
   "metadata": {},
   "outputs": [],
   "source": []
  },
  {
   "cell_type": "code",
   "execution_count": null,
   "id": "69b1befa",
   "metadata": {},
   "outputs": [],
   "source": []
  },
  {
   "cell_type": "code",
   "execution_count": null,
   "id": "24addfef",
   "metadata": {},
   "outputs": [],
   "source": []
  },
  {
   "cell_type": "code",
   "execution_count": null,
   "id": "6a872f3a",
   "metadata": {},
   "outputs": [],
   "source": []
  },
  {
   "cell_type": "code",
   "execution_count": null,
   "id": "6ffb13df",
   "metadata": {},
   "outputs": [],
   "source": []
  },
  {
   "cell_type": "code",
   "execution_count": null,
   "id": "0111d491",
   "metadata": {},
   "outputs": [],
   "source": []
  },
  {
   "cell_type": "code",
   "execution_count": null,
   "id": "04ce48c1",
   "metadata": {},
   "outputs": [],
   "source": []
  },
  {
   "cell_type": "code",
   "execution_count": null,
   "id": "841ec160",
   "metadata": {},
   "outputs": [],
   "source": []
  }
 ],
 "metadata": {
  "kernelspec": {
   "display_name": "Python 3 (ipykernel)",
   "language": "python",
   "name": "python3"
  },
  "language_info": {
   "codemirror_mode": {
    "name": "ipython",
    "version": 3
   },
   "file_extension": ".py",
   "mimetype": "text/x-python",
   "name": "python",
   "nbconvert_exporter": "python",
   "pygments_lexer": "ipython3",
   "version": "3.11.5"
  }
 },
 "nbformat": 4,
 "nbformat_minor": 5
}
