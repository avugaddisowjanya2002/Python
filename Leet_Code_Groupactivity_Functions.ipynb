{
 "cells": [
  {
   "cell_type": "markdown",
   "id": "69c5d1fc",
   "metadata": {},
   "source": [
    "## Q1. L-C1221. Split a String in Balanced Strings\n",
    "        Balanced strings are those that have an equal quantity of 'L' and 'R' characters.\n",
    "\n",
    "    Given a balanced string s, split it into some number of substrings such that:\n",
    "\n",
    "    Each substring is balanced.\n",
    "    Return the maximum number of balanced strings you can obtain.\n",
    "\n",
    " \n",
    "\n",
    "###### Example 1:\n",
    "\n",
    "    Input: s = \"RLRRLLRLRL\"\n",
    "    Output: 4\n",
    "    Explanation: s can be split into \"RL\", \"RRLL\", \"RL\", \"RL\", each substring contains same number of 'L' and 'R'.\n",
    "\n",
    "\n",
    "##### Example 2:\n",
    "\n",
    "    Input: s = \"RLRRRLLRLL\"\n",
    "    Output: 2\n",
    "    Explanation: s can be split into \"RL\", \"RRRLLRLL\", each substring contains same number of 'L' and 'R'.\n",
    "    Note that s cannot be split into \"RL\", \"RR\", \"RL\", \"LR\", \"LL\", because the 2nd and 5th substrings are not balanced.\n",
    "##### Example 3:\n",
    "\n",
    "    Input: s = \"LLLLRRRR\"\n",
    "    Output: 1\n",
    "    Explanation: s can be split into \"LLLLRRRR\".\n",
    " \n",
    "\n",
    "Constraints:\n",
    "\n",
    "    2 <= s.length <= 1000\n",
    "    s[i] is either 'L' or 'R'.\n",
    "    s is a balanced string."
   ]
  },
  {
   "cell_type": "code",
   "execution_count": 47,
   "id": "3cd2fade",
   "metadata": {},
   "outputs": [],
   "source": [
    "def balancedStringSplit_1221(s):\n",
    "    ''' balancedStringSplit_1221 function name which Splits a String in Balanced Strings\n",
    "        parameter : s--> is string given by user as input,\n",
    "        bal_count--> is count of substrings in string,\n",
    "        r_count is count of character 'R',\n",
    "        l_count is count of character 'L'. '''\n",
    "    bal_count,r_count,l_count=0,0,0 #initialized to zero\n",
    "    for i in range(len(s)): \n",
    "        if s[i] == 'L': # if string index element is equal to 'L' then next stmt runs orelse jumps to else stmt\n",
    "            l_count += 1   #l_count is incremented by 1\n",
    "        else:\n",
    "            r_count += 1 #r_count is incremented by 1\n",
    "        if l_count == r_count: # if r_count and l_count is equal then bal_count is incremented by 1 \n",
    "            bal_count += 1 # bal_count is incremented\n",
    "    return bal_count "
   ]
  },
  {
   "cell_type": "code",
   "execution_count": 86,
   "id": "a412d2bf",
   "metadata": {},
   "outputs": [
    {
     "data": {
      "text/plain": [
       "3"
      ]
     },
     "execution_count": 86,
     "metadata": {},
     "output_type": "execute_result"
    }
   ],
   "source": [
    "balancedStringSplit_1221('LRLRLLRRLLR')"
   ]
  },
  {
   "cell_type": "code",
   "execution_count": 50,
   "id": "95e73220",
   "metadata": {},
   "outputs": [
    {
     "data": {
      "text/plain": [
       "1"
      ]
     },
     "execution_count": 50,
     "metadata": {},
     "output_type": "execute_result"
    }
   ],
   "source": [
    "balancedStringSplit_1221('LLLRRR')"
   ]
  },
  {
   "cell_type": "code",
   "execution_count": 97,
   "id": "704e4ce3",
   "metadata": {},
   "outputs": [
    {
     "data": {
      "text/plain": [
       "\" balancedStringSplit_1221 function name which Splits a String in Balanced Strings\\n        parameter : s--> is string given by user as input,\\n        bal_count--> is count of substrings in string,\\n        r_count is count of character 'R',\\n        l_count is count of character 'L'. \""
      ]
     },
     "execution_count": 97,
     "metadata": {},
     "output_type": "execute_result"
    }
   ],
   "source": [
    "balancedStringSplit_1221.__doc__"
   ]
  },
  {
   "cell_type": "markdown",
   "id": "d8e92e85",
   "metadata": {},
   "source": [
    "## <center> OR </center>"
   ]
  },
  {
   "cell_type": "code",
   "execution_count": 77,
   "id": "9dafcc60",
   "metadata": {},
   "outputs": [],
   "source": [
    "def balancedStringSplit_1221(s):\n",
    "    bal_count, r_count, l_count = (0, 0, 0)\n",
    "\n",
    "    for char in s:\n",
    "        if char == 'L':\n",
    "            l_count += 1\n",
    "        else:\n",
    "            r_count += 1\n",
    "\n",
    "        if l_count == r_count:\n",
    "            bal_count += 1\n",
    "\n",
    "    return bal_count"
   ]
  },
  {
   "cell_type": "code",
   "execution_count": 82,
   "id": "3d4351c8",
   "metadata": {},
   "outputs": [
    {
     "data": {
      "text/plain": [
       "1"
      ]
     },
     "execution_count": 82,
     "metadata": {},
     "output_type": "execute_result"
    }
   ],
   "source": [
    "balancedStringSplit_1221('LRLLR')"
   ]
  },
  {
   "cell_type": "markdown",
   "id": "ffbbfa0e",
   "metadata": {},
   "source": [
    "### Explanation of code \n",
    "* This function takes a string s as input and counts the number of balanced substrings in it. \n",
    "    A balanced substring is defined as a substring that has an equal quantity of 'L' and 'R' characters.\n",
    "###### 1. Initialization of Variables:\n",
    "\n",
    "* <B>bal_count:</B> Initialized to 0, this variable keeps track of the number of balanced substrings found in the input string.\n",
    "* <B>r_count and l_count:</B> Initialized to 0, these variables are used to count the occurrences of 'R' and 'L' characters as the function iterates through the string.\n",
    "\n",
    "##### 2. For Loop:\n",
    "\n",
    "* <B>for i in range(len(s)):</B> -> The function uses a for loop to iterate through each character in the input string s.\n",
    "    Counting 'L' and 'R':\n",
    "\n",
    "    <B>if s[i] == 'L': </B> -> If the current character is 'L', l_count is incremented.\n",
    "    \n",
    "    <B>else:</B> -> If the current character is not 'L' (i.e., it's 'R'), r_count is incremented.\n",
    "\n",
    "##### 3. Checking for Balanced Substrings: (bal_count)\n",
    "\n",
    "* <B>if l_count == r_count:</B> -> This condition checks if the counts of 'L' and 'R' characters are equal. If so, it means a balanced substring is found, and bal_count is incremented.\n",
    "\n",
    "##### 4. Returning the Result:\n",
    "\n",
    "* The function returns the final count of balanced substrings (bal_count)."
   ]
  },
  {
   "cell_type": "markdown",
   "id": "b5667e43",
   "metadata": {},
   "source": [
    "## Q2.1165. Single-Row Keyboard\n",
    "    There is a special keyboard with all keys in a single row.\n",
    "\n",
    "    Given a string keyboard of length 26 indicating the layout of the keyboard (indexed from 0 to 25), initially your finger is at index 0. To type a character, you have to move your finger to the index of the desired character. The time taken to move your finger from index i to index j is |i - j|.\n",
    "\n",
    "    You want to type a string word. Write a function to calculate how much time it takes to type it with one finger.\n",
    "\n",
    " \n",
    "\n",
    "###### Example 1:\n",
    "\n",
    "    Input: keyboard = \"abcdefghijklmnopqrstuvwxyz\", word = \"cba\"\n",
    "    Output: 4\n",
    "    Explanation: The index moves from 0 to 2 to write 'c' then to 1 to write 'b' then to 0 again to write 'a'.\n",
    "    Total time = 2 + 1 + 1 = 4.\n",
    "###### Example 2:\n",
    "    Input: keyboard = \"pqrstuvwxyzabcdefghijklmno\", word = \"leetcode\"\n",
    "    Output: 73\n",
    " \n",
    " Constraints:\n",
    "\n",
    "    keyboard.length == 26\n",
    "    keyboard contains each English lowercase letter exactly once in some order.\n",
    "    1 <= word.length <= 10^4\n",
    "    word[i] is an English lowercase letter."
   ]
  },
  {
   "cell_type": "markdown",
   "id": "7721c218",
   "metadata": {},
   "source": [
    "##### This function, SingleRowKeyboard_1165, takes two arguments: keyboard and word. It calculates and prints the total distance traveled by a cursor moving along a single row keyboard to type the characters in the given word, based on the layout of keys in the keyboard.\n",
    "\n",
    "##### keyboard: This is the string representing the layout of keys on a single row of the keyboard.\n",
    "\n",
    "##### word: This is the string of characters that need to be typed on the keyboard."
   ]
  },
  {
   "cell_type": "code",
   "execution_count": 14,
   "id": "899ec819",
   "metadata": {},
   "outputs": [],
   "source": [
    "def SingleRowKeyboard_1165(keyboard,word):\n",
    "    '''SingleRowKeyboard_1165, takes two arguments: keyboard and word.\n",
    "    keyboard: This is the string representing the layout of keys on a single row of the keyboard.\n",
    "    word: This is the string of characters that need to be typed on the keyboard.'''\n",
    "    sum_result =t=0\n",
    "    for i in word:\n",
    "        for j in keyboard:\n",
    "            if i==j:\n",
    "                sum_result += abs(keyboard.index(j)-t)\n",
    "                t= keyboard.index(j)\n",
    "    print(sum_result)\n",
    "    \n",
    "    "
   ]
  },
  {
   "cell_type": "code",
   "execution_count": 15,
   "id": "af6b18af",
   "metadata": {},
   "outputs": [
    {
     "name": "stdout",
     "output_type": "stream",
     "text": [
      "45\n"
     ]
    }
   ],
   "source": [
    "SingleRowKeyboard_1165('qwertyuiopasdfghjklzxcvbnm','sowji')"
   ]
  },
  {
   "cell_type": "code",
   "execution_count": 16,
   "id": "3072d8d7",
   "metadata": {},
   "outputs": [
    {
     "data": {
      "text/plain": [
       "'SingleRowKeyboard_1165, takes two arguments: keyboard and word.\\n    keyboard: This is the string representing the layout of keys on a single row of the keyboard.\\n    word: This is the string of characters that need to be typed on the keyboard.'"
      ]
     },
     "execution_count": 16,
     "metadata": {},
     "output_type": "execute_result"
    }
   ],
   "source": [
    "SingleRowKeyboard_1165.__doc__"
   ]
  },
  {
   "cell_type": "markdown",
   "id": "fd6d1369",
   "metadata": {},
   "source": [
    "### Explanation:\n",
    "\n",
    "* sum_result and t are initialized to 0.\n",
    "* sum_result will store the total distance traveled, and t will keep track of the index of the last character typed.\n",
    "\n",
    "* The function uses nested loops to iterate over each character in word and each character in keyboard.\n",
    "\n",
    "* For each character i in word, it checks each character j in keyboard.\n",
    "\n",
    "* If the current character in keyboard (j) is equal to the current character in word (i), it calculates the absolute difference between the index of j in keyboard and the previous index t. This represents the distance traveled to type the current character.\n",
    "\n",
    "* The distance is added to sum_result, and the index t is updated to the index of the current character j in keyboard.\n",
    "* After processing all characters in word, the total distance (sum_result) is printed."
   ]
  },
  {
   "cell_type": "code",
   "execution_count": null,
   "id": "bf8d994f",
   "metadata": {},
   "outputs": [],
   "source": []
  },
  {
   "cell_type": "markdown",
   "id": "ab3e323a",
   "metadata": {},
   "source": [
    "## 3Q.  1119 Given a string S, remove the vowels 'a', 'e', 'i', 'o', and 'u' from it, and return the new string.\n",
    "\n",
    " \n",
    "\n",
    "Example 1:\n",
    "\n",
    "Input: \"leetcodeisacommunityforcoders\"\n",
    "Output: \"ltcdscmmntyfrcdrs\"\n",
    "Example 2:\n",
    "\n",
    "Input: \"aeiou\"\n",
    "Output: \"\""
   ]
  },
  {
   "cell_type": "code",
   "execution_count": 1,
   "id": "1c7d7524",
   "metadata": {},
   "outputs": [],
   "source": [
    "def remove_vowels1119(string1):\n",
    "    output=''\n",
    "    for char in string1:\n",
    "        if char not in 'aeiou':\n",
    "            output+=char\n",
    "    print(output)"
   ]
  },
  {
   "cell_type": "code",
   "execution_count": 4,
   "id": "efaad8d4",
   "metadata": {},
   "outputs": [
    {
     "name": "stdout",
     "output_type": "stream",
     "text": [
      "qwrtyp\n"
     ]
    }
   ],
   "source": [
    "remove_vowels1119('qwertyuiop')"
   ]
  },
  {
   "cell_type": "markdown",
   "id": "2ed80ba3",
   "metadata": {},
   "source": [
    "* Function Definition:\n",
    "\n",
    "<b>def remove_vowels1119(string1):</b>: This line defines a function named remove_vowels1119 that takes one parameter, string1, which is expected to be a string.\n",
    "    \n",
    "* Initialization:\n",
    "\n",
    "<b>output = '':</b> Initializes an empty string called output. This variable will be used to store the characters of the input string that are not vowels.\n",
    "\n",
    "* Loop Through Characters:\n",
    "\n",
    "<b>for char in string1:</b>: This is a loop that iterates through each character in the input string (string1).\n",
    "Check for Vowels:\n",
    "\n",
    "<b>if char not in 'aeiou':</b>: This line checks if the current character (char) is not a vowel ('a', 'e', 'i', 'o', 'u'). If the character is not a vowel, the following block of code is executed.\n",
    "\n",
    "* Building the Output String:\n",
    "\n",
    "<b>output += char:</b> If the character is not a vowel, it is appended to the output string.\n",
    "\n",
    "* Print the Result:\n",
    "\n",
    "print(output): After the loop completes, the function prints the final value of the output string, which contains the input string with all vowels removed."
   ]
  },
  {
   "cell_type": "markdown",
   "id": "0072b98d",
   "metadata": {},
   "source": [
    "## 4Q. 1108. Defanging an IP Address \n",
    "Given a valid (IPv4) IP address, return a defanged version of that IP address.\n",
    "\n",
    "A defanged IP address replaces every period \".\" with \"[.]\".\n",
    "\n",
    "Example 1:\n",
    "\n",
    "Input: address = \"1.1.1.1\"\n",
    "\n",
    "Output: \"1[.]1[.]1[.]1\"\n",
    "\n",
    "Example 2:\n",
    "\n",
    "Input: address = \"255.100.50.0\"\n",
    "\n",
    "Output: \"255[.]100[.]50[.]0\""
   ]
  },
  {
   "cell_type": "markdown",
   "id": "b1417d32",
   "metadata": {},
   "source": [
    "##### The given Python code defines a function called defangIPaddr that takes an IP address as input and returns a \"defanged\" version of the IP address. In networking terminology, defanging an IP address often means replacing the dots (.) with some other character or sequence of characters to prevent it from being interpreted as a valid IP address. This is sometimes done for security purposes, such as when displaying IP addresses in a user interface to prevent the addresses from being clickable links."
   ]
  },
  {
   "cell_type": "code",
   "execution_count": 2,
   "id": "75e65ae0",
   "metadata": {},
   "outputs": [],
   "source": [
    "def defangIPaddr(address):\n",
    "        li=''\n",
    "        s=address\n",
    "        for i in range(len(s)):\n",
    "            if s[i]!='.':\n",
    "                li=li + s[i]\n",
    "            elif s[i]=='.':\n",
    "                li=li + '[.]'\n",
    "        return li"
   ]
  },
  {
   "cell_type": "code",
   "execution_count": 4,
   "id": "651149b6",
   "metadata": {},
   "outputs": [
    {
     "data": {
      "text/plain": [
       "'1[.]1[.]1'"
      ]
     },
     "execution_count": 4,
     "metadata": {},
     "output_type": "execute_result"
    }
   ],
   "source": [
    "defangIPaddr('1.1.1')"
   ]
  },
  {
   "cell_type": "code",
   "execution_count": 6,
   "id": "6bdae408",
   "metadata": {},
   "outputs": [
    {
     "data": {
      "text/plain": [
       "'8745[.]74[.]96'"
      ]
     },
     "execution_count": 6,
     "metadata": {},
     "output_type": "execute_result"
    }
   ],
   "source": [
    "defangIPaddr('8745.74.96')"
   ]
  },
  {
   "cell_type": "markdown",
   "id": "b4682de6",
   "metadata": {},
   "source": [
    "###### For example, if you call defangIPaddr(\"192.168.1.1\"), the function would return the string \"192[.]168[.]1[.]1\". It replaces each dot in the original IP address with the sequence [.]."
   ]
  },
  {
   "cell_type": "markdown",
   "id": "a76e326a",
   "metadata": {},
   "source": [
    "## <center> OR</center>"
   ]
  },
  {
   "cell_type": "code",
   "execution_count": 2,
   "id": "4e8ec786",
   "metadata": {},
   "outputs": [],
   "source": [
    "def fangipadd_1108(str1):\n",
    "    print(str1.replace('.','[.]'))"
   ]
  },
  {
   "cell_type": "code",
   "execution_count": 4,
   "id": "3bd3ed44",
   "metadata": {},
   "outputs": [
    {
     "name": "stdout",
     "output_type": "stream",
     "text": [
      "1[.]2[.]3[.]4\n"
     ]
    }
   ],
   "source": [
    "fangipadd_1108('1.2.3.4')"
   ]
  },
  {
   "cell_type": "code",
   "execution_count": 6,
   "id": "57e6f867",
   "metadata": {},
   "outputs": [
    {
     "name": "stdout",
     "output_type": "stream",
     "text": [
      "12[.]939[.]098[.]09347\n"
     ]
    }
   ],
   "source": [
    "fangipadd_1108('12.939.098.09347')"
   ]
  },
  {
   "cell_type": "code",
   "execution_count": null,
   "id": "c3ffc89f",
   "metadata": {},
   "outputs": [],
   "source": []
  },
  {
   "cell_type": "code",
   "execution_count": null,
   "id": "769deaf7",
   "metadata": {},
   "outputs": [],
   "source": []
  },
  {
   "cell_type": "code",
   "execution_count": null,
   "id": "71450486",
   "metadata": {},
   "outputs": [],
   "source": []
  },
  {
   "cell_type": "code",
   "execution_count": null,
   "id": "d05b458f",
   "metadata": {},
   "outputs": [],
   "source": []
  },
  {
   "cell_type": "code",
   "execution_count": null,
   "id": "ce1c7239",
   "metadata": {},
   "outputs": [],
   "source": []
  },
  {
   "cell_type": "code",
   "execution_count": null,
   "id": "d973e1ee",
   "metadata": {},
   "outputs": [],
   "source": []
  },
  {
   "cell_type": "code",
   "execution_count": null,
   "id": "3608366d",
   "metadata": {},
   "outputs": [],
   "source": []
  },
  {
   "cell_type": "code",
   "execution_count": null,
   "id": "f8d625d3",
   "metadata": {},
   "outputs": [],
   "source": []
  },
  {
   "cell_type": "code",
   "execution_count": null,
   "id": "f8eebae4",
   "metadata": {},
   "outputs": [],
   "source": []
  },
  {
   "cell_type": "code",
   "execution_count": null,
   "id": "b953bef3",
   "metadata": {},
   "outputs": [],
   "source": []
  },
  {
   "cell_type": "code",
   "execution_count": null,
   "id": "8c7358f7",
   "metadata": {},
   "outputs": [],
   "source": []
  },
  {
   "cell_type": "code",
   "execution_count": null,
   "id": "9d21977f",
   "metadata": {},
   "outputs": [],
   "source": []
  },
  {
   "cell_type": "code",
   "execution_count": null,
   "id": "6e92aad5",
   "metadata": {},
   "outputs": [],
   "source": []
  },
  {
   "cell_type": "code",
   "execution_count": null,
   "id": "8c2f2337",
   "metadata": {},
   "outputs": [],
   "source": []
  },
  {
   "cell_type": "code",
   "execution_count": null,
   "id": "0efaf2ef",
   "metadata": {},
   "outputs": [],
   "source": []
  },
  {
   "cell_type": "code",
   "execution_count": null,
   "id": "6e484976",
   "metadata": {},
   "outputs": [],
   "source": []
  },
  {
   "cell_type": "code",
   "execution_count": null,
   "id": "661f3c67",
   "metadata": {},
   "outputs": [],
   "source": []
  },
  {
   "cell_type": "code",
   "execution_count": null,
   "id": "6f2b0990",
   "metadata": {},
   "outputs": [],
   "source": []
  },
  {
   "cell_type": "code",
   "execution_count": null,
   "id": "3a3bea82",
   "metadata": {},
   "outputs": [],
   "source": []
  },
  {
   "cell_type": "code",
   "execution_count": null,
   "id": "d7870f30",
   "metadata": {},
   "outputs": [],
   "source": []
  },
  {
   "cell_type": "code",
   "execution_count": null,
   "id": "cad62124",
   "metadata": {},
   "outputs": [],
   "source": []
  }
 ],
 "metadata": {
  "kernelspec": {
   "display_name": "Python 3 (ipykernel)",
   "language": "python",
   "name": "python3"
  },
  "language_info": {
   "codemirror_mode": {
    "name": "ipython",
    "version": 3
   },
   "file_extension": ".py",
   "mimetype": "text/x-python",
   "name": "python",
   "nbconvert_exporter": "python",
   "pygments_lexer": "ipython3",
   "version": "3.11.5"
  }
 },
 "nbformat": 4,
 "nbformat_minor": 5
}
