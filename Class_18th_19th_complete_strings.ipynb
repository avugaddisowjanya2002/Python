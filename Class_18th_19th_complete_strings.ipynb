{
 "cells": [
  {
   "cell_type": "markdown",
   "id": "81589748",
   "metadata": {},
   "source": [
    "1. <b>Class :</b> a class is a user-defined data type that contains both the data itself and the methods that may be used to manipulate it.Classes serve as a template to create objects. \n",
    "    A class describes the contents of the objects that belong to it: it describes an aggregate of data fields (called instance variables), and defines the operations (called methods). \n",
    "\n",
    "2. <b>object:</b> an object is an element (or instance) of a class; objects have the behaviors of their class.\n",
    "\n",
    "3. <b>method() : </b> methods are functions that are associated with an object and can manipulate its data or perform actions on it.\n",
    "4. <b>ASCII : </b> ASCII stands for American Standard Code for Information Interchange. It is a numeric value given to different characters and symbols, for computers to store and manipulate. For example, the ASCII value of the letter 'A' is 65.\n"
   ]
  },
  {
   "cell_type": "code",
   "execution_count": 2,
   "id": "7b9b52d5",
   "metadata": {},
   "outputs": [
    {
     "name": "stdout",
     "output_type": "stream",
     "text": [
      "10 <class 'int'>\n"
     ]
    }
   ],
   "source": [
    "x=10 #integer datatype\n",
    "print(x,type(x))"
   ]
  },
  {
   "cell_type": "markdown",
   "id": "ac3d478c",
   "metadata": {},
   "source": [
    "### ord():\n",
    " 1. The ord() function is used to convert a single character (a string of length 1) into its Unicode code point (integer representation). The syntax of the ord()\n"
   ]
  },
  {
   "cell_type": "code",
   "execution_count": 4,
   "id": "0be62ccf",
   "metadata": {},
   "outputs": [
    {
     "data": {
      "text/plain": [
       "90"
      ]
     },
     "execution_count": 4,
     "metadata": {},
     "output_type": "execute_result"
    }
   ],
   "source": [
    "ord('A') \n",
    "ord('Z')"
   ]
  },
  {
   "cell_type": "code",
   "execution_count": 6,
   "id": "b8661450",
   "metadata": {},
   "outputs": [
    {
     "name": "stdout",
     "output_type": "stream",
     "text": [
      "Help on built-in function ord in module builtins:\n",
      "\n",
      "ord(c, /)\n",
      "    Return the Unicode code point for a one-character string.\n",
      "\n"
     ]
    }
   ],
   "source": [
    "help(ord)"
   ]
  },
  {
   "cell_type": "markdown",
   "id": "c1611999",
   "metadata": {},
   "source": [
    "1. Here, c is the character you want to convert to its Unicode code point. \n",
    "2. The / in the function signature indicates that c is a positional-only argument, meaning you can't specify it as a keyword argument."
   ]
  },
  {
   "cell_type": "code",
   "execution_count": 3,
   "id": "1495cf5c",
   "metadata": {},
   "outputs": [
    {
     "data": {
      "text/plain": [
       "['__abs__',\n",
       " '__add__',\n",
       " '__and__',\n",
       " '__bool__',\n",
       " '__ceil__',\n",
       " '__class__',\n",
       " '__delattr__',\n",
       " '__dir__',\n",
       " '__divmod__',\n",
       " '__doc__',\n",
       " '__eq__',\n",
       " '__float__',\n",
       " '__floor__',\n",
       " '__floordiv__',\n",
       " '__format__',\n",
       " '__ge__',\n",
       " '__getattribute__',\n",
       " '__getnewargs__',\n",
       " '__getstate__',\n",
       " '__gt__',\n",
       " '__hash__',\n",
       " '__index__',\n",
       " '__init__',\n",
       " '__init_subclass__',\n",
       " '__int__',\n",
       " '__invert__',\n",
       " '__le__',\n",
       " '__lshift__',\n",
       " '__lt__',\n",
       " '__mod__',\n",
       " '__mul__',\n",
       " '__ne__',\n",
       " '__neg__',\n",
       " '__new__',\n",
       " '__or__',\n",
       " '__pos__',\n",
       " '__pow__',\n",
       " '__radd__',\n",
       " '__rand__',\n",
       " '__rdivmod__',\n",
       " '__reduce__',\n",
       " '__reduce_ex__',\n",
       " '__repr__',\n",
       " '__rfloordiv__',\n",
       " '__rlshift__',\n",
       " '__rmod__',\n",
       " '__rmul__',\n",
       " '__ror__',\n",
       " '__round__',\n",
       " '__rpow__',\n",
       " '__rrshift__',\n",
       " '__rshift__',\n",
       " '__rsub__',\n",
       " '__rtruediv__',\n",
       " '__rxor__',\n",
       " '__setattr__',\n",
       " '__sizeof__',\n",
       " '__str__',\n",
       " '__sub__',\n",
       " '__subclasshook__',\n",
       " '__truediv__',\n",
       " '__trunc__',\n",
       " '__xor__',\n",
       " 'as_integer_ratio',\n",
       " 'bit_count',\n",
       " 'bit_length',\n",
       " 'conjugate',\n",
       " 'denominator',\n",
       " 'from_bytes',\n",
       " 'imag',\n",
       " 'numerator',\n",
       " 'real',\n",
       " 'to_bytes']"
      ]
     },
     "execution_count": 3,
     "metadata": {},
     "output_type": "execute_result"
    }
   ],
   "source": [
    "dir(x)"
   ]
  },
  {
   "cell_type": "code",
   "execution_count": 4,
   "id": "6fe95dd9",
   "metadata": {},
   "outputs": [
    {
     "name": "stdout",
     "output_type": "stream",
     "text": [
      "hardwork <class 'str'>\n"
     ]
    }
   ],
   "source": [
    "y = \"hardwork\"\n",
    "print(y,type(y))"
   ]
  },
  {
   "cell_type": "code",
   "execution_count": 5,
   "id": "4a19ccfd",
   "metadata": {},
   "outputs": [
    {
     "data": {
      "text/plain": [
       "['__add__',\n",
       " '__class__',\n",
       " '__contains__',\n",
       " '__delattr__',\n",
       " '__dir__',\n",
       " '__doc__',\n",
       " '__eq__',\n",
       " '__format__',\n",
       " '__ge__',\n",
       " '__getattribute__',\n",
       " '__getitem__',\n",
       " '__getnewargs__',\n",
       " '__getstate__',\n",
       " '__gt__',\n",
       " '__hash__',\n",
       " '__init__',\n",
       " '__init_subclass__',\n",
       " '__iter__',\n",
       " '__le__',\n",
       " '__len__',\n",
       " '__lt__',\n",
       " '__mod__',\n",
       " '__mul__',\n",
       " '__ne__',\n",
       " '__new__',\n",
       " '__reduce__',\n",
       " '__reduce_ex__',\n",
       " '__repr__',\n",
       " '__rmod__',\n",
       " '__rmul__',\n",
       " '__setattr__',\n",
       " '__sizeof__',\n",
       " '__str__',\n",
       " '__subclasshook__',\n",
       " 'capitalize',\n",
       " 'casefold',\n",
       " 'center',\n",
       " 'count',\n",
       " 'encode',\n",
       " 'endswith',\n",
       " 'expandtabs',\n",
       " 'find',\n",
       " 'format',\n",
       " 'format_map',\n",
       " 'index',\n",
       " 'isalnum',\n",
       " 'isalpha',\n",
       " 'isascii',\n",
       " 'isdecimal',\n",
       " 'isdigit',\n",
       " 'isidentifier',\n",
       " 'islower',\n",
       " 'isnumeric',\n",
       " 'isprintable',\n",
       " 'isspace',\n",
       " 'istitle',\n",
       " 'isupper',\n",
       " 'join',\n",
       " 'ljust',\n",
       " 'lower',\n",
       " 'lstrip',\n",
       " 'maketrans',\n",
       " 'partition',\n",
       " 'removeprefix',\n",
       " 'removesuffix',\n",
       " 'replace',\n",
       " 'rfind',\n",
       " 'rindex',\n",
       " 'rjust',\n",
       " 'rpartition',\n",
       " 'rsplit',\n",
       " 'rstrip',\n",
       " 'split',\n",
       " 'splitlines',\n",
       " 'startswith',\n",
       " 'strip',\n",
       " 'swapcase',\n",
       " 'title',\n",
       " 'translate',\n",
       " 'upper',\n",
       " 'zfill']"
      ]
     },
     "execution_count": 5,
     "metadata": {},
     "output_type": "execute_result"
    }
   ],
   "source": [
    "dir(y)"
   ]
  },
  {
   "cell_type": "markdown",
   "id": "cc74f7b0",
   "metadata": {},
   "source": [
    "1. strings are immutable the resulting strings from string methods have a new memory location.\n",
    "2. in order to use these strings,we need reassign it to a var."
   ]
  },
  {
   "cell_type": "code",
   "execution_count": 9,
   "id": "862d1908",
   "metadata": {},
   "outputs": [
    {
     "name": "stdout",
     "output_type": "stream",
     "text": [
      "Betty Botter bought some butter\n",
      "But she said the butter’s bitter\n",
      "If I put it in my batter, it will make my batter bitter\n",
      "But a bit of better butter will make my batter better\n",
      "So ‘twas better Betty Botter bought a bit of better butter\n"
     ]
    }
   ],
   "source": [
    "tt = '''Betty Botter bought some butter\n",
    "But she said the butter’s bitter\n",
    "If I put it in my batter, it will make my batter bitter\n",
    "But a bit of better butter will make my batter better\n",
    "So ‘twas better Betty Botter bought a bit of better butter'''\n",
    "print(tt)"
   ]
  },
  {
   "cell_type": "markdown",
   "id": "a6d5a00e",
   "metadata": {},
   "source": [
    "### upper():\n",
    "1. DEFINITION : The upper() method returns the uppercased string from the given string. \n"
   ]
  },
  {
   "cell_type": "code",
   "execution_count": 12,
   "id": "7e3d6009",
   "metadata": {},
   "outputs": [
    {
     "name": "stdout",
     "output_type": "stream",
     "text": [
      "Help on built-in function upper:\n",
      "\n",
      "upper() method of builtins.str instance\n",
      "    Return a copy of the string converted to uppercase.\n",
      "\n"
     ]
    }
   ],
   "source": [
    "help(tt.upper)"
   ]
  },
  {
   "cell_type": "code",
   "execution_count": 10,
   "id": "b4a386ef",
   "metadata": {},
   "outputs": [
    {
     "name": "stdout",
     "output_type": "stream",
     "text": [
      "2166811761056\n"
     ]
    }
   ],
   "source": [
    "tt.upper() #converts into capitals\n",
    "print(id(tt))"
   ]
  },
  {
   "cell_type": "code",
   "execution_count": 8,
   "id": "26bc5474",
   "metadata": {},
   "outputs": [
    {
     "name": "stdout",
     "output_type": "stream",
     "text": [
      "1972201291952\n"
     ]
    },
    {
     "data": {
      "text/plain": [
       "1972201291888"
      ]
     },
     "execution_count": 8,
     "metadata": {},
     "output_type": "execute_result"
    }
   ],
   "source": [
    "p='tap'        # strings are immutable\n",
    "n=\"TAP\"\n",
    "print(id(p))\n",
    "id(n)"
   ]
  },
  {
   "cell_type": "code",
   "execution_count": 15,
   "id": "1e06f056",
   "metadata": {},
   "outputs": [
    {
     "data": {
      "text/plain": [
       "2166811744256"
      ]
     },
     "execution_count": 15,
     "metadata": {},
     "output_type": "execute_result"
    }
   ],
   "source": [
    "T = tt.upper() \n",
    "T\n",
    "id(T)"
   ]
  },
  {
   "cell_type": "code",
   "execution_count": 16,
   "id": "93ead1b3",
   "metadata": {},
   "outputs": [
    {
     "data": {
      "text/plain": [
       "'betty botter bought some butter\\nbut she said the butter’s bitter\\nif i put it in my batter, it will make my batter bitter\\nbut a bit of better butter will make my batter better\\nso ‘twas better betty botter bought a bit of better butter'"
      ]
     },
     "execution_count": 16,
     "metadata": {},
     "output_type": "execute_result"
    }
   ],
   "source": [
    "T.lower() #prints the complete string to lower case letters."
   ]
  },
  {
   "cell_type": "code",
   "execution_count": 17,
   "id": "7bcb9361",
   "metadata": {},
   "outputs": [
    {
     "name": "stdout",
     "output_type": "stream",
     "text": [
      "Help on built-in function lower:\n",
      "\n",
      "lower() method of builtins.str instance\n",
      "    Return a copy of the string converted to lowercase.\n",
      "\n"
     ]
    }
   ],
   "source": [
    "help(T.lower)"
   ]
  },
  {
   "cell_type": "markdown",
   "id": "6c63c735",
   "metadata": {},
   "source": [
    "### capitalize:\n",
    "1. 1st alphabet of the string is capital."
   ]
  },
  {
   "cell_type": "code",
   "execution_count": 18,
   "id": "eebf3a59",
   "metadata": {},
   "outputs": [
    {
     "data": {
      "text/plain": [
       "'Betty botter bought some butter\\nbut she said the butter’s bitter\\nif i put it in my batter, it will make my batter bitter\\nbut a bit of better butter will make my batter better\\nso ‘twas better betty botter bought a bit of better butter'"
      ]
     },
     "execution_count": 18,
     "metadata": {},
     "output_type": "execute_result"
    }
   ],
   "source": [
    "T.capitalize() # 1st alphabet of the line is capital."
   ]
  },
  {
   "cell_type": "code",
   "execution_count": 19,
   "id": "57022ae6",
   "metadata": {},
   "outputs": [
    {
     "name": "stdout",
     "output_type": "stream",
     "text": [
      "Help on built-in function capitalize:\n",
      "\n",
      "capitalize() method of builtins.str instance\n",
      "    Return a capitalized version of the string.\n",
      "    \n",
      "    More specifically, make the first character have upper case and the rest lower\n",
      "    case.\n",
      "\n"
     ]
    }
   ],
   "source": [
    "help(T.capitalize)"
   ]
  },
  {
   "cell_type": "code",
   "execution_count": 12,
   "id": "6241bffe",
   "metadata": {},
   "outputs": [
    {
     "data": {
      "text/plain": [
       "'Betty Botter Bought Some Butter\\nBut She Said The Butter’S Bitter\\nIf I Put It In My Batter, It Will Make My Batter Bitter\\nBut A Bit Of Better Butter Will Make My Batter Better\\nSo ‘Twas Better Betty Botter Bought A Bit Of Better Butter'"
      ]
     },
     "execution_count": 12,
     "metadata": {},
     "output_type": "execute_result"
    }
   ],
   "source": [
    "##title : converts 1st alphabet of every word is converted to capital.\n",
    "T.title()"
   ]
  },
  {
   "cell_type": "code",
   "execution_count": 20,
   "id": "56ba2d50",
   "metadata": {},
   "outputs": [
    {
     "name": "stdout",
     "output_type": "stream",
     "text": [
      "Help on built-in function title:\n",
      "\n",
      "title() method of builtins.str instance\n",
      "    Return a version of the string where each word is titlecased.\n",
      "    \n",
      "    More specifically, words start with uppercased characters and all remaining\n",
      "    cased characters have lower case.\n",
      "\n"
     ]
    }
   ],
   "source": [
    "help(T.title)"
   ]
  },
  {
   "cell_type": "code",
   "execution_count": 14,
   "id": "d111eab0",
   "metadata": {},
   "outputs": [
    {
     "data": {
      "text/plain": [
       "'betty botter bought some butter\\nbut she said the butter’s bitter\\nif i put it in my batter, it will make my batter bitter\\nbut a bit of better butter will make my batter better\\nso ‘twas better betty botter bought a bit of better butter'"
      ]
     },
     "execution_count": 14,
     "metadata": {},
     "output_type": "execute_result"
    }
   ],
   "source": [
    "T.swapcase() #if input is in caps o/p would be in lower case "
   ]
  },
  {
   "cell_type": "code",
   "execution_count": 21,
   "id": "237a34fe",
   "metadata": {},
   "outputs": [
    {
     "name": "stdout",
     "output_type": "stream",
     "text": [
      "Help on built-in function swapcase:\n",
      "\n",
      "swapcase() method of builtins.str instance\n",
      "    Convert uppercase characters to lowercase and lowercase characters to uppercase.\n",
      "\n"
     ]
    }
   ],
   "source": [
    "help(T.swapcase)"
   ]
  },
  {
   "cell_type": "markdown",
   "id": "2c07a494",
   "metadata": {},
   "source": [
    "### casefold() :\n",
    "This means the casefold() method converts more characters into lower case compared to lower() . For example, the German letter ß is already lowercase so, the lower() method doesn’t make the conversion. But the casefold () method will convert ß to its equivalent character ss ."
   ]
  },
  {
   "cell_type": "code",
   "execution_count": 23,
   "id": "e07a776f",
   "metadata": {},
   "outputs": [
    {
     "data": {
      "text/plain": [
       "'the ss character called eszett'"
      ]
     },
     "execution_count": 23,
     "metadata": {},
     "output_type": "execute_result"
    }
   ],
   "source": [
    "x=\"the ß character called eszett\"\n",
    "x.casefold()"
   ]
  },
  {
   "cell_type": "code",
   "execution_count": 24,
   "id": "daa90b7e",
   "metadata": {},
   "outputs": [
    {
     "name": "stdout",
     "output_type": "stream",
     "text": [
      "Help on built-in function casefold:\n",
      "\n",
      "casefold() method of builtins.str instance\n",
      "    Return a version of the string suitable for caseless comparisons.\n",
      "\n"
     ]
    }
   ],
   "source": [
    "help(x.casefold)"
   ]
  },
  {
   "cell_type": "markdown",
   "id": "50341d1e",
   "metadata": {},
   "source": [
    "### TASK (B) : \n",
    "1. Explain why strings are immutable by taking a string method() as an example.\n",
    "\n",
    "<b>Immutable :</b> Immutable in Python is when you cannot change the object type over time.\n"
   ]
  },
  {
   "cell_type": "code",
   "execution_count": null,
   "id": "cc746fb9",
   "metadata": {},
   "outputs": [],
   "source": []
  },
  {
   "cell_type": "code",
   "execution_count": 35,
   "id": "b852cc3d",
   "metadata": {},
   "outputs": [
    {
     "name": "stdout",
     "output_type": "stream",
     "text": [
      "1972251104112\n",
      "1972251104112\n"
     ]
    }
   ],
   "source": [
    "x= \"sowji\"\n",
    "print(id(x))\n",
    "y = \"sowji\"\n",
    "print(id(x))"
   ]
  },
  {
   "cell_type": "code",
   "execution_count": 51,
   "id": "42997ff6",
   "metadata": {},
   "outputs": [
    {
     "name": "stdout",
     "output_type": "stream",
     "text": [
      "1972259271984\n",
      "1972259691296\n"
     ]
    }
   ],
   "source": [
    "a = \"Sowji\" # \n",
    "print(id(a))# address of a is printed  \n",
    "print(id(a.upper)) #when a method is used new object is created rather than overwriting the previous value"
   ]
  },
  {
   "cell_type": "markdown",
   "id": "10e0a418",
   "metadata": {},
   "source": [
    "### Reverse one string"
   ]
  },
  {
   "cell_type": "code",
   "execution_count": 53,
   "id": "6349ee05",
   "metadata": {},
   "outputs": [
    {
     "name": "stdout",
     "output_type": "stream",
     "text": [
      "nohtyp nrael stel\n"
     ]
    }
   ],
   "source": [
    "str1 = \"lets learn python\"\n",
    "str2 = \"python is very interesting\"\n",
    "str1 = str1[::-1] #start index by default 0 :stop index by default last index \n",
    "print(str1)\n",
    "            "
   ]
  },
  {
   "cell_type": "markdown",
   "id": "207c5479",
   "metadata": {},
   "source": [
    "### Concatenate two strings "
   ]
  },
  {
   "cell_type": "code",
   "execution_count": 58,
   "id": "3bb17806",
   "metadata": {},
   "outputs": [
    {
     "name": "stdout",
     "output_type": "stream",
     "text": [
      "lets learn pythonpython is very interesting\n"
     ]
    }
   ],
   "source": [
    "str1 = \"lets learn python\"\n",
    "str2 = \"python is very interesting\"\n",
    "concat = str1 +str2\n",
    "print(concat)\n"
   ]
  },
  {
   "cell_type": "markdown",
   "id": "7893c5da",
   "metadata": {},
   "source": [
    "### Get the alternate chars of the concatenate string in reverse order."
   ]
  },
  {
   "cell_type": "code",
   "execution_count": 16,
   "id": "0abc0250",
   "metadata": {},
   "outputs": [
    {
     "name": "stdout",
     "output_type": "stream",
     "text": [
      "gisrtiye inhynhy re tl\n"
     ]
    }
   ],
   "source": [
    "str1 = \"lets learn python\"\n",
    "str2 = \"python is very interesting\"\n",
    "concat = str1 +str2\n",
    "concat = concat[::-2]\n",
    "print(concat)"
   ]
  },
  {
   "cell_type": "markdown",
   "id": "a171ba27",
   "metadata": {},
   "source": [
    "# 19-oct-2023\n",
    "<b>Find():</b>\n",
    "1. The find() method finds the first occurrence of the specified value. The find() method returns -1 if the value is not found.\n"
   ]
  },
  {
   "cell_type": "code",
   "execution_count": 5,
   "id": "3b5a908a",
   "metadata": {},
   "outputs": [
    {
     "name": "stdout",
     "output_type": "stream",
     "text": [
      "Help on built-in function find:\n",
      "\n",
      "find(...) method of builtins.str instance\n",
      "    S.find(sub[, start[, end]]) -> int\n",
      "    \n",
      "    Return the lowest index in S where substring sub is found,\n",
      "    such that sub is contained within S[start:end].  Optional\n",
      "    arguments start and end are interpreted as in slice notation.\n",
      "    \n",
      "    Return -1 on failure.\n",
      "\n"
     ]
    }
   ],
   "source": [
    "str1 = \"lets learn python\"\n",
    "help(str1.find)"
   ]
  },
  {
   "cell_type": "markdown",
   "id": "0f5fb590",
   "metadata": {},
   "source": [
    "1. S: This is the original string in which you want to search for the substring.(#in above example 'S' is str1)\n",
    "2. sub: This is the substring you want to find within the original string.\n",
    "3. start (optional): This is the starting index for the search. It specifies where in the original string the search should begin. If not provided, it defaults to 0, which means the search starts from the beginning of the string.\n",
    "4. end (optional): This is the ending index for the search. It specifies where in the original string the search should end. If not provided, it searches until the end of the string."
   ]
  },
  {
   "cell_type": "code",
   "execution_count": 29,
   "id": "5f5a4284",
   "metadata": {},
   "outputs": [],
   "source": [
    "str1 = \"lets learn python\"\n",
    "str2 = \"python is very interesting\"\n"
   ]
  },
  {
   "cell_type": "code",
   "execution_count": 30,
   "id": "be35283e",
   "metadata": {},
   "outputs": [
    {
     "data": {
      "text/plain": [
       "1"
      ]
     },
     "execution_count": 30,
     "metadata": {},
     "output_type": "execute_result"
    }
   ],
   "source": [
    "str1 .find('e') #1st 'e' index is displayed"
   ]
  },
  {
   "cell_type": "code",
   "execution_count": 8,
   "id": "9ab11bd6",
   "metadata": {},
   "outputs": [
    {
     "data": {
      "text/plain": [
       "6"
      ]
     },
     "execution_count": 8,
     "metadata": {},
     "output_type": "execute_result"
    }
   ],
   "source": [
    "str1 .find('e', 3) # start value of index is given as 3, so after that index 'e' the next index will be printed."
   ]
  },
  {
   "cell_type": "code",
   "execution_count": 11,
   "id": "459893c8",
   "metadata": {},
   "outputs": [
    {
     "data": {
      "text/plain": [
       "6"
      ]
     },
     "execution_count": 11,
     "metadata": {},
     "output_type": "execute_result"
    }
   ],
   "source": [
    "str1 .find('e', 3 , 27) # start index and end index is given"
   ]
  },
  {
   "cell_type": "markdown",
   "id": "48d8228e",
   "metadata": {},
   "source": [
    "<b>Help():</b>\n",
    "1. If no argument is given, the interactive help system starts on the interpreter console. If you want to get out of help console, type quit.\n",
    "2. We can also get the help documentation directly from the python console by passing a parameter to help() function.\n",
    "3. Syntax : help(object)"
   ]
  },
  {
   "cell_type": "code",
   "execution_count": 14,
   "id": "bc1c6583",
   "metadata": {},
   "outputs": [
    {
     "name": "stdout",
     "output_type": "stream",
     "text": [
      "Help on built-in function find:\n",
      "\n",
      "find(...) method of builtins.str instance\n",
      "    S.find(sub[, start[, end]]) -> int\n",
      "    \n",
      "    Return the lowest index in S where substring sub is found,\n",
      "    such that sub is contained within S[start:end].  Optional\n",
      "    arguments start and end are interpreted as in slice notation.\n",
      "    \n",
      "    Return -1 on failure.\n",
      "\n"
     ]
    }
   ],
   "source": [
    "help(str1.find)"
   ]
  },
  {
   "cell_type": "markdown",
   "id": "4ade6fab",
   "metadata": {},
   "source": [
    "<b>Count():</b>\n",
    "1. Count() is a Python built-in function that returns the number of times an object appears in a list.\n",
    "2.  It returns the number of times a given value occurs in a string or a list, as the name implies.\n",
    "3. Syntax : help(object)"
   ]
  },
  {
   "cell_type": "code",
   "execution_count": 31,
   "id": "fba06cc5",
   "metadata": {},
   "outputs": [
    {
     "data": {
      "text/plain": [
       "3"
      ]
     },
     "execution_count": 31,
     "metadata": {},
     "output_type": "execute_result"
    }
   ],
   "source": [
    "str2.count('e') #there are 3 'e' alphebets in my string"
   ]
  },
  {
   "cell_type": "code",
   "execution_count": 19,
   "id": "59252b5f",
   "metadata": {},
   "outputs": [
    {
     "name": "stdout",
     "output_type": "stream",
     "text": [
      "Help on built-in function count:\n",
      "\n",
      "count(...) method of builtins.str instance\n",
      "    S.count(sub[, start[, end]]) -> int\n",
      "    \n",
      "    Return the number of non-overlapping occurrences of substring sub in\n",
      "    string S[start:end].  Optional arguments start and end are\n",
      "    interpreted as in slice notation.\n",
      "\n"
     ]
    }
   ],
   "source": [
    "help(str1.count)"
   ]
  },
  {
   "cell_type": "markdown",
   "id": "c7bb0be0",
   "metadata": {},
   "source": [
    "1. sub: This is the substring that you want to count within the string S.\n",
    "\n",
    "2. start (optional): This is an optional parameter that specifies the starting index for the search. The count() method will start looking for the substring sub from this index within the string. If omitted, the search will start from the beginning of the string (index 0).\n",
    "\n",
    "3. end (optional): This is an optional parameter that specifies the ending index for the search. "
   ]
  },
  {
   "cell_type": "code",
   "execution_count": 32,
   "id": "76f9eb0e",
   "metadata": {},
   "outputs": [
    {
     "data": {
      "text/plain": [
       "3"
      ]
     },
     "execution_count": 32,
     "metadata": {},
     "output_type": "execute_result"
    }
   ],
   "source": [
    "str2.count('e',10) #start index is given,there are 3 'e' alphabets in the string after the 10th index.\n"
   ]
  },
  {
   "cell_type": "code",
   "execution_count": 33,
   "id": "72975ca7",
   "metadata": {},
   "outputs": [
    {
     "data": {
      "text/plain": [
       "-1"
      ]
     },
     "execution_count": 33,
     "metadata": {},
     "output_type": "execute_result"
    }
   ],
   "source": [
    "str2.find('e',0,10) #-1 stands for cant find."
   ]
  },
  {
   "cell_type": "markdown",
   "id": "b0951892",
   "metadata": {},
   "source": [
    "<b>rfind():</b>\n",
    "1. The rfind() method finds the last occurrence of the specified value.\n",
    "\n",
    "2. The rfind() method returns -1 if the value is not found.\n",
    "\n",
    "3. The rfind() method is almost the same as the rindex() method.\n"
   ]
  },
  {
   "cell_type": "code",
   "execution_count": 34,
   "id": "e8f00bc2",
   "metadata": {},
   "outputs": [
    {
     "name": "stdout",
     "output_type": "stream",
     "text": [
      "Help on built-in function rfind:\n",
      "\n",
      "rfind(...) method of builtins.str instance\n",
      "    S.rfind(sub[, start[, end]]) -> int\n",
      "    \n",
      "    Return the highest index in S where substring sub is found,\n",
      "    such that sub is contained within S[start:end].  Optional\n",
      "    arguments start and end are interpreted as in slice notation.\n",
      "    \n",
      "    Return -1 on failure.\n",
      "\n"
     ]
    }
   ],
   "source": [
    "help(str2.rfind)"
   ]
  },
  {
   "cell_type": "markdown",
   "id": "be41bc0c",
   "metadata": {},
   "source": [
    "1. sub: This is the substring that you want to find within the string S.\n",
    "\n",
    "2. start (optional): This is an optional parameter that specifies the starting index for the search. The rfind() method will start looking for the substring sub from this index within the string. If omitted, the search will start from the end of the string.\n",
    "\n",
    "3. end (optional): This is an optional parameter that specifies the ending index for the search. The rfind() method will stop looking for the substring sub at this index within the string. If omitted, the search will continue until the beginning of the string."
   ]
  },
  {
   "cell_type": "code",
   "execution_count": 26,
   "id": "acb54366",
   "metadata": {},
   "outputs": [
    {
     "data": {
      "text/plain": [
       "20"
      ]
     },
     "execution_count": 26,
     "metadata": {},
     "output_type": "execute_result"
    }
   ],
   "source": [
    "str2.rfind('e')#it finds the alphabet from right to left(not reverse indexing )operations are performed from right side"
   ]
  },
  {
   "cell_type": "code",
   "execution_count": 36,
   "id": "dbd2c967",
   "metadata": {},
   "outputs": [
    {
     "data": {
      "text/plain": [
       "5"
      ]
     },
     "execution_count": 36,
     "metadata": {},
     "output_type": "execute_result"
    }
   ],
   "source": [
    "name = \"malayalam\"\n",
    "name.rfind('a',2,7)"
   ]
  },
  {
   "cell_type": "markdown",
   "id": "e1d6cc6a",
   "metadata": {},
   "source": [
    "<b>Index():</b>\n",
    "1. The index() method returns the position at the first occurrence of the specified value.\n",
    "2. Syntax : list.index(elmnt)"
   ]
  },
  {
   "cell_type": "code",
   "execution_count": 37,
   "id": "b3c33092",
   "metadata": {},
   "outputs": [
    {
     "name": "stdout",
     "output_type": "stream",
     "text": [
      "Help on built-in function index:\n",
      "\n",
      "index(...) method of builtins.str instance\n",
      "    S.index(sub[, start[, end]]) -> int\n",
      "    \n",
      "    Return the lowest index in S where substring sub is found,\n",
      "    such that sub is contained within S[start:end].  Optional\n",
      "    arguments start and end are interpreted as in slice notation.\n",
      "    \n",
      "    Raises ValueError when the substring is not found.\n",
      "\n"
     ]
    }
   ],
   "source": [
    "help(name.index)"
   ]
  },
  {
   "cell_type": "code",
   "execution_count": 33,
   "id": "5e917a53",
   "metadata": {},
   "outputs": [
    {
     "data": {
      "text/plain": [
       "(1, 1)"
      ]
     },
     "execution_count": 33,
     "metadata": {},
     "output_type": "execute_result"
    }
   ],
   "source": [
    "name.find('a'),name.index('a') "
   ]
  },
  {
   "cell_type": "markdown",
   "id": "e65d523d",
   "metadata": {},
   "source": [
    "1. string is the string in which you want to search for the substring.\n",
    "2. sub is the substring you want to find within the string.\n",
    "3. start (optional) is the index from which the search will begin. If provided, the method will search for the substring starting from the index specified by start. If not provided, it will start from the beginning of the string (index 0).\n",
    "4. end (optional) is the index at which the search will end. If provided, the method will search for the substring up to, but not including, the index specified by end. If not provided, it will search through the entire string."
   ]
  },
  {
   "cell_type": "code",
   "execution_count": 39,
   "id": "825108c3",
   "metadata": {},
   "outputs": [
    {
     "data": {
      "text/plain": [
       "-1"
      ]
     },
     "execution_count": 39,
     "metadata": {},
     "output_type": "execute_result"
    }
   ],
   "source": [
    "name.find('s') #gives -1 as output because there is no alphabet \"s\" in string\n",
    "#name.index('s') # throws error(value error) there is no \"s\" in string[uncomment to read error]"
   ]
  },
  {
   "cell_type": "markdown",
   "id": "cb60ccfc",
   "metadata": {},
   "source": [
    "<b>rindex() :</b>\n",
    "1. The rindex() method finds the last occurrence of the specified value. \n",
    "2. The rindex() method raises an exception if the value is not found. \n",
    "3. The rindex() method is almost the same as the rfind() method.\n",
    "#### syntax : string.rindex(sub[, start[, end]])"
   ]
  },
  {
   "cell_type": "code",
   "execution_count": 38,
   "id": "6170758c",
   "metadata": {},
   "outputs": [
    {
     "name": "stdout",
     "output_type": "stream",
     "text": [
      "Help on built-in function rindex:\n",
      "\n",
      "rindex(...) method of builtins.str instance\n",
      "    S.rindex(sub[, start[, end]]) -> int\n",
      "    \n",
      "    Return the highest index in S where substring sub is found,\n",
      "    such that sub is contained within S[start:end].  Optional\n",
      "    arguments start and end are interpreted as in slice notation.\n",
      "    \n",
      "    Raises ValueError when the substring is not found.\n",
      "\n"
     ]
    }
   ],
   "source": [
    "help(name.rindex)"
   ]
  },
  {
   "cell_type": "markdown",
   "id": "ae197d83",
   "metadata": {},
   "source": [
    "#### rindex() method works:\n",
    "\n",
    "1. If the substring sub is found within the string, the method returns the index of the last occurrence of sub in the string.\n",
    "\n",
    "2. If sub is not found within the specified range (from start to end), or it's not found in the string at all, the method raises a ValueError."
   ]
  },
  {
   "cell_type": "code",
   "execution_count": 42,
   "id": "df7704b0",
   "metadata": {},
   "outputs": [
    {
     "data": {
      "text/plain": [
       "7"
      ]
     },
     "execution_count": 42,
     "metadata": {},
     "output_type": "execute_result"
    }
   ],
   "source": [
    "name.rindex('a')\n",
    "#name.rindex('z') #(uncomment to see error)\n"
   ]
  },
  {
   "cell_type": "markdown",
   "id": "e9c43a61",
   "metadata": {},
   "source": [
    "<b>replace : ()</b>\n",
    "1. The replace() method replaces a specified phrase with another specified phrase. \n",
    "2. Note: All occurrences of the specified phrase will be replaced, if nothing else is specified."
   ]
  },
  {
   "cell_type": "code",
   "execution_count": 44,
   "id": "3cb1786a",
   "metadata": {},
   "outputs": [
    {
     "name": "stdout",
     "output_type": "stream",
     "text": [
      "Help on built-in function replace:\n",
      "\n",
      "replace(old, new, count=-1, /) method of builtins.str instance\n",
      "    Return a copy with all occurrences of substring old replaced by new.\n",
      "    \n",
      "      count\n",
      "        Maximum number of occurrences to replace.\n",
      "        -1 (the default value) means replace all occurrences.\n",
      "    \n",
      "    If the optional argument count is given, only the first count occurrences are\n",
      "    replaced.\n",
      "\n"
     ]
    }
   ],
   "source": [
    "help(name.replace)"
   ]
  },
  {
   "cell_type": "markdown",
   "id": "1281e245",
   "metadata": {},
   "source": [
    "1. old: This is the substring you want to find and replace within the original string. All occurrences of this substring will be replaced with the \"new\" string.\n",
    "\n",
    "2. new: This is the string that will replace all occurrences of the \"old\" substring in the original string.\n",
    "\n",
    "3. count (optional): This parameter specifies the maximum number of occurrences to replace. It is an integer value, and by default, it is set to -1, which means that all occurrences will be replaced. If you provide a positive integer for count, the function will only replace that many occurrences. If you provide 0 as the value for count, the function will not perform any replacements."
   ]
  },
  {
   "cell_type": "code",
   "execution_count": 9,
   "id": "f7c3cdaf",
   "metadata": {},
   "outputs": [
    {
     "data": {
      "text/plain": [
       "'Malayalam'"
      ]
     },
     "execution_count": 9,
     "metadata": {},
     "output_type": "execute_result"
    }
   ],
   "source": [
    "name.replace('m','M',1) #replace(old, new, count) "
   ]
  },
  {
   "cell_type": "code",
   "execution_count": 53,
   "id": "081e1e45",
   "metadata": {},
   "outputs": [
    {
     "data": {
      "text/plain": [
       "['python', 'is very interesting']"
      ]
     },
     "execution_count": 53,
     "metadata": {},
     "output_type": "execute_result"
    }
   ],
   "source": [
    "str2.split(sep=' ',maxsplit=1) #cuts are from left to right."
   ]
  },
  {
   "cell_type": "markdown",
   "id": "5de75cff",
   "metadata": {},
   "source": [
    "<b>rsplit() :</b>\n",
    "1. The rsplit() method splits a string into a list, starting from the right. If no \"max\" is specified, this method will return the same as the split() method. \n",
    "2. Note: When maxsplit is specified, the list will contain the specified number of elements plus one."
   ]
  },
  {
   "cell_type": "code",
   "execution_count": 55,
   "id": "d69bf39b",
   "metadata": {},
   "outputs": [
    {
     "data": {
      "text/plain": [
       "['python', 'is', 'very', 'interesting']"
      ]
     },
     "execution_count": 55,
     "metadata": {},
     "output_type": "execute_result"
    }
   ],
   "source": [
    "str2.rsplit()# splits from right to left"
   ]
  },
  {
   "cell_type": "code",
   "execution_count": 58,
   "id": "4384a175",
   "metadata": {},
   "outputs": [
    {
     "data": {
      "text/plain": [
       "['python is', 'very', 'interesting']"
      ]
     },
     "execution_count": 58,
     "metadata": {},
     "output_type": "execute_result"
    }
   ],
   "source": [
    "str2.rsplit(maxsplit=2) #cuts are from right to left."
   ]
  },
  {
   "cell_type": "code",
   "execution_count": 25,
   "id": "b9f2d513",
   "metadata": {},
   "outputs": [
    {
     "data": {
      "text/plain": [
       "['m', 'l', 'y', 'l', 'm']"
      ]
     },
     "execution_count": 25,
     "metadata": {},
     "output_type": "execute_result"
    }
   ],
   "source": [
    "name.split('a') # the token will be discarded"
   ]
  },
  {
   "cell_type": "markdown",
   "id": "662906c1",
   "metadata": {},
   "source": [
    "<b>Partition():</b>\n",
    "1. partition(): 3 tokens or 3 sub strings\n",
    "2. The partition() method searches for a specified string, and splits the string into a tuple containing three elements.\n",
    "3. The first element contains the part before the specified string.\n",
    "4. The second element contains the specified string. \n",
    "5. The third element contains the part after the string."
   ]
  },
  {
   "cell_type": "code",
   "execution_count": 39,
   "id": "5baa8600",
   "metadata": {},
   "outputs": [
    {
     "name": "stdout",
     "output_type": "stream",
     "text": [
      "Help on built-in function partition:\n",
      "\n",
      "partition(sep, /) method of builtins.str instance\n",
      "    Partition the string into three parts using the given separator.\n",
      "    \n",
      "    This will search for the separator in the string.  If the separator is found,\n",
      "    returns a 3-tuple containing the part before the separator, the separator\n",
      "    itself, and the part after it.\n",
      "    \n",
      "    If the separator is not found, returns a 3-tuple containing the original string\n",
      "    and two empty strings.\n",
      "\n"
     ]
    }
   ],
   "source": [
    "help(str2.partition)"
   ]
  },
  {
   "cell_type": "markdown",
   "id": "8a53fdbd",
   "metadata": {},
   "source": [
    "#### sep: \n",
    "This is the separator that is used to split the string. The string is split into three parts:\n",
    "1. The part of the string before the first occurrence of \"sep.\"\n",
    "2. The \"sep\" itself.\n",
    "3. The part of the string after the first occurrence of \"sep.\""
   ]
  },
  {
   "cell_type": "code",
   "execution_count": 62,
   "id": "bb5fd66a",
   "metadata": {},
   "outputs": [
    {
     "data": {
      "text/plain": [
       "('python', ' ', 'is very interesting')"
      ]
     },
     "execution_count": 62,
     "metadata": {},
     "output_type": "execute_result"
    }
   ],
   "source": [
    "str2.partition(' ')#partitioned by space token"
   ]
  },
  {
   "cell_type": "code",
   "execution_count": 67,
   "id": "faaf1598",
   "metadata": {},
   "outputs": [
    {
     "data": {
      "text/plain": [
       "('m', 'a', 'layalam')"
      ]
     },
     "execution_count": 67,
     "metadata": {},
     "output_type": "execute_result"
    }
   ],
   "source": [
    "name.partition('a')#'''it actually divides into 3 tokens, the string which is given will be the 2nd token, left one will be different token and right one is other token"
   ]
  },
  {
   "cell_type": "code",
   "execution_count": 70,
   "id": "b8872d28",
   "metadata": {},
   "outputs": [
    {
     "data": {
      "text/plain": [
       "('malayalam', '', '')"
      ]
     },
     "execution_count": 70,
     "metadata": {},
     "output_type": "execute_result"
    }
   ],
   "source": [
    "name.partition('s') # \"s\" is not present in string so it checks from begining and gives an empty string at last"
   ]
  },
  {
   "cell_type": "code",
   "execution_count": 75,
   "id": "8db4b133",
   "metadata": {},
   "outputs": [
    {
     "data": {
      "text/plain": [
       "'malayalam'"
      ]
     },
     "execution_count": 75,
     "metadata": {},
     "output_type": "execute_result"
    }
   ],
   "source": [
    "name.partition('s')[0]+name.partition('z')[1]+name.partition('z')[2] #[70] line explanation\n"
   ]
  },
  {
   "cell_type": "markdown",
   "id": "e9df3eea",
   "metadata": {},
   "source": [
    "<b>rpartition() : </b>\n",
    "1. The rpartition() method searches for the last occurrence of a specified string, and splits the string into a tuple containing three elements.\n",
    "2. The first element contains the part before the specified string. The second element contains the specified string. The third element contains the part after the string.\n"
   ]
  },
  {
   "cell_type": "code",
   "execution_count": 80,
   "id": "b0b3ce86",
   "metadata": {},
   "outputs": [
    {
     "data": {
      "text/plain": [
       "('malayal', 'a', 'm')"
      ]
     },
     "execution_count": 80,
     "metadata": {},
     "output_type": "execute_result"
    }
   ],
   "source": [
    "name.rpartition('a') # from right to left the split will be there"
   ]
  },
  {
   "cell_type": "code",
   "execution_count": 83,
   "id": "1a63aad2",
   "metadata": {},
   "outputs": [
    {
     "data": {
      "text/plain": [
       "('', '', 'malayalam')"
      ]
     },
     "execution_count": 83,
     "metadata": {},
     "output_type": "execute_result"
    }
   ],
   "source": [
    "name.rpartition('z')# it checks complete string will be displayed and then gives empty space. "
   ]
  },
  {
   "cell_type": "markdown",
   "id": "ed2cf07c",
   "metadata": {},
   "source": [
    "<b>splitlines():</b>\n",
    "1. The splitlines() method splits a string into a list. The splitting is done at line breaks."
   ]
  },
  {
   "cell_type": "code",
   "execution_count": 43,
   "id": "e8e47e26",
   "metadata": {},
   "outputs": [
    {
     "name": "stdout",
     "output_type": "stream",
     "text": [
      "Help on built-in function splitlines:\n",
      "\n",
      "splitlines(keepends=False) method of builtins.str instance\n",
      "    Return a list of the lines in the string, breaking at line boundaries.\n",
      "    \n",
      "    Line breaks are not included in the resulting list unless keepends is given and\n",
      "    true.\n",
      "\n"
     ]
    }
   ],
   "source": [
    "help(tounge_twister.splitlines)"
   ]
  },
  {
   "cell_type": "markdown",
   "id": "a8d3988d",
   "metadata": {},
   "source": [
    "#### keepends (optional, default=False):\n",
    "* This is a boolean parameter that determines whether the line endings should be included in the resulting lines.\n",
    "* If keepends is set to True, the line endings (e.g., newline characters, \"\\n\") are retained at the end of each line in the list. \n",
    "* If it's set to False (the default), the line endings are removed from each line."
   ]
  },
  {
   "cell_type": "code",
   "execution_count": 42,
   "id": "a2525c60",
   "metadata": {},
   "outputs": [
    {
     "name": "stdout",
     "output_type": "stream",
     "text": [
      "I thought a thought. \n",
      "But the thought I thought wasn’t the thought I thought I thought. \n",
      "If the thought I thought I thought had been the thought I thought, I wouldn’t have thought I thought.\n"
     ]
    }
   ],
   "source": [
    "tounge_twister = '''I thought a thought. \n",
    "But the thought I thought wasn’t the thought I thought I thought. \n",
    "If the thought I thought I thought had been the thought I thought, I wouldn’t have thought I thought.'''\n",
    "print(tounge_twister)"
   ]
  },
  {
   "cell_type": "code",
   "execution_count": 12,
   "id": "0795384a",
   "metadata": {},
   "outputs": [
    {
     "data": {
      "text/plain": [
       "['I thought a thought. ',\n",
       " 'But the thought I thought wasn’t the thought I thought I thought. ',\n",
       " 'If the thought I thought I thought had been the thought I thought, I wouldn’t have thought I thought.']"
      ]
     },
     "execution_count": 12,
     "metadata": {},
     "output_type": "execute_result"
    }
   ],
   "source": [
    "tounge_twister.splitlines()"
   ]
  },
  {
   "cell_type": "code",
   "execution_count": 1,
   "id": "29dde6f9",
   "metadata": {},
   "outputs": [
    {
     "name": "stdout",
     "output_type": "stream",
     "text": [
      "Help on method_descriptor:\n",
      "\n",
      "rfind(...)\n",
      "    S.rfind(sub[, start[, end]]) -> int\n",
      "    \n",
      "    Return the highest index in S where substring sub is found,\n",
      "    such that sub is contained within S[start:end].  Optional\n",
      "    arguments start and end are interpreted as in slice notation.\n",
      "    \n",
      "    Return -1 on failure.\n",
      "\n"
     ]
    }
   ],
   "source": [
    "help(str.rfind)"
   ]
  },
  {
   "cell_type": "code",
   "execution_count": 10,
   "id": "9495e397",
   "metadata": {},
   "outputs": [
    {
     "name": "stdout",
     "output_type": "stream",
     "text": [
      "Help on built-in function center:\n",
      "\n",
      "center(width, fillchar=' ', /) method of builtins.str instance\n",
      "    Return a centered string of length width.\n",
      "    \n",
      "    Padding is done using the specified fill character (default is a space).\n",
      "\n"
     ]
    }
   ],
   "source": [
    "help(v.center)"
   ]
  },
  {
   "cell_type": "code",
   "execution_count": null,
   "id": "cea0160b",
   "metadata": {},
   "outputs": [],
   "source": []
  }
 ],
 "metadata": {
  "kernelspec": {
   "display_name": "Python 3 (ipykernel)",
   "language": "python",
   "name": "python3"
  },
  "language_info": {
   "codemirror_mode": {
    "name": "ipython",
    "version": 3
   },
   "file_extension": ".py",
   "mimetype": "text/x-python",
   "name": "python",
   "nbconvert_exporter": "python",
   "pygments_lexer": "ipython3",
   "version": "3.11.5"
  }
 },
 "nbformat": 4,
 "nbformat_minor": 5
}
